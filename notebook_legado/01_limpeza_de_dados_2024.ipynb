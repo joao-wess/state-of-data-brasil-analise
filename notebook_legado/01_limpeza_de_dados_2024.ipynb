{
 "cells": [
  {
   "cell_type": "code",
   "execution_count": 1,
   "id": "e391d85d",
   "metadata": {},
   "outputs": [],
   "source": [
    "import pandas as pd\n",
    "import numpy as np\n",
    "from pathlib import Path"
   ]
  },
  {
   "cell_type": "markdown",
   "id": "7ec857a2",
   "metadata": {},
   "source": [
    "### 1 - Caminho dos dataframes"
   ]
  },
  {
   "cell_type": "code",
   "execution_count": 2,
   "id": "887ed817",
   "metadata": {},
   "outputs": [
    {
     "name": "stdout",
     "output_type": "stream",
     "text": [
      "dados carregados com sucesso\n"
     ]
    }
   ],
   "source": [
    "# 1 - base dos caminhos dos datasframes\n",
    "BASE_DIR = Path.cwd().parent\n",
    "RAW_DATA_DIR = BASE_DIR / 'data' / 'raw'\n",
    "PROCESSED_DATA_DIR = BASE_DIR / 'data' / 'processed'\n",
    "\n",
    "#definindo nome do arquivo que vou usar\n",
    "FILE_NAME_2024 = 'State_of_data_2024.csv'\n",
    "INPUT_FILE = RAW_DATA_DIR / FILE_NAME_2024\n",
    "\n",
    "# 2- carregando os dados\n",
    "try: \n",
    "  df_2024 = pd.read_csv(INPUT_FILE)\n",
    "  print('dados carregados com sucesso')\n",
    "except FileNotFoundError as erro:\n",
    "  print(erro)\n",
    "  print('Verifique o caminho ou se o arquivo está correto')"
   ]
  },
  {
   "cell_type": "markdown",
   "id": "40a39ff4",
   "metadata": {},
   "source": [
    "### 2 - Inspeção inicial do data frame 2024"
   ]
  },
  {
   "cell_type": "code",
   "execution_count": 3,
   "id": "5da18bfb",
   "metadata": {},
   "outputs": [
    {
     "data": {
      "text/plain": [
       "Index(['0.a_token', '0.d_data/hora_envio', '1.a_idade', '1.a.1_faixa_idade',\n",
       "       '1.b_genero', '1.c_cor/raca/etnia', '1.d_pcd',\n",
       "       '1.e_experiencia_profissional_prejudicada',\n",
       "       '1.e.1_Não acredito que minha experiência profissional seja afetada',\n",
       "       '1.e.2_Sim, devido a minha Cor/Raça/Etnia',\n",
       "       ...\n",
       "       '8.d.3_Entrando em contato com os times de negócio para definição do problema, identificar a solução e apresentação de resultados.',\n",
       "       '8.d.4_Desenvolvendo modelos de Machine Learning com o objetivo de colocar em produção em sistemas (produtos de dados).',\n",
       "       '8.d.5_Colocando modelos em produção, criando os pipelines de dados, APIs de consumo e monitoramento.',\n",
       "       '8.d.6_Cuidando da manutenção de modelos de Machine Learning já em produção, atuando no monitoramento, ajustes e refatoração quando necessário.',\n",
       "       '8.d.7_Realizando construções de dashboards em ferramentas de BI como PowerBI, Tableau, Looker, Qlik, etc.',\n",
       "       '8.d.8_Utilizando ferramentas avançadas de estatística como SAS, SPSS, Stata etc, para realizar análises.',\n",
       "       '8.d.9_Criando e dando manutenção em ETLs, DAGs e automações de pipelines de dados.',\n",
       "       '8.d.10_Criando e gerenciando soluções de Feature Store e cultura de MLOps.',\n",
       "       '8.d.11_Criando e mantendo a infra que meus modelos e soluções rodam (clusters, servidores, API, containers, etc.)',\n",
       "       '8.d.12_Treinando e aplicando LLM's para solucionar problemas de negócio.'],\n",
       "      dtype='object', length=403)"
      ]
     },
     "execution_count": 3,
     "metadata": {},
     "output_type": "execute_result"
    }
   ],
   "source": [
    "df_2024.columns"
   ]
  },
  {
   "cell_type": "code",
   "execution_count": 4,
   "id": "84188a77",
   "metadata": {},
   "outputs": [
    {
     "data": {
      "text/html": [
       "<div>\n",
       "<style scoped>\n",
       "    .dataframe tbody tr th:only-of-type {\n",
       "        vertical-align: middle;\n",
       "    }\n",
       "\n",
       "    .dataframe tbody tr th {\n",
       "        vertical-align: top;\n",
       "    }\n",
       "\n",
       "    .dataframe thead th {\n",
       "        text-align: right;\n",
       "    }\n",
       "</style>\n",
       "<table border=\"1\" class=\"dataframe\">\n",
       "  <thead>\n",
       "    <tr style=\"text-align: right;\">\n",
       "      <th></th>\n",
       "      <th>1.a_idade</th>\n",
       "    </tr>\n",
       "  </thead>\n",
       "  <tbody>\n",
       "    <tr>\n",
       "      <th>0</th>\n",
       "      <td>18</td>\n",
       "    </tr>\n",
       "    <tr>\n",
       "      <th>1</th>\n",
       "      <td>18</td>\n",
       "    </tr>\n",
       "    <tr>\n",
       "      <th>2</th>\n",
       "      <td>18</td>\n",
       "    </tr>\n",
       "    <tr>\n",
       "      <th>3</th>\n",
       "      <td>18</td>\n",
       "    </tr>\n",
       "    <tr>\n",
       "      <th>4</th>\n",
       "      <td>18</td>\n",
       "    </tr>\n",
       "    <tr>\n",
       "      <th>...</th>\n",
       "      <td>...</td>\n",
       "    </tr>\n",
       "    <tr>\n",
       "      <th>5212</th>\n",
       "      <td>66</td>\n",
       "    </tr>\n",
       "    <tr>\n",
       "      <th>5213</th>\n",
       "      <td>66</td>\n",
       "    </tr>\n",
       "    <tr>\n",
       "      <th>5214</th>\n",
       "      <td>68</td>\n",
       "    </tr>\n",
       "    <tr>\n",
       "      <th>5215</th>\n",
       "      <td>68</td>\n",
       "    </tr>\n",
       "    <tr>\n",
       "      <th>5216</th>\n",
       "      <td>68</td>\n",
       "    </tr>\n",
       "  </tbody>\n",
       "</table>\n",
       "<p>5217 rows × 1 columns</p>\n",
       "</div>"
      ],
      "text/plain": [
       "      1.a_idade\n",
       "0            18\n",
       "1            18\n",
       "2            18\n",
       "3            18\n",
       "4            18\n",
       "...         ...\n",
       "5212         66\n",
       "5213         66\n",
       "5214         68\n",
       "5215         68\n",
       "5216         68\n",
       "\n",
       "[5217 rows x 1 columns]"
      ]
     },
     "execution_count": 4,
     "metadata": {},
     "output_type": "execute_result"
    }
   ],
   "source": [
    "df_2024.select_dtypes('int64')"
   ]
  },
  {
   "cell_type": "code",
   "execution_count": 5,
   "id": "c4862f3f",
   "metadata": {},
   "outputs": [],
   "source": [
    "df_2024['1.a_idade'] = df_2024['1.a_idade'].astype('int8')"
   ]
  },
  {
   "cell_type": "code",
   "execution_count": 6,
   "id": "5eb86922",
   "metadata": {},
   "outputs": [
    {
     "name": "stdout",
     "output_type": "stream",
     "text": [
      "<class 'pandas.core.frame.DataFrame'>\n",
      "RangeIndex: 5217 entries, 0 to 5216\n",
      "Columns: 403 entries, 0.a_token to 8.d.12_Treinando e aplicando LLM's para solucionar problemas de negócio.\n",
      "dtypes: bool(1), float64(323), int8(1), object(78)\n",
      "memory usage: 16.0+ MB\n"
     ]
    }
   ],
   "source": [
    "df_2024.info()"
   ]
  },
  {
   "cell_type": "code",
   "execution_count": 7,
   "id": "e5e36978",
   "metadata": {},
   "outputs": [
    {
     "name": "stdout",
     "output_type": "stream",
     "text": [
      "['0.a_token', '0.d_data/hora_envio', '1.a_idade', '1.a.1_faixa_idade', '1.b_genero', '1.c_cor/raca/etnia', '1.d_pcd', '1.e_experiencia_profissional_prejudicada', '1.e.1_Não acredito que minha experiência profissional seja afetada', '1.e.2_Sim, devido a minha Cor/Raça/Etnia', '1.e.3_Sim, devido a minha identidade de gênero', '1.e.4_Sim, devido ao fato de ser PCD', '1.i.1_uf_onde_mora', '1.f.1_Quantidade de oportunidades de emprego/vagas recebidas', '1.f.2_Senioridade das vagas recebidas em relação à sua experiência', '1.f.3_Aprovação em processos seletivos/entrevistas', '1.f.4_Oportunidades de progressão de carreira', '1.f.5_Velocidade de progressão de carreira', '1.f.6_Nível de cobrança no trabalho/Stress no trabalho', '1.f.7_Atenção dada pelas pessoas diante das minhas opiniões e ideias', '1.f.8_Relação com outras pessoas da empresa, em momentos de trabalho', '1.f.9_Relação com outras pessoas da empresa, em momentos de integração e outros momentos fora do trabalho', '1.i.2_regiao_onde_mora', '1.f_aspectos_prejudicados', '1.k.1_uf_de_origem', '1.k.2_regiao_de_origem', '1.g_vive_no_brasil', '1.h_pais_onde_mora', '1.i_estado_onde_mora', '1.j_vive_no_estado_de_formacao', '1.k_estado_de_origem', '1.l_nivel_de_ensino', '1.m_área_de_formação', '2.a_situação_de_trabalho', '2.b_setor', '2.c_numero_de_funcionarios', '2.d_atua_como_gestor', '2.e_cargo_como_gestor', '2.f_cargo_atual', '2.g_nivel', '2.h_faixa_salarial', '2.i_tempo_de_experiencia_em_dados', '2.j_tempo_de_experiencia_em_ti', '2.k_satisfeito_atualmente', '2.l.1_Remuneração/Salário', '2.l.2_Benefícios', '2.l.3_Propósito do trabalho e da empresa', '2.l.4_Flexibilidade de trabalho remoto', '2.l.5_Ambiente e clima de trabalho', '2.l.6_Oportunidade de aprendizado e trabalhar com referências', '2.l.7_Oportunidades de crescimento', '2.l.8_Maturidade da empresa em termos de tecnologia e dados', '2.l.9_Relação com os gestores e líderes', '2.l.10_Reputação que a empresa tem no mercado', '2.l.11_Gostaria de trabalhar em outra área', '2.l_motivo_insatisfacao', '2.m_participou_de_entrevistas_ultimos_6m', '2.n_planos_de_mudar_de_emprego_6m', '2.o_criterios_para_escolha_de_emprego', '2.o.1_Remuneração/Salário', '2.o.2_Benefícios', '2.o.3_Propósito do trabalho e da empresa', '2.o.4_Flexibilidade de trabalho remoto', '2.o.5_Ambiente e clima de trabalho', '2.o.6_Oportunidade de aprendizado e trabalhar com referências', '2.o.7_Plano de carreira e oportunidades de crescimento', '2.o.8_Maturidade da empresa em termos de tecnologia e dados', '2.o.9_Qualidade dos gestores e líderes', '2.o.10_Reputação que a empresa tem no mercado', '2.q_empresa_passou_por_layoff_em_2024', '2.r_modelo_de_trabalho_atual', '2.s_modelo_de_trabalho_ideal', '2.t_atitude_em_caso_de_retorno_presencial', '3.a_numero_de_pessoas_em_dados', '3.b_cargos_no_time_de_dados_da_empresa', '3.b.1_Analytics Engineer', '3.b.2_Engenharia de Dados/Data Engineer', '3.b.3_Analista de Dados/Data Analyst', '3.b.4_Cientista de Dados/Data Scientist', '3.b.5_Database Administrator/DBA', '3.b.6_Analista de Business Intelligence/BI', '3.b.7_Arquiteto de Dados/Data Architect', '3.b.8_Data Product Manager/DPM', '3.b.9_Business Analyst', '3.b.10_ML Engineer/AI Engineer', '3.c_responsabilidades_como_gestor', '3.c.1_Pensar na visão de longo prazo de dados', '3.c.2_Organização de treinamentos e iniciativas', '3.c.3_Atração, seleção e contratação', '3.c.4_Decisão sobre contratação de ferramentas', '3.c.5_gestor da equipe de engenharia de dados', '3.c.6_gestor da equipe de estudos, relatórios', '3.c.7_gestor da equipe de Inteligência Artificial e Machine Learning', '3.c.8_Apesar de ser gestor ainda atuo na parte técnica', '3.c.9_Gestão de projetos de dados', '3.c.10_Gestão de produtos de dados', '3.c.11_Gestão de pessoas', '3.d_desafios_como_gestor', '3.d.1_Contratar talentos', '3.d.2_Reter talentos', '3.d.3_Convencer a empresa a aumentar investimentos', '3.d.4_Gestão de equipes no ambiente remoto', '3.d.5_Gestão de projetos envolvendo áreas multidisciplinares', '3.d.6_Organizar as informações com qualidade e confiabilidade', '3.d.7_Processar e armazenar um alto volume de dados', '3.d.8_Gerar valor para as áreas de negócios', '3.d.9_Desenvolver e manter modelos Machine Learning em produção', '3.d.10_Gerenciar a expectativa das áreas', '3.d.11_Garantir a manutenção dos projetos e modelos em produção', '3.d.12_Conseguir levar inovação para a empresa', '3.d.13_Garantir (ROI) em projetos de dados', '3.d.14_Dividir o tempo entre entregas técnicas e gestão', '3.e_ai_generativa_e_llm_é_uma_prioridade?', '3.f_tipo_de_uso_de_ai_generativa_e_llm_na_empresa', '3.f.1 Colaboradores usando AI generativa de forma independente e descentralizada', '3.f.2 Direcionamento centralizado do uso de AI generativa', '3.f.3 Desenvolvedores utilizando Copilots', '3.f.4 AI Generativa e LLMs para melhorar produtos externos para os clientes finais', '3.f.5 AI Generativa e LLMs para melhorar produtos internos para os colaboradores', '3.f.6 IA Generativa e LLMs como principal frente do negócio', '3.f.7 IA Generativa e LLMs não é prioridade', '3.f.8 Não sei opinar sobre o uso de IA Generativa e LLMs na empresa', '3.g_motivos_para_não_usar_ai_generativa_e_llm', '3.g.1 Falta de compreensão dos casos de uso', '3.g.2 Falta de confiabilidade das saídas (alucinação dos modelos)', '3.g.3 Incerteza em relação a regulamentação', '3.g.4 Preocupações com segurança e privacidade de dados', '3.g.5 Retorno sobre investimento (ROI) não comprovado de IA Generativa', '3.g.6 Dados da empresa não estão prontos para uso de IA Generativa', '3.g.7 Falta de expertise ou falta de recursos', '3.g.8 Alta direção da empresa não vê valor ou não vê como prioridade', '3.g.9 Preocupações com propriedade intelectual', '4.a_funcao_de_atuacao', '4.a.1_atuacao_em_dados', '4.b_fontes_de_dados_(dia_a_dia)', '4.b.1_Dados relacionais (estruturados em bancos SQL)', '4.b.2_Dados armazenados em bancos NoSQL', '4.b.3_Imagens', '4.b.4_Textos/Documentos', '4.b.5_Vídeos', '4.b.6_Áudios', '4.b.7_Planilhas', '4.b.8_Dados georeferenciados', '4.c_fonte_de_dado_mais_usada', '4.c.1_Dados relacionais (estruturados em bancos SQL)', '4.c.2_Dados armazenados em bancos NoSQL', '4.c.3_Imagens', '4.c.4_Textos/Documentos', '4.c.5_Vídeos', '4.c.6_Áudios', '4.c.7_Planilhas', '4.c.8_Dados georeferenciados', '4.d_linguagem_de_programacao_(dia_a_dia)', '4.d.1_SQL', '4.d.2_R', '4.d.3_Python', '4.d.4_C/C++/C#', '4.d.5_.NET', '4.d.6_Java', '4.d.7_Julia', '4.d.8_SAS/Stata', '4.d.9_Visual Basic/VBA', '4.d.10_Scala', '4.d.11_Matlab', '4.d.12_Rust', '4.d.13_PHP', '4.d.14_JavaScript', '4.d.15_Não utilizo nenhuma das linguagens listadas', '4.e_linguagem_mais_usada', '4.f_linguagem_preferida', '4.g_banco_de_dados_(dia_a_dia)', '4.g.1_MySQL', '4.g.2_Oracle', '4.g.3_SQL SERVER', '4.g.4_Amazon Aurora ou RDS', '4.g.5_DynamoDB', '4.g.6_CoachDB', '4.g.7_Cassandra', '4.g.8_MongoDB', '4.g.9_MariaDB', '4.g.10_Datomic', '4.g.11_S3', '4.g.12_PostgreSQL', '4.g.13_ElasticSearch', '4.g.14_DB2', '4.g.15_Microsoft Access', '4.g.16_SQLite', '4.g.17_Sybase', '4.g.18_Firebase', '4.g.19_Vertica', '4.g.20_Redis', '4.g.21_Neo4J', '4.g.22_Google BigQuery', '4.g.23_Google Firestore', '4.g.24_Amazon Redshift', '4.g.25_Amazon Athena', '4.g.26_Snowflake', '4.g.27_Databricks', '4.g.28_HBase', '4.g.29_Presto', '4.g.30_Splunk', '4.g.31_SAP HANA', '4.g.32_Hive', '4.g.33_Firebird', '4.h_cloud_(dia_a_dia)', '4.h.1_Amazon Web Services (AWS)', '4.h.2_Google Cloud (GCP)', '4.h.3_Azure (Microsoft)', '4.h.4_Oracle Cloud', '4.h.5_IBM', '4.h.6_Servidores On Premise/Não utilizamos Cloud', '4.h.7_Cloud Própria', '4.i_cloud_preferida', '4.j_ferramenta_de_bi_(dia_a_dia)', '4.j.1_Microsoft PowerBI', '4.j.2_Qlik View/Qlik Sense', '4.j.3_Tableau', '4.j.4_Metabase', '4.j.5_Superset', '4.j.6_Redash', '4.j.7_Looker', '4.j.8_Looker Studio(Google Data Studio)', '4.j.9_Amazon Quicksight', '4.j.10_Alteryx', '4.j.11_SAP Business Objects/SAP Analytics', '4.j.12_Oracle Business Intelligence', '4.j.13_Salesforce/Einstein Analytics', '4.j.14_SAS Visual Analytics', '4.j.15_Grafana', '4.j.16_Pentaho', '4.j.17_Fazemos todas as análises utilizando apenas Excel ou planilhas do google', '4.j.18_Não utilizo nenhuma ferramenta de BI no trabalho', '4.k_ferramenta_de_bi_preferida', '4.l_tipo_de_uso_de_ai_generativa_e_llm_na_empresa', '4.l.1 Colaboradores usando AI generativa de forma independente e descentralizada', '4.l.2 Direcionamento centralizado do uso de AI generativa', '4.l.3 Desenvolvedores utilizando Copilots', '4.l.4 AI Generativa e LLMs para melhorar produtos externos para os clientes finais', '4.l.5 AI Generativa e LLMs para melhorar produtos internos para os colaboradores', '4.l.6 IA Generativa e LLMs como principal frente do negócio', '4.l.7 IA Generativa e LLMs não é prioridade', '4.l.8 Não sei opinar sobre o uso de IA Generativa e LLMs na empresa', '4.m_usa_chatgpt_ou_copilot_no_trabalho?', '4.m.1 Não uso soluções de AI Generativa com foco em produtividade', '4.m.2 Uso soluções gratuitas de AI Generativa com foco em produtividade', '4.m.3 Uso e pago pelas soluções de AI Generativa com foco em produtividade', '4.m.4 A empresa que trabalho paga pelas soluções de AI Generativa com foco em produtividade', '4.m.5 Uso soluções do tipo Copilot', '5.a_objetivo_na_area_de_dados', '5.b_oportunidade_buscada', '5.c_tempo_em_busca_de_oportunidade', '5.d_experiencia_em_processos_seletivos', '6.a_rotina_como_de', '6.a.1_Desenvolvo pipelines de dados utilizando linguagens de programação como Python, Scala, Java etc.', \"6.a.2_Realizo construções de ETL's em ferramentas como Pentaho, Talend, Dataflow etc.\", '6.a.3_Crio consultas através da linguagem SQL para exportar informações e compartilhar com as áreas de negócio.', '6.a.4_Atuo na integração de diferentes fontes de dados através de plataformas proprietárias como Stitch Data, Fivetran etc.', '6.a.5_Modelo soluções de arquitetura de dados, criando componentes de ingestão de dados, transformação e recuperação da informação.', '6.a.6_Desenvolvo/cuido da manutenção de repositórios de dados baseados em streaming de eventos como Data Lakes e Data Lakehouses.', '6.a.7_Atuo na modelagem dos dados, com o objetivo de criar conjuntos de dados como Data Warehouses, Data Marts, Datasets etc.', '6.a.8_Cuido da qualidade dos dados, metadados e dicionário de dados.', '6.a.9_Nenhuma das opções listadas refletem meu dia a dia.', '6.b_ferramentas_etl_de', '6.b.1_Scripts Python', '6.b.2_SQL & Stored Procedures', '6.b.3_Apache Airflow', '6.b.4_Apache NiFi', '6.b.5_Luigi', '6.b.6_AWS Glue', '6.b.7_Talend', '6.b.8_Pentaho', '6.b.9_Alteryx', '6.b.10_Stitch', '6.b.11_Fivetran', '6.b.12_Google Dataflow', '6.b.13_Oracle Data Integrator', '6.b.14_IBM DataStage', '6.b.15_SAP BW ETL', '6.b.16_SQL Server Integration Services (SSIS)', '6.b.17_SAS Data Integration', '6.b.18_Qlik Sense', '6.b.19_Knime', '6.b.20_Databricks', '6.b.21_Não utilizo ferramentas de ETL', '6.c_possui_data_lake', '6.d_tecnologia_data_lake', '6.e_possui_data_warehouse', '6.f_tecnologia_data_warehouse', '6.g_ferramentas_de_qualidade_de_dados_(dia_a_dia)', '6.h_maior_tempo_gasto_como_de', '6.h.1_Desenvolvendo pipelines de dados utilizando linguagens de programação como Python, Scala, Java etc.', '6.h.2_Realizando construções de ETL\\\\s em ferramentas como Pentaho, Talend, Dataflow etc.', '6.h.3_Criando consultas através da linguagem SQL para exportar informações e compartilhar com as áreas de negócio.', '6.h.4_Atuando na integração de diferentes fontes de dados através de plataformas proprietárias como Stitch Data, Fivetran etc.', '6.h.5_Modelando soluções de arquitetura de dados, criando componentes de ingestão de dados, transformação e recuperação da informação.', '6.h.6_Desenvolvendo/cuidando da manutenção de repositórios de dados baseados em streaming de eventos como Data Lakes e Data Lakehouses.', '6.h.7_Atuando na modelagem dos dados, com o objetivo de criar conjuntos de dados como Data Warehouses, Data Marts, Datasets etc.', '6.h.8_Cuidando da qualidade dos dados, metadados e dicionário de dados.', '6.h.9_Nenhuma das opções listadas refletem meu dia a dia.', '7.a_rotina_como_da', '7.a.1_Processo e analiso dados utilizando linguagens de programação como Python, R etc.', '7.a.2_Realizo construções de dashboards em ferramentas de BI como PowerBI, Tableau, Looker, Qlik etc.', '7.a.3_Crio consultas através da linguagem SQL para exportar informações e compartilhar com as áreas de negócio.', '7.a.4_Utilizo API\\\\s para extrair dados e complementar minhas análises.', '7.a.5_Realizo experimentos e estudos utilizando metodologias estatísticas como teste de hipótese, modelos de regressão etc.', '7.a.6_Desenvolvo/cuido da manutenção de ETL\\\\s utilizando tecnologias como Talend, Pentaho, Airflow, Dataflow etc.', '7.a.7_Atuo na modelagem dos dados, com o objetivo de criar conjuntos de dados como Data Warehouses, Data Marts etc.', '7.a.8_Desenvolvo/cuido da manutenção de planilhas para atender as áreas de negócio.', '7.a.9_Utilizo ferramentas avançadas de estatística como SAS, SPSS, Stata etc, para realizar análises de dados.', '7.a.10_Nenhuma das opções listadas refletem meu dia a dia.', '7.b_ferramentas_etl_da', '7.b.1_Scripts Python', '7.b.2_SQL & Stored Procedures', '7.b.3_Apache Airflow', '7.b.4_Apache NiFi', '7.b.5_Luigi', '7.b.6_AWS Glue', '7.b.7_Talend', '7.b.8_Pentaho', '7.b.9_Alteryx', '7.b.10_Stitch', '7.b.11_Fivetran', '7.b.12_Google Dataflow', '7.b.13_Oracle Data Integrator', '7.b.14_IBM DataStage', '7.b.15_SAP BW ETL', '7.b.16_SQL Server Integration Services (SSIS)', '7.b.17_SAS Data Integration', '7.b.18_Qlik Sense', '7.b.19_Knime', '7.b.20_Databricks', '7.b.21_Não utilizo ferramentas de ETL', '7.c_ferramentas_autonomia_area_de_negocios', '7.c.1_Ferramentas de AutoML como H2O.ai, Data Robot, BigML etc.', '7.c.2_\"Point and Click\" Analytics como Alteryx, Knime, Rapidminer etc.', '7.c.3_Product metricts & Insights como Mixpanel, Amplitude, Adobe Analytics.', '7.c.4_Ferramentas de análise dentro de ferramentas de CRM como Salesforce Einstein Anaytics ou Zendesk dashboards.', '7.c.5_Minha empresa não utiliza essas ferramentas.', '7.c.6_Não sei informar.', '7.d_maior_tempo_gasto_como_da', '7.d.1_Processando e analisando dados utilizando linguagens de programação como Python, R etc.', '7.d.2_Realizando construções de dashboards em ferramentas de BI como PowerBI, Tableau, Looker, Qlik etc.', '7.d.3_Criando consultas através da linguagem SQL para exportar informações e compartilhar com as áreas de negócio.', \"7.d.4_Utilizando API's para extrair dados e complementar minhas análises.\", '7.d.5_Realizando experimentos e estudos utilizando metodologias estatísticas como teste de hipótese, modelos de regressão etc.', \"7.d.6_Desenvolvendo/cuidando da manutenção de ETL's utilizando tecnologias como Talend, Pentaho, Airflow, Dataflow etc.\", '7.d.7_Atuando na modelagem dos dados, com o objetivo de criar conjuntos de dados como Data Warehouses, Data Marts, Datasets etc.', '7.d.8_Desenvolvendo/cuidando da manutenção de planilhas para atender as áreas de negócio.', '7.d.9_Utilizando ferramentas avançadas de estatística como SAS, SPSS, Stata etc, para realizar análises de dados.', '7.d.10_Nenhuma das opções listadas refletem meu dia a dia.', '8.a_rotina_como_ds', '8.a.1_Estudos Ad-hoc com o objetivo de confirmar hipóteses, realizar modelos preditivos, forecasts, análise de cluster para resolver problemas pontuais e responder perguntas das áreas de negócio.', '8.a.2_Sou responsável pela coleta e limpeza dos dados que uso para análise e modelagem.', '8.a.3_Sou responsável por entrar em contato com os times de negócio para definição do problema, identificar a solução e apresentação de resultados.', '8.a.4_Desenvolvo modelos de Machine Learning com o objetivo de colocar em produção em sistemas (produtos de dados).', '8.a.5_Sou responsável por colocar modelos em produção, criar os pipelines de dados, APIs de consumo e monitoramento.', '8.a.6_Cuido da manutenção de modelos de Machine Learning já em produção, atuando no monitoramento, ajustes e refatoração quando necessário.', '8.a.7_Realizo construções de dashboards em ferramentas de BI como PowerBI, Tableau, Looker, Qlik, etc', '8.a.8_Utilizo ferramentas avançadas de estatística como SAS, SPSS, Stata etc, para realizar análises.', '8.a.9_Crio e dou manutenção em ETLs, DAGs e automações de pipelines de dados.', '8.a.10_Crio e gerencio soluções de Feature Store e cultura de MLOps.', '8.a.11_Sou responsável por criar e manter a infra que meus modelos e soluções rodam (clusters, servidores, API, containers, etc.)', \"8.a.12_Treino e aplico LLM's para solucionar problemas de negócio.\", '8.b_tecnicas_e_metodos_ds', '8.b.1_Utilizo modelos de regressão (linear, logística, GLM).', '8.b.2_Utilizo redes neurais ou modelos baseados em árvore para criar modelos de classificação.', '8.b.3_Desenvolvo sistemas de recomendação (RecSys).', '8.b.4_Utilizo métodos estatísticos Bayesianos para analisar dados.', '8.b.5_Utilizo técnicas de NLP (Natural Language Processing) para análisar dados não-estruturados.', '8.b.6_Utilizo métodos estatísticos clássicos (Testes de hipótese, análise multivariada, sobrevivência, dados longitudinais, inferência estatistica) para analisar dados.', '8.b.7_Utilizo cadeias de Markov ou HMM\\\\s para realizar análises de dados.', '8.b.8_Desenvolvo técnicas de Clusterização (K-means, Spectral, DBScan etc).', '8.b.9_Realizo previsões através de modelos de Séries Temporais (Time Series).', '8.b.10_Utilizo modelos de Reinforcement Learning (aprendizado por reforço).', '8.b.11_Utilizo modelos de Machine Learning para detecção de fraude.', '8.b.12_Utilizo métodos de Visão Computacional.', '8.b.13_Utilizo modelos de Detecção de Churn.', \"8.b.14_Utilizo LLM's para solucionar problemas de negócio.\", '8.c_tecnologias_ds', '8.c.1_Ferramentas de BI (PowerBI, Looker, Tableau, Qlik etc).', '8.c.2_Planilhas (Excel, Google Sheets etc).', '8.c.3_Ambientes de desenvolvimento local (R-studio, JupyterLab, Anaconda).', '8.c.4_Ambientes de desenvolvimento na nuvem (Google Colab, AWS Sagemaker, Kaggle Notebooks etc).', '8.c.5_Ferramentas de AutoML (Datarobot, H2O, Auto-Keras etc).', '8.c.6_Ferramentas de ETL (Apache Airflow, NiFi, Stitch, Fivetran, Pentaho etc).', '8.c.7_Plataformas de Machine Learning (TensorFlow, Azure Machine Learning, Kubeflow etc).', '8.c.8_Feature Store (Feast, Hopsworks, AWS Feature Store, Databricks Feature Store etc).', '8.c.9_Sistemas de controle de versão (Github, DVC, Neptune, Gitlab etc).', '8.c.10_Plataformas de Data Apps (Streamlit, Shiny, Plotly Dash etc).', '8.c.11_Ferramentas de estatística avançada como SPSS, SAS, etc.', '8.d_maior_tempo_gasto_como_ds', '8.d.1_Estudos Ad-hoc com o objetivo de confirmar hipóteses, realizar modelos preditivos, forecasts, análise de cluster para resolver problemas pontuais e responder perguntas das áreas de negócio.', '8.d.2_Coletando e limpando dos dados que uso para análise e modelagem.', '8.d.3_Entrando em contato com os times de negócio para definição do problema, identificar a solução e apresentação de resultados.', '8.d.4_Desenvolvendo modelos de Machine Learning com o objetivo de colocar em produção em sistemas (produtos de dados).', '8.d.5_Colocando modelos em produção, criando os pipelines de dados, APIs de consumo e monitoramento.', '8.d.6_Cuidando da manutenção de modelos de Machine Learning já em produção, atuando no monitoramento, ajustes e refatoração quando necessário.', '8.d.7_Realizando construções de dashboards em ferramentas de BI como PowerBI, Tableau, Looker, Qlik, etc.', '8.d.8_Utilizando ferramentas avançadas de estatística como SAS, SPSS, Stata etc, para realizar análises.', '8.d.9_Criando e dando manutenção em ETLs, DAGs e automações de pipelines de dados.', '8.d.10_Criando e gerenciando soluções de Feature Store e cultura de MLOps.', '8.d.11_Criando e mantendo a infra que meus modelos e soluções rodam (clusters, servidores, API, containers, etc.)', \"8.d.12_Treinando e aplicando LLM's para solucionar problemas de negócio.\"]\n"
     ]
    }
   ],
   "source": [
    "print(df_2024.columns.tolist())"
   ]
  },
  {
   "cell_type": "code",
   "execution_count": 8,
   "id": "34c6fb18",
   "metadata": {},
   "outputs": [
    {
     "data": {
      "text/plain": [
       "4.g_banco_de_dados_(dia_a_dia)\n",
       "Google BigQuery                                         344\n",
       "Databricks                                              255\n",
       "SQL SERVER                                              195\n",
       "PostgreSQL                                               97\n",
       "MySQL                                                    90\n",
       "                                                       ... \n",
       "Databricks, MySQL, Google BigQuery                        1\n",
       "MongoDB, Amazon Aurora ou RDS, S3, PostgreSQL             1\n",
       "Hive, SAP HANA, Databricks                                1\n",
       "MongoDB, Google BigQuery, S3, PostgreSQL, SQL SERVER      1\n",
       "MongoDB, MySQL, Databricks, PostgreSQL                    1\n",
       "Name: count, Length: 1644, dtype: int64"
      ]
     },
     "execution_count": 8,
     "metadata": {},
     "output_type": "execute_result"
    }
   ],
   "source": [
    "df_2024['4.g_banco_de_dados_(dia_a_dia)'].value_counts()"
   ]
  },
  {
   "cell_type": "code",
   "execution_count": 9,
   "id": "a17f7211",
   "metadata": {},
   "outputs": [
    {
     "data": {
      "text/plain": [
       "4.h_cloud_(dia_a_dia)\n",
       "Amazon Web Services (AWS)                                                                                   962\n",
       "Azure (Microsoft)                                                                                           609\n",
       "Google Cloud (GCP)                                                                                          597\n",
       "Servidores On Premise/Não utilizamos Cloud                                                                  285\n",
       "Google Cloud (GCP), Amazon Web Services (AWS)                                                               113\n",
       "                                                                                                           ... \n",
       "Amazon Web Services (AWS), IBM, Google Cloud (GCP)                                                            1\n",
       "Teradata Vantage                                                                                              1\n",
       "Google Cloud (GCP), Azure (Microsoft), Amazon Web Services (AWS), Oracle Cloud                                1\n",
       "Não utilizo nuvem                                                                                             1\n",
       "Google Cloud (GCP), Cloud Própria, Servidores On Premise/Não utilizamos Cloud, Amazon Web Services (AWS)      1\n",
       "Name: count, Length: 221, dtype: int64"
      ]
     },
     "execution_count": 9,
     "metadata": {},
     "output_type": "execute_result"
    }
   ],
   "source": [
    "df_2024['4.h_cloud_(dia_a_dia)'].value_counts()"
   ]
  },
  {
   "cell_type": "code",
   "execution_count": 10,
   "id": "a202dafa",
   "metadata": {},
   "outputs": [
    {
     "data": {
      "text/plain": [
       "count                                4863\n",
       "unique                                 13\n",
       "top       de R$ 8.001/mês a R$ 12.000/mês\n",
       "freq                                 1080\n",
       "Name: 2.h_faixa_salarial, dtype: object"
      ]
     },
     "execution_count": 10,
     "metadata": {},
     "output_type": "execute_result"
    }
   ],
   "source": [
    "df_2024['2.h_faixa_salarial'].describe()"
   ]
  },
  {
   "cell_type": "markdown",
   "id": "14229877",
   "metadata": {},
   "source": [
    "### 3 - Renomeação colunas"
   ]
  },
  {
   "cell_type": "markdown",
   "id": "de1a4ee3",
   "metadata": {},
   "source": [
    "3.1 - dicionário com renomeação colunas"
   ]
  },
  {
   "cell_type": "code",
   "execution_count": 11,
   "id": "19f93100",
   "metadata": {},
   "outputs": [],
   "source": [
    "mapa_renomeacao = {\n",
    "    # === DEMOGRAFIA E EXPERIÊNCIA (Hipóteses 1-3) ===\n",
    "    '0.a_token': 'id_participante',\n",
    "    '0.d_data/hora_envio': 'data_envio',\n",
    "    '1.a_idade': 'idade',\n",
    "    '1.a.1_faixa_idade': 'faixa_idade',\n",
    "    '1.b_genero': 'genero',\n",
    "    '1.c_cor/raca/etnia': 'etnia',\n",
    "    '1.d_pcd': 'pcd',\n",
    "    '1.i.1_uf_onde_mora': 'uf_residencia',\n",
    "    '1.i.2_regiao_onde_mora': 'regiao_residencia',\n",
    "    '1.k.1_uf_de_origem': 'uf_origem',\n",
    "    '1.k.2_regiao_de_origem': 'regiao_origem',\n",
    "    '1.l_nivel_de_ensino': 'nivel_ensino',\n",
    "    '1.m_área_de_formação': 'area_formacao',\n",
    "\n",
    "    # === BUSCA POR EMPREGO (Hipótese 3) ===\n",
    "    '5.c_tempo_em_busca_de_oportunidade': 'tempo_busca_emprego_meses',\n",
    "    '5.b_oportunidade_buscada': 'tipo_oportunidade_buscada',\n",
    "    '2.m_participou_de_entrevistas_ultimos_6m': 'entrevistas_ultimos_6m',\n",
    "    \n",
    "    # === REMUNERAÇÃO E EQUIDADE (Hipóteses 4-7) ===\n",
    "    '2.h_faixa_salarial': 'faixa_salarial',\n",
    "    '2.g_nivel': 'nivel_hierarquico',\n",
    "    '2.f_cargo_atual': 'cargo_atual',\n",
    "    '2.i_tempo_de_experiencia_em_dados': 'experiencia_dados_anos',\n",
    "    '2.j_tempo_de_experiencia_em_ti': 'experiencia_ti_anos',\n",
    "    '2.a_situação_de_trabalho': 'situacao_trabalho',\n",
    "    '2.b_setor': 'setor_atuacao',\n",
    "    '2.c_numero_de_funcionarios': 'tamanho_empresa',\n",
    "    \n",
    "    # === FERRAMENTAS E TECNOLOGIAS (Hipóteses 8-13) ===\n",
    "    '4.d_linguagem_de_programacao_(dia_a_dia)': 'linguagens_usadas_dia_a_dia',\n",
    "    '4.e_linguagem_mais_usada': 'linguagem_principal',\n",
    "    '4.f_linguagem_preferida': 'linguagem_preferida',\n",
    "    '4.g_banco_de_dados_(dia_a_dia)': 'bancos_dados_usados_dia_a_dia',\n",
    "    '4.h_cloud_(dia_a_dia)': 'clouds_utilizadas',\n",
    "    '4.i_cloud_preferida': 'cloud_preferida',\n",
    "    '4.j_ferramenta_de_bi_(dia_a_dia)': 'ferramentas_bi_usadas_dia_a_dia',\n",
    "    '4.k_ferramenta_de_bi_preferida': 'bi_preferida',\n",
    "    \n",
    "    # === [ADIÇÃO SUGERIDA] Detalhes de Ferramentas (para Hipótese 8 e 11) ===\n",
    "    # '4.d.1_SQL': 'usa_sql',\n",
    "    # '4.d.2_R': 'usa_r',\n",
    "    # '4.d.3_Python': 'usa_python',\n",
    "    # '4.j.1_Microsoft PowerBI': 'usa_power_bi',\n",
    "    # '4.j.3_Tableau': 'usa_tableau',\n",
    "    # '4.j.8_Looker Studio(Google Data Studio)': 'usa_looker_studio',\n",
    "    # '4.h.1_Amazon Web Services (AWS)': 'usa_aws',\n",
    "    # '4.h.2_Google Cloud (GCP)': 'usa_gcp',\n",
    "    # '4.h.3_Azure (Microsoft)': 'usa_azure',\n",
    "\n",
    "\n",
    "    # === FORMAÇÃO E HABILIDADES (Hipóteses 14-17) ===\n",
    "    '5.a_objetivo_na_area_de_dados': 'objetivo_profissional',\n",
    "    \n",
    "    # IA Generativa (nova tendência)\n",
    "    '4.m_usa_chatgpt_ou_copilot_no_trabalho?': 'uso_ia_generativa_trabalho',\n",
    "    '3.e_ai_generativa_e_llm_é_uma_prioridade?': 'ia_generativa_prioridade',\n",
    "    \n",
    "    # === MODELO DE TRABALHO E SATISFAÇÃO (Hipóteses 18-21) ===\n",
    "    '2.r_modelo_de_trabalho_atual': 'modelo_trabalho_atual',\n",
    "    '2.s_modelo_de_trabalho_ideal': 'modelo_trabalho_ideal',\n",
    "    '2.k_satisfeito_atualmente': 'satisfacao_trabalho',\n",
    "    '2.n_planos_de_mudar_de_emprego_6m': 'planos_mudar_emprego',\n",
    "    \n",
    "    # Experiências profissionais (discriminação)\n",
    "    '1.e_experiencia_profissional_prejudicada': 'experiencia_prejudicada',\n",
    "    '1.e.2_Sim, devido a minha Cor/Raça/Etnia': 'prejudicado_raca_etnia',\n",
    "    '1.e.3_Sim, devido a minha identidade de gênero': 'prejudicado_genero',\n",
    "    '1.e.4_Sim, devido ao fato de ser PCD': 'prejudicado_pcd',\n",
    "    \n",
    "    # === ESPECÍFICO POR CARGO (Análises detalhadas) ===\n",
    "    # Data Engineer\n",
    "    '6.a_rotina_como_de': 'rotina_engenheiro_dados',\n",
    "    '6.b_ferramentas_etl_de': 'ferramentas_etl_engineer',\n",
    "    \n",
    "    # Data Analyst\n",
    "    '7.a_rotina_como_da': 'rotina_analista_dados',\n",
    "    '7.b_ferramentas_etl_da': 'ferramentas_etl_analyst',\n",
    "    \n",
    "    # Data Scientist\n",
    "    '8.a_rotina_como_ds': 'rotina_cientista_dados',\n",
    "    '8.b_tecnicas_e_metodos_ds': 'tecnicas_ml_cientista',\n",
    "    '8.c_tecnologias_ds': 'tecnologias_cientista',\n",
    "    \n",
    "    # === MOTIVAÇÕES E CRITÉRIOS ===\n",
    "    '2.o_criterios_para_escolha_de_emprego': 'criterios_escolha_emprego',\n",
    "    '2.l_motivo_insatisfacao': 'motivos_insatisfacao',\n",
    "\n",
    "    # === CONTEXTO DA EMPRESA E GESTÃO ===\n",
    "    '2.d_atua_como_gestor': 'atua_como_gestor',\n",
    "    '3.a_numero_de_pessoas_em_dados': 'tamanho_equipe_dados',\n",
    "    '3.d_desafios_como_gestor': 'desafios_gestor',\n",
    "    '2.q_empresa_passou_por_layoff_em_2024': 'empresa_teve_layoff_2024'\n",
    "}"
   ]
  },
  {
   "cell_type": "code",
   "execution_count": 12,
   "id": "1f2a2611",
   "metadata": {},
   "outputs": [
    {
     "data": {
      "text/plain": [
       "56"
      ]
     },
     "execution_count": 12,
     "metadata": {},
     "output_type": "execute_result"
    }
   ],
   "source": [
    "len(mapa_renomeacao)"
   ]
  },
  {
   "cell_type": "markdown",
   "id": "e6353dec",
   "metadata": {},
   "source": [
    "3.2 - Novo dataset com colunas renomeadas"
   ]
  },
  {
   "cell_type": "code",
   "execution_count": 13,
   "id": "e8ed2522",
   "metadata": {},
   "outputs": [
    {
     "name": "stdout",
     "output_type": "stream",
     "text": [
      "renomeando colunas\n",
      "colunas renomeada\n"
     ]
    }
   ],
   "source": [
    "try:\n",
    "  print(\"renomeando colunas\")\n",
    "  df_2024_renomeado = df_2024.rename(columns=mapa_renomeacao)\n",
    "  print(\"colunas renomeada\")\n",
    "except Exception as erro:\n",
    "  print(\"Houve um erro\" + erro)"
   ]
  },
  {
   "cell_type": "code",
   "execution_count": 14,
   "id": "1c27ad77",
   "metadata": {},
   "outputs": [
    {
     "data": {
      "text/plain": [
       "403"
      ]
     },
     "execution_count": 14,
     "metadata": {},
     "output_type": "execute_result"
    }
   ],
   "source": [
    "len(df_2024_renomeado.columns)"
   ]
  },
  {
   "cell_type": "markdown",
   "id": "94068543",
   "metadata": {},
   "source": [
    "### 4 - Limpando coluna de salário"
   ]
  },
  {
   "cell_type": "code",
   "execution_count": 15,
   "id": "9284a256",
   "metadata": {},
   "outputs": [
    {
     "data": {
      "text/plain": [
       "faixa_salarial\n",
       "False    4863\n",
       "True      354\n",
       "Name: count, dtype: int64"
      ]
     },
     "execution_count": 15,
     "metadata": {},
     "output_type": "execute_result"
    }
   ],
   "source": [
    "df_2024_renomeado['faixa_salarial'].isna().value_counts()"
   ]
  },
  {
   "cell_type": "code",
   "execution_count": 16,
   "id": "b98b95a2",
   "metadata": {},
   "outputs": [
    {
     "data": {
      "text/plain": [
       "array(['de R$ 1.001/mês a R$ 2.000/mês', 'Menos de R$ 1.000/mês', nan,\n",
       "       'de R$ 6.001/mês a R$ 8.000/mês', 'de R$ 3.001/mês a R$ 4.000/mês',\n",
       "       'de R$ 2.001/mês a R$ 3.000/mês', 'de R$ 4.001/mês a R$ 6.000/mês',\n",
       "       'de R$ 8.001/mês a R$ 12.000/mês',\n",
       "       'de R$ 12.001/mês a R$ 16.000/mês',\n",
       "       'de R$ 30.001/mês a R$ 40.000/mês',\n",
       "       'de R$ 20.001/mês a R$ 25.000/mês',\n",
       "       'de R$ 16.001/mês a R$ 20.000/mês',\n",
       "       'de R$ 25.001/mês a R$ 30.000/mês', 'Acima de R$ 40.001/mês'],\n",
       "      dtype=object)"
      ]
     },
     "execution_count": 16,
     "metadata": {},
     "output_type": "execute_result"
    }
   ],
   "source": [
    "df_2024_renomeado['faixa_salarial'].unique()"
   ]
  },
  {
   "cell_type": "markdown",
   "id": "7b9b5823",
   "metadata": {},
   "source": [
    "4.1 - Teste com a coluna faixa_salarial antes de implementar lógica de tratamento"
   ]
  },
  {
   "cell_type": "code",
   "execution_count": 17,
   "id": "628ff9a7",
   "metadata": {},
   "outputs": [
    {
     "name": "stdout",
     "output_type": "stream",
     "text": [
      "de R$ 4.001/mês a R$ 6.000/mês\n"
     ]
    }
   ],
   "source": [
    "amostras_salarias = [\n",
    "  'de R$ 4.001/mês a R$ 6.000/mês',\n",
    "  'de R$ 8.001/mês a R$ 12.000/mês',\n",
    "  'Mais de R$ 30.001/mês',\n",
    "  'Menos de R$ 1.000/mês'\n",
    "]\n",
    "\n",
    "teste_string_amostra_salarial = amostras_salarias[0]\n",
    "print(teste_string_amostra_salarial)"
   ]
  },
  {
   "cell_type": "code",
   "execution_count": 18,
   "id": "3e5bd7f7",
   "metadata": {},
   "outputs": [
    {
     "name": "stdout",
     "output_type": "stream",
     "text": [
      "de  4001 a  6000\n"
     ]
    }
   ],
   "source": [
    "string_limpa = teste_string_amostra_salarial.lower().replace('r$', '').replace('.', '').replace('/mês', '')\n",
    "\n",
    "print(string_limpa)"
   ]
  },
  {
   "cell_type": "code",
   "execution_count": 19,
   "id": "dd786b8d",
   "metadata": {},
   "outputs": [
    {
     "name": "stdout",
     "output_type": "stream",
     "text": [
      "['4001', '6000']\n",
      "<class 'list'>\n"
     ]
    }
   ],
   "source": [
    "import re\n",
    "\n",
    "numeros_encontrados = re.findall(r'[0-9]+', string_limpa)\n",
    "\n",
    "print(numeros_encontrados)\n",
    "print(type(numeros_encontrados))"
   ]
  },
  {
   "cell_type": "code",
   "execution_count": 20,
   "id": "b7760ad3",
   "metadata": {},
   "outputs": [
    {
     "name": "stdout",
     "output_type": "stream",
     "text": [
      "[4001, 6000]\n",
      "5000.5\n"
     ]
    }
   ],
   "source": [
    "numeros_int = [int(n) for n in numeros_encontrados]\n",
    "media = sum(numeros_int) / len(numeros_int)\n",
    "\n",
    "print(numeros_int)\n",
    "print(media)"
   ]
  },
  {
   "cell_type": "markdown",
   "id": "aab8a9f2",
   "metadata": {},
   "source": [
    "4.2 - Implementando função para limpar \"faixa_salarial\""
   ]
  },
  {
   "cell_type": "code",
   "execution_count": 21,
   "id": "b7d93f7d",
   "metadata": {},
   "outputs": [],
   "source": [
    "import re\n",
    "import numpy as np\n",
    "\n",
    "def converter_faixa_salarial(faixa):\n",
    "  #converir valores nulos ou faltantes e retornar NaN para n travar\n",
    "  if pd.isna(faixa):\n",
    "    return np.nan\n",
    "  \n",
    "  #limpeza da faixa\n",
    "  s = str(faixa).lower().replace('r$', '').replace('.', '').replace('/mês', '').strip()\n",
    "\n",
    "  #procurando dígitos\n",
    "  numeros = re.findall(r'[0-9]+', s)\n",
    "\n",
    "  # Converte os números encontrados (que são strings) para inteiros.\n",
    "  numeros_int = [int(n) for n in numeros]\n",
    "\n",
    "  #calcular a média\n",
    "  if len(numeros_int) == 2:\n",
    "    return np.mean(numeros_int)\n",
    "  elif len(numeros_int) == 1:\n",
    "    return float(numeros_int[0])\n",
    "  else: \n",
    "    return np.nan"
   ]
  },
  {
   "cell_type": "code",
   "execution_count": 22,
   "id": "a1953a0b",
   "metadata": {},
   "outputs": [
    {
     "name": "stdout",
     "output_type": "stream",
     "text": [
      "de R$ 4.001/mês a R$ 6.000/mês -> 5000.5\n",
      "de R$ 8.001/mês a R$ 12.000/mês -> 10000.5\n",
      "Mais de R$ 30.001/mês -> 30001.0\n",
      "Menos de R$ 1.000/mês -> 1000.0\n"
     ]
    }
   ],
   "source": [
    "#verificação da função\n",
    "for amostra in amostras_salarias:\n",
    "  print(f'{amostra} -> {converter_faixa_salarial(amostra)}')"
   ]
  },
  {
   "cell_type": "code",
   "execution_count": 23,
   "id": "38e49e60",
   "metadata": {},
   "outputs": [],
   "source": [
    "#implementação da função\n",
    "df_2024_renomeado['salario_medio_mensal'] = df_2024_renomeado['faixa_salarial'].apply(converter_faixa_salarial)"
   ]
  },
  {
   "cell_type": "code",
   "execution_count": 24,
   "id": "32f9af59",
   "metadata": {},
   "outputs": [
    {
     "data": {
      "text/html": [
       "<div>\n",
       "<style scoped>\n",
       "    .dataframe tbody tr th:only-of-type {\n",
       "        vertical-align: middle;\n",
       "    }\n",
       "\n",
       "    .dataframe tbody tr th {\n",
       "        vertical-align: top;\n",
       "    }\n",
       "\n",
       "    .dataframe thead th {\n",
       "        text-align: right;\n",
       "    }\n",
       "</style>\n",
       "<table border=\"1\" class=\"dataframe\">\n",
       "  <thead>\n",
       "    <tr style=\"text-align: right;\">\n",
       "      <th></th>\n",
       "      <th>faixa_salarial</th>\n",
       "      <th>salario_medio_mensal</th>\n",
       "    </tr>\n",
       "  </thead>\n",
       "  <tbody>\n",
       "    <tr>\n",
       "      <th>0</th>\n",
       "      <td>de R$ 1.001/mês a R$ 2.000/mês</td>\n",
       "      <td>1500.5</td>\n",
       "    </tr>\n",
       "    <tr>\n",
       "      <th>1</th>\n",
       "      <td>Menos de R$ 1.000/mês</td>\n",
       "      <td>1000.0</td>\n",
       "    </tr>\n",
       "    <tr>\n",
       "      <th>2</th>\n",
       "      <td>de R$ 1.001/mês a R$ 2.000/mês</td>\n",
       "      <td>1500.5</td>\n",
       "    </tr>\n",
       "    <tr>\n",
       "      <th>3</th>\n",
       "      <td>de R$ 1.001/mês a R$ 2.000/mês</td>\n",
       "      <td>1500.5</td>\n",
       "    </tr>\n",
       "    <tr>\n",
       "      <th>4</th>\n",
       "      <td>de R$ 1.001/mês a R$ 2.000/mês</td>\n",
       "      <td>1500.5</td>\n",
       "    </tr>\n",
       "    <tr>\n",
       "      <th>5</th>\n",
       "      <td>NaN</td>\n",
       "      <td>NaN</td>\n",
       "    </tr>\n",
       "    <tr>\n",
       "      <th>6</th>\n",
       "      <td>de R$ 6.001/mês a R$ 8.000/mês</td>\n",
       "      <td>7000.5</td>\n",
       "    </tr>\n",
       "    <tr>\n",
       "      <th>7</th>\n",
       "      <td>de R$ 1.001/mês a R$ 2.000/mês</td>\n",
       "      <td>1500.5</td>\n",
       "    </tr>\n",
       "    <tr>\n",
       "      <th>8</th>\n",
       "      <td>Menos de R$ 1.000/mês</td>\n",
       "      <td>1000.0</td>\n",
       "    </tr>\n",
       "    <tr>\n",
       "      <th>9</th>\n",
       "      <td>de R$ 3.001/mês a R$ 4.000/mês</td>\n",
       "      <td>3500.5</td>\n",
       "    </tr>\n",
       "    <tr>\n",
       "      <th>10</th>\n",
       "      <td>NaN</td>\n",
       "      <td>NaN</td>\n",
       "    </tr>\n",
       "    <tr>\n",
       "      <th>11</th>\n",
       "      <td>de R$ 2.001/mês a R$ 3.000/mês</td>\n",
       "      <td>2500.5</td>\n",
       "    </tr>\n",
       "    <tr>\n",
       "      <th>12</th>\n",
       "      <td>Menos de R$ 1.000/mês</td>\n",
       "      <td>1000.0</td>\n",
       "    </tr>\n",
       "    <tr>\n",
       "      <th>13</th>\n",
       "      <td>de R$ 3.001/mês a R$ 4.000/mês</td>\n",
       "      <td>3500.5</td>\n",
       "    </tr>\n",
       "    <tr>\n",
       "      <th>14</th>\n",
       "      <td>de R$ 4.001/mês a R$ 6.000/mês</td>\n",
       "      <td>5000.5</td>\n",
       "    </tr>\n",
       "    <tr>\n",
       "      <th>15</th>\n",
       "      <td>de R$ 2.001/mês a R$ 3.000/mês</td>\n",
       "      <td>2500.5</td>\n",
       "    </tr>\n",
       "    <tr>\n",
       "      <th>16</th>\n",
       "      <td>NaN</td>\n",
       "      <td>NaN</td>\n",
       "    </tr>\n",
       "    <tr>\n",
       "      <th>17</th>\n",
       "      <td>de R$ 3.001/mês a R$ 4.000/mês</td>\n",
       "      <td>3500.5</td>\n",
       "    </tr>\n",
       "    <tr>\n",
       "      <th>18</th>\n",
       "      <td>de R$ 3.001/mês a R$ 4.000/mês</td>\n",
       "      <td>3500.5</td>\n",
       "    </tr>\n",
       "    <tr>\n",
       "      <th>19</th>\n",
       "      <td>Menos de R$ 1.000/mês</td>\n",
       "      <td>1000.0</td>\n",
       "    </tr>\n",
       "  </tbody>\n",
       "</table>\n",
       "</div>"
      ],
      "text/plain": [
       "                    faixa_salarial  salario_medio_mensal\n",
       "0   de R$ 1.001/mês a R$ 2.000/mês                1500.5\n",
       "1            Menos de R$ 1.000/mês                1000.0\n",
       "2   de R$ 1.001/mês a R$ 2.000/mês                1500.5\n",
       "3   de R$ 1.001/mês a R$ 2.000/mês                1500.5\n",
       "4   de R$ 1.001/mês a R$ 2.000/mês                1500.5\n",
       "5                              NaN                   NaN\n",
       "6   de R$ 6.001/mês a R$ 8.000/mês                7000.5\n",
       "7   de R$ 1.001/mês a R$ 2.000/mês                1500.5\n",
       "8            Menos de R$ 1.000/mês                1000.0\n",
       "9   de R$ 3.001/mês a R$ 4.000/mês                3500.5\n",
       "10                             NaN                   NaN\n",
       "11  de R$ 2.001/mês a R$ 3.000/mês                2500.5\n",
       "12           Menos de R$ 1.000/mês                1000.0\n",
       "13  de R$ 3.001/mês a R$ 4.000/mês                3500.5\n",
       "14  de R$ 4.001/mês a R$ 6.000/mês                5000.5\n",
       "15  de R$ 2.001/mês a R$ 3.000/mês                2500.5\n",
       "16                             NaN                   NaN\n",
       "17  de R$ 3.001/mês a R$ 4.000/mês                3500.5\n",
       "18  de R$ 3.001/mês a R$ 4.000/mês                3500.5\n",
       "19           Menos de R$ 1.000/mês                1000.0"
      ]
     },
     "execution_count": 24,
     "metadata": {},
     "output_type": "execute_result"
    }
   ],
   "source": [
    "df_2024_renomeado[['faixa_salarial','salario_medio_mensal']].head(20)"
   ]
  },
  {
   "cell_type": "markdown",
   "id": "c6af969d",
   "metadata": {},
   "source": [
    "### 5 - Limpando coluna 'cargo_atual','nivel_hierarquico'"
   ]
  },
  {
   "cell_type": "code",
   "execution_count": 25,
   "id": "25aa2021",
   "metadata": {},
   "outputs": [
    {
     "data": {
      "text/plain": [
       "cargo_atual\n",
       "Analista de Dados/Data Analyst                                 957\n",
       "Cientista de Dados/Data Scientist                              687\n",
       "Engenheiro de Dados/Data Engineer/Data Architect               613\n",
       "Analista de BI/BI Analyst                                      396\n",
       "Outra Opção                                                    254\n",
       "Analytics Engineer                                             228\n",
       "Analista de Negócios/Business Analyst                          184\n",
       "Desenvolvedor/ Engenheiro de Software/ Analista de Sistemas    122\n",
       "Engenheiro de Machine Learning/ML Engineer/AI Engineer         103\n",
       "Data Product Manager/ Product Manager (PM/APM/DPM/GPM/PO)       80\n",
       "Analista de Suporte/Analista Técnico                            79\n",
       "Arquiteto de Dados/Data Architect                               48\n",
       "Outras Engenharias (não inclui dev)                             29\n",
       "Professor/Pesquisador                                           21\n",
       "Estatístico                                                     17\n",
       "Name: count, dtype: int64"
      ]
     },
     "execution_count": 25,
     "metadata": {},
     "output_type": "execute_result"
    }
   ],
   "source": [
    "df_2024_renomeado['cargo_atual'].value_counts()"
   ]
  },
  {
   "cell_type": "code",
   "execution_count": 26,
   "id": "e677a004",
   "metadata": {},
   "outputs": [
    {
     "name": "stdout",
     "output_type": "stream",
     "text": [
      "<class 'pandas.core.series.Series'>\n",
      "RangeIndex: 5217 entries, 0 to 5216\n",
      "Series name: nivel_hierarquico\n",
      "Non-Null Count  Dtype \n",
      "--------------  ----- \n",
      "3818 non-null   object\n",
      "dtypes: object(1)\n",
      "memory usage: 40.9+ KB\n"
     ]
    }
   ],
   "source": [
    "df_2024_renomeado['nivel_hierarquico'].info()"
   ]
  },
  {
   "cell_type": "code",
   "execution_count": 27,
   "id": "cedc6ce5",
   "metadata": {},
   "outputs": [
    {
     "data": {
      "text/plain": [
       "cargo_atual\n",
       "Analista de Dados/Data Analyst                                 957\n",
       "Cientista de Dados/Data Scientist                              687\n",
       "Engenheiro de Dados/Data Engineer/Data Architect               613\n",
       "Analista de BI/BI Analyst                                      396\n",
       "Outra Opção                                                    254\n",
       "Analytics Engineer                                             228\n",
       "Analista de Negócios/Business Analyst                          184\n",
       "Desenvolvedor/ Engenheiro de Software/ Analista de Sistemas    122\n",
       "Engenheiro de Machine Learning/ML Engineer/AI Engineer         103\n",
       "Data Product Manager/ Product Manager (PM/APM/DPM/GPM/PO)       80\n",
       "Analista de Suporte/Analista Técnico                            79\n",
       "Arquiteto de Dados/Data Architect                               48\n",
       "Outras Engenharias (não inclui dev)                             29\n",
       "Professor/Pesquisador                                           21\n",
       "Estatístico                                                     17\n",
       "Name: count, dtype: int64"
      ]
     },
     "execution_count": 27,
     "metadata": {},
     "output_type": "execute_result"
    }
   ],
   "source": [
    "df_2024_renomeado['cargo_atual'].value_counts()"
   ]
  },
  {
   "cell_type": "code",
   "execution_count": 28,
   "id": "d157638b",
   "metadata": {},
   "outputs": [],
   "source": [
    "#Função para agrupar em grupos\n",
    "def agrupar_cargo(cargo):\n",
    "  if pd.isna(cargo):\n",
    "    return 'Não se aplica/Outra área'\n",
    "  \n",
    "  cargo = cargo.lower()\n",
    "\n",
    "  if 'analista de dados' in cargo or 'data analyst' in cargo:\n",
    "    return 'Analista de Dados'\n",
    "  if 'cientista de dados' in cargo or 'data scientist' in cargo:\n",
    "    return 'Cientista de Dados'\n",
    "  if 'engenheiro de dados' in cargo or 'data engineer' in cargo or 'arquiteto de dados' in cargo or 'data architect' in cargo:\n",
    "    return 'Engenheiro de Dados'\n",
    "  if 'analista de bi' in cargo or 'bi analyst' in cargo:\n",
    "    return 'Analista de BI'\n",
    "  if 'analytics engineer' in cargo:\n",
    "    return 'Engenheiro de Analytics'\n",
    "  if 'machine learning' in cargo or 'ml engineer' in cargo:\n",
    "    return 'Engenheiro de ML'\n",
    "  if 'business analyst' in cargo or 'analista de negócios' in cargo:\n",
    "    return 'Analista de Negócios'\n",
    "  if 'product manager' in cargo or 'dpm' in cargo:\n",
    "    return 'Gestão de Produto de Dados'\n",
    "  else:\n",
    "    return 'Outros'"
   ]
  },
  {
   "cell_type": "code",
   "execution_count": 29,
   "id": "8f51bf37",
   "metadata": {},
   "outputs": [
    {
     "data": {
      "text/plain": [
       "grupo_cargo\n",
       "Não se aplica/Outra área      1399\n",
       "Analista de Dados              957\n",
       "Cientista de Dados             687\n",
       "Engenheiro de Dados            661\n",
       "Outros                         522\n",
       "Analista de BI                 396\n",
       "Engenheiro de Analytics        228\n",
       "Analista de Negócios           184\n",
       "Engenheiro de ML               103\n",
       "Gestão de Produto de Dados      80\n",
       "Name: count, dtype: int64"
      ]
     },
     "execution_count": 29,
     "metadata": {},
     "output_type": "execute_result"
    }
   ],
   "source": [
    "df_2024_renomeado['grupo_cargo'] = df_2024_renomeado['cargo_atual'].apply(agrupar_cargo)\n",
    "df_2024_renomeado['grupo_cargo'].value_counts()"
   ]
  },
  {
   "cell_type": "code",
   "execution_count": 30,
   "id": "d84f42cf",
   "metadata": {},
   "outputs": [],
   "source": [
    "sem_cargo_df = df_2024_renomeado[df_2024_renomeado['grupo_cargo'] == 'Não se aplica/Outra área']"
   ]
  },
  {
   "cell_type": "code",
   "execution_count": 31,
   "id": "cd40b73a",
   "metadata": {},
   "outputs": [
    {
     "data": {
      "text/plain": [
       "situacao_trabalho\n",
       "Empregado (CLT)                                                    52.54%\n",
       "Empreendedor ou Empregado (CNPJ)                                   15.58%\n",
       "Desempregado, buscando recolocação                                 14.65%\n",
       "Somente Estudante (graduação)                                       4.86%\n",
       "Trabalho na área Acadêmica/Pesquisador                               4.0%\n",
       "Servidor Público                                                    2.14%\n",
       "Somente Estudante (pós-graduação)                                   1.79%\n",
       "Vivo fora do Brasil e trabalho para empresa de fora do Brasil        1.5%\n",
       "Vivo no Brasil e trabalho remoto para empresa de fora do Brasil     1.22%\n",
       "Freelancer                                                          0.93%\n",
       "Prefiro não informar                                                0.57%\n",
       "Estagiário                                                          0.14%\n",
       "Desempregado e não estou buscando recolocação                       0.07%\n",
       "Name: proportion, dtype: object"
      ]
     },
     "execution_count": 31,
     "metadata": {},
     "output_type": "execute_result"
    }
   ],
   "source": [
    "sem_cargo_df['situacao_trabalho'].value_counts(normalize=True).mul(100).round(2).astype(str) + '%'"
   ]
  },
  {
   "cell_type": "markdown",
   "id": "6dfa8a16",
   "metadata": {},
   "source": [
    "### 6 - Limpando a coluna 'experiencia_dados_anos'"
   ]
  },
  {
   "cell_type": "code",
   "execution_count": 32,
   "id": "25755984",
   "metadata": {},
   "outputs": [
    {
     "data": {
      "text/plain": [
       "experiencia_dados_anos\n",
       "de 3 a 4 anos                             1386\n",
       "de 1 a 2 anos                              944\n",
       "de 5 a 6 anos                              830\n",
       "Mais de 10 anos                            585\n",
       "de 7 a 10 anos                             542\n",
       "Menos de 1 ano                             346\n",
       "Não tenho experiência na área de dados     230\n",
       "Name: count, dtype: int64"
      ]
     },
     "execution_count": 32,
     "metadata": {},
     "output_type": "execute_result"
    }
   ],
   "source": [
    "df_2024_renomeado['experiencia_dados_anos'].value_counts()"
   ]
  },
  {
   "cell_type": "code",
   "execution_count": 33,
   "id": "b23482db",
   "metadata": {},
   "outputs": [],
   "source": [
    "def converter_experiencia_anos_em_num(experiencia_texto):\n",
    "  \"\"\"\n",
    "  Recebe um texto de experiência (ex: 'de 1 a 2 anos') e o converte para um valor numérico representando os anos.\n",
    "  \"\"\"\n",
    "  if pd.isna(experiencia_texto):\n",
    "    return np.nan\n",
    "  \n",
    "  mapa_experiencia = {\n",
    "    'Não tenho experiência na área de dados': 0,\n",
    "    'Menos de 1 ano': 0.5,\n",
    "    'de 1 a 2 anos': 1.5,\n",
    "    'de 3 a 4 anos': 3.5,\n",
    "    'de 5 a 6 anos': 5.5,\n",
    "    'de 7 a 10 anos': 8.5,#média entre 7 e 10\n",
    "    'Mais de 10 anos': 12.0 #escolhido valor representativo\n",
    "  }\n",
    "\n",
    "  return mapa_experiencia.get(experiencia_texto, np.nan)"
   ]
  },
  {
   "cell_type": "code",
   "execution_count": 34,
   "id": "d80ab48e",
   "metadata": {},
   "outputs": [],
   "source": [
    "df_2024_renomeado['experiencia_anos_num'] = df_2024_renomeado['experiencia_dados_anos'].apply(converter_experiencia_anos_em_num)"
   ]
  },
  {
   "cell_type": "code",
   "execution_count": 35,
   "id": "15a0d98a",
   "metadata": {},
   "outputs": [
    {
     "data": {
      "text/plain": [
       "np.int64(354)"
      ]
     },
     "execution_count": 35,
     "metadata": {},
     "output_type": "execute_result"
    }
   ],
   "source": [
    "df_2024_renomeado['experiencia_anos_num'].isnull().sum()"
   ]
  },
  {
   "cell_type": "code",
   "execution_count": 36,
   "id": "c305bf40",
   "metadata": {},
   "outputs": [
    {
     "data": {
      "text/html": [
       "<div>\n",
       "<style scoped>\n",
       "    .dataframe tbody tr th:only-of-type {\n",
       "        vertical-align: middle;\n",
       "    }\n",
       "\n",
       "    .dataframe tbody tr th {\n",
       "        vertical-align: top;\n",
       "    }\n",
       "\n",
       "    .dataframe thead th {\n",
       "        text-align: right;\n",
       "    }\n",
       "</style>\n",
       "<table border=\"1\" class=\"dataframe\">\n",
       "  <thead>\n",
       "    <tr style=\"text-align: right;\">\n",
       "      <th></th>\n",
       "      <th>experiencia_anos_num</th>\n",
       "      <th>experiencia_dados_anos</th>\n",
       "    </tr>\n",
       "  </thead>\n",
       "  <tbody>\n",
       "    <tr>\n",
       "      <th>0</th>\n",
       "      <td>1.5</td>\n",
       "      <td>de 1 a 2 anos</td>\n",
       "    </tr>\n",
       "    <tr>\n",
       "      <th>1</th>\n",
       "      <td>0.5</td>\n",
       "      <td>Menos de 1 ano</td>\n",
       "    </tr>\n",
       "    <tr>\n",
       "      <th>2</th>\n",
       "      <td>0.0</td>\n",
       "      <td>Não tenho experiência na área de dados</td>\n",
       "    </tr>\n",
       "    <tr>\n",
       "      <th>3</th>\n",
       "      <td>0.5</td>\n",
       "      <td>Menos de 1 ano</td>\n",
       "    </tr>\n",
       "    <tr>\n",
       "      <th>4</th>\n",
       "      <td>0.5</td>\n",
       "      <td>Menos de 1 ano</td>\n",
       "    </tr>\n",
       "    <tr>\n",
       "      <th>5</th>\n",
       "      <td>NaN</td>\n",
       "      <td>NaN</td>\n",
       "    </tr>\n",
       "    <tr>\n",
       "      <th>6</th>\n",
       "      <td>5.5</td>\n",
       "      <td>de 5 a 6 anos</td>\n",
       "    </tr>\n",
       "    <tr>\n",
       "      <th>7</th>\n",
       "      <td>0.0</td>\n",
       "      <td>Não tenho experiência na área de dados</td>\n",
       "    </tr>\n",
       "    <tr>\n",
       "      <th>8</th>\n",
       "      <td>0.0</td>\n",
       "      <td>Não tenho experiência na área de dados</td>\n",
       "    </tr>\n",
       "    <tr>\n",
       "      <th>9</th>\n",
       "      <td>0.0</td>\n",
       "      <td>Não tenho experiência na área de dados</td>\n",
       "    </tr>\n",
       "    <tr>\n",
       "      <th>10</th>\n",
       "      <td>NaN</td>\n",
       "      <td>NaN</td>\n",
       "    </tr>\n",
       "    <tr>\n",
       "      <th>11</th>\n",
       "      <td>0.5</td>\n",
       "      <td>Menos de 1 ano</td>\n",
       "    </tr>\n",
       "    <tr>\n",
       "      <th>12</th>\n",
       "      <td>0.0</td>\n",
       "      <td>Não tenho experiência na área de dados</td>\n",
       "    </tr>\n",
       "    <tr>\n",
       "      <th>13</th>\n",
       "      <td>1.5</td>\n",
       "      <td>de 1 a 2 anos</td>\n",
       "    </tr>\n",
       "    <tr>\n",
       "      <th>14</th>\n",
       "      <td>0.5</td>\n",
       "      <td>Menos de 1 ano</td>\n",
       "    </tr>\n",
       "    <tr>\n",
       "      <th>15</th>\n",
       "      <td>1.5</td>\n",
       "      <td>de 1 a 2 anos</td>\n",
       "    </tr>\n",
       "    <tr>\n",
       "      <th>16</th>\n",
       "      <td>NaN</td>\n",
       "      <td>NaN</td>\n",
       "    </tr>\n",
       "    <tr>\n",
       "      <th>17</th>\n",
       "      <td>3.5</td>\n",
       "      <td>de 3 a 4 anos</td>\n",
       "    </tr>\n",
       "    <tr>\n",
       "      <th>18</th>\n",
       "      <td>1.5</td>\n",
       "      <td>de 1 a 2 anos</td>\n",
       "    </tr>\n",
       "    <tr>\n",
       "      <th>19</th>\n",
       "      <td>0.5</td>\n",
       "      <td>Menos de 1 ano</td>\n",
       "    </tr>\n",
       "  </tbody>\n",
       "</table>\n",
       "</div>"
      ],
      "text/plain": [
       "    experiencia_anos_num                  experiencia_dados_anos\n",
       "0                    1.5                           de 1 a 2 anos\n",
       "1                    0.5                          Menos de 1 ano\n",
       "2                    0.0  Não tenho experiência na área de dados\n",
       "3                    0.5                          Menos de 1 ano\n",
       "4                    0.5                          Menos de 1 ano\n",
       "5                    NaN                                     NaN\n",
       "6                    5.5                           de 5 a 6 anos\n",
       "7                    0.0  Não tenho experiência na área de dados\n",
       "8                    0.0  Não tenho experiência na área de dados\n",
       "9                    0.0  Não tenho experiência na área de dados\n",
       "10                   NaN                                     NaN\n",
       "11                   0.5                          Menos de 1 ano\n",
       "12                   0.0  Não tenho experiência na área de dados\n",
       "13                   1.5                           de 1 a 2 anos\n",
       "14                   0.5                          Menos de 1 ano\n",
       "15                   1.5                           de 1 a 2 anos\n",
       "16                   NaN                                     NaN\n",
       "17                   3.5                           de 3 a 4 anos\n",
       "18                   1.5                           de 1 a 2 anos\n",
       "19                   0.5                          Menos de 1 ano"
      ]
     },
     "execution_count": 36,
     "metadata": {},
     "output_type": "execute_result"
    }
   ],
   "source": [
    "df_2024_renomeado[['experiencia_anos_num', 'experiencia_dados_anos']].head(20)"
   ]
  },
  {
   "cell_type": "code",
   "execution_count": 37,
   "id": "1723b9f5",
   "metadata": {},
   "outputs": [
    {
     "data": {
      "text/plain": [
       "count    4863.000000\n",
       "mean        4.653917\n",
       "std         3.581585\n",
       "min         0.000000\n",
       "25%         1.500000\n",
       "50%         3.500000\n",
       "75%         5.500000\n",
       "max        12.000000\n",
       "Name: experiencia_anos_num, dtype: float64"
      ]
     },
     "execution_count": 37,
     "metadata": {},
     "output_type": "execute_result"
    }
   ],
   "source": [
    "df_2024_renomeado['experiencia_anos_num'].describe()"
   ]
  },
  {
   "cell_type": "markdown",
   "id": "60cec3d8",
   "metadata": {},
   "source": [
    "### 7- limpando coluna multiseleção: 'linguagens_usadas_dia_a_dia'"
   ]
  },
  {
   "cell_type": "code",
   "execution_count": 38,
   "id": "f1d6127f",
   "metadata": {},
   "outputs": [
    {
     "name": "stdout",
     "output_type": "stream",
     "text": [
      "['Python, JavaScript, SQL', 'Python', 'Não utilizo linguagem de programação no trabalho', 'SQL', 'SQL, JavaScript', nan, 'SQL, Python', 'Python, SQL', 'Python, SQL, Visual Basic/VBA', 'SQL, R, Python', 'SQL, Python, Visual Basic/VBA, PHP', 'SQL, Python, JavaScript', 'SQL, Python, PHP', 'SQL, Python, SAS/Stata, Visual Basic/VBA', 'Visual Basic/VBA', 'Visual Basic/VBA, SQL', 'SQL, Python, R, Scala', 'Python, R, SQL', 'SQL, Python, Scala', 'SQL, R', 'SQL, Não utilizo linguagem de programação no trabalho', 'JavaScript, Visual Basic/VBA', 'SQL, Python, JavaScript, Visual Basic/VBA', 'Python, Visual Basic/VBA', 'SQL, Python, SAS/Stata, Java', 'SQL, Python, Java', 'SQL, Python, PHP, JavaScript', 'SQL, PHP, Python', 'R', 'Python, SQL, SAS/Stata', 'SQL, C/C++/C#, Python, .NET', 'SQL, R, PHP', 'SQL, Python, Java, Rust, Scala', 'SQL, Python, R', 'SQL, Python, SAS/Stata', 'Python, SQL, Rust', 'Python, C/C++/C#, .NET, SQL', 'SQL, Python, Matlab, JavaScript', 'SQL, Python, C/C++/C#', 'R, SQL, Python', 'SQL, Python, Java, JavaScript', 'SQL, Python, R, Julia, Visual Basic/VBA', 'SQL, R, Python, Visual Basic/VBA, JavaScript', 'SQL, Visual Basic/VBA, Python, R', 'Python, R', 'SQL, R, Python, Visual Basic/VBA, Scala', 'R, Python', 'SQL, SAS/Stata', 'SQL, Python, .NET', 'SQL, R, Visual Basic/VBA', 'R, SQL, .NET, C/C++/C#, JavaScript', 'R, SQL', 'Python, JavaScript', 'Python, SQL, JavaScript', 'SQL, Python, Visual Basic/VBA', 'Python, SQL, JavaScript, R', 'SQL, Python, R, Visual Basic/VBA', 'SQL, Python, Java, Visual Basic/VBA', 'Scala', 'SQL, Python, JavaScript, PHP', 'SQL, Python, JavaScript, Matlab', '.NET, SQL', 'Python, SQL, R, Visual Basic/VBA', 'Scala, Python, SQL', 'Python, Scala', 'SQL, Python, Visual Basic/VBA, Scala, JavaScript', 'SQL, Visual Basic/VBA', 'SQL, Python, Java, Scala', 'SQL, PHP, JavaScript', 'Python, SQL, Visual Basic/VBA, JavaScript', 'SQL, R, Python, Visual Basic/VBA', 'SQL, R, Python, SAS/Stata', 'SQL, Python, Scala, Java', 'Python, SQL, R', 'SQL, Python, Matlab', 'R, Python, SQL', 'JavaScript', 'Visual Basic/VBA, Python', 'Python, SQL, Scala', 'Python, Não utilizo linguagem de programação no trabalho', 'Python, SQL, Java, Scala', 'Java, Python, JavaScript', 'SQL, Visual Basic/VBA, Python', 'Python, R, SQL, Visual Basic/VBA', 'SQL, JavaScript, Python', 'Python, Java', 'SQL, Python, Rust', 'SQL, Python, C/C++/C#, .NET', 'Python, C/C++/C#', 'Visual Basic/VBA, Python, SQL', 'Não utilizo linguagem de programação no trabalho, SQL, Python', 'SQL, SAS/Stata, Python', 'C/C++/C#', 'Python, Scala, SQL', 'SQL, .NET, Visual Basic/VBA', 'Python, SQL, Java', 'Visual Basic/VBA, C/C++/C#', 'Scala, SQL, Python', 'SQL, Python, Julia, R', 'SQL, Scala', 'SQL, Python, Visual Basic/VBA, JavaScript', 'Python, SQL, Matlab, PHP', 'SQL, SAS/Stata, R', '.NET', 'SQL, Python, Java, R', 'Python, Scala, JavaScript, SQL', 'SQL, Python, C/C++/C#, .NET, Java, Visual Basic/VBA', 'R, Python, SQL, JavaScript', 'SQL, R, Python, Java, Matlab', 'SQL, Python, JavaScript, C/C++/C#', 'SQL, Python, SAS/Stata, JavaScript', 'SQL, C/C++/C#, Visual Basic/VBA', 'R, Python, SQL, Visual Basic/VBA', 'Visual Basic/VBA, R, SQL', 'SQL, Python, Scala, SAS/Stata', 'SQL, Python, SAS/Stata, Scala', 'Python, Java, JavaScript', 'Python, SQL, C/C++/C#, .NET', 'SQL, PHP, JavaScript, Python', 'SAS/Stata', 'SQL, .NET, C/C++/C#, JavaScript', 'Python, SAS/Stata, SQL', 'SQL, R, Python, JavaScript', 'Python, SQL, C/C++/C#', 'Python, SQL, Scala, Visual Basic/VBA', 'SQL, R, Python, SAS/Stata, Visual Basic/VBA, Matlab, JavaScript', 'R, Python, Não utilizo linguagem de programação no trabalho', 'R, Visual Basic/VBA, SQL', 'SQL, R, Python, SAS/Stata, Visual Basic/VBA', 'Python, Scala, R', 'SQL, Python, SAS/Stata, Visual Basic/VBA, Matlab', 'SQL, C/C++/C#', 'SQL, Java, Python', 'SQL, R, Python, SAS/Stata, Scala', 'Python, Java, SQL', 'SQL, Python, R, Java', 'SQL, SAS/Stata, Visual Basic/VBA', 'SQL, Python, Visual Basic/VBA, R', 'SQL, R, Python, Julia', 'SQL, Python, SAS/Stata, R', 'SQL, Java, JavaScript, Python', 'JavaScript, SQL', 'Scala, SQL', 'SQL, R, Python, Rust', 'Visual Basic/VBA, SQL, Python', 'SQL, Python, Java, Scala, JavaScript', 'SQL, Python, C/C++/C#, Java, PHP, JavaScript, Scala', 'SQL, JavaScript, PHP', 'SQL, Scala, Python', 'SQL, Java, JavaScript', 'SQL, R, JavaScript', 'SQL, Python, Java, PHP', 'SQL, R, Visual Basic/VBA, Python', 'SQL, Python, Java, Scala, Rust, Visual Basic/VBA', 'SQL, R, Python, Matlab', 'Python, Rust', 'SQL, Python, JavaScript, Java', 'R, Python, SQL, Julia', 'SQL, R, Python, SAS/Stata, Visual Basic/VBA, Scala, JavaScript', 'SQL, .NET', 'Matlab, Python, SQL', 'R, Visual Basic/VBA', 'SQL, Python, Java, Rust', 'SQL, Python, Java, Visual Basic/VBA, JavaScript', 'SQL, Python, C/C++/C#, Scala', 'SQL, Python, C/C++/C#, SAS/Stata, Visual Basic/VBA, R', 'SQL, Python, .NET, Visual Basic/VBA', 'Python, SQL, JavaScript, Scala', 'SQL, R, SAS/Stata', 'R, SQL, SAS/Stata', 'SQL, Python, SAS/Stata, Scala, R, Visual Basic/VBA', 'Python, SQL, Java, JavaScript', 'PHP, JavaScript', 'Python, R, SQL, Matlab, JavaScript', 'SQL, Visual Basic/VBA, Python, SAS/Stata', 'Python, SQL, Matlab', 'SQL, R, Python, C/C++/C#, .NET, Rust, Scala', 'R, Python, SQL, Matlab', 'SQL, Python, Scala, Matlab', 'Scala, Python', 'SQL, Python, Matlab, Visual Basic/VBA', 'SQL, Python, C/C++/C#, SAS/Stata, JavaScript', 'SQL, R, SAS/Stata, Python', 'SQL, Python, R, Matlab', 'SQL, C/C++/C#, JavaScript, .NET, Python', 'SQL, Python, Java, SAS/Stata, Scala, JavaScript', 'SQL, R, Python, Java', 'SQL, Python, C/C++/C#, R, SAS/Stata, Scala, Java', 'Python, SQL, .NET, C/C++/C#, Java, Visual Basic/VBA, Scala, PHP, JavaScript', 'Java, Python', 'SQL, Python, Scala, PHP', 'SQL, Python, R, JavaScript', 'SQL, R, Python, JavaScript, Visual Basic/VBA', 'Python, JavaScript, SQL, Java', 'R, SQL, Python, Visual Basic/VBA', 'Scala, Java, SQL', 'SQL, Python, SAS/Stata, PHP', 'SQL, SAS/Stata, R, Python', 'SQL, Python, SAS/Stata, PHP, Java', 'SQL, Scala, Java', 'SQL, C/C++/C#, PHP, JavaScript', 'Python, Matlab', 'R, SAS/Stata', 'Python, .NET, JavaScript, SQL', 'SQL, Python, Java, SAS/Stata', 'SQL, Python, C/C++/C#, PHP', 'R, Python, SAS/Stata', 'PHP, SQL', 'SQL, Python, C/C++/C#, .NET, Java, Scala, JavaScript']\n"
     ]
    }
   ],
   "source": [
    "print(df_2024_renomeado['linguagens_usadas_dia_a_dia'].unique().tolist())"
   ]
  },
  {
   "cell_type": "code",
   "execution_count": 39,
   "id": "adbde0a4",
   "metadata": {},
   "outputs": [
    {
     "name": "stderr",
     "output_type": "stream",
     "text": [
      "/tmp/ipykernel_47064/1583550381.py:2: FutureWarning: A value is trying to be set on a copy of a DataFrame or Series through chained assignment using an inplace method.\n",
      "The behavior will change in pandas 3.0. This inplace method will never work because the intermediate object on which we are setting values always behaves as a copy.\n",
      "\n",
      "For example, when doing 'df[col].method(value, inplace=True)', try using 'df.method({col: value}, inplace=True)' or df[col] = df[col].method(value) instead, to perform the operation inplace on the original object.\n",
      "\n",
      "\n",
      "  df_2024_renomeado['linguagens_usadas_dia_a_dia'].fillna('Nenhuma', inplace=True)\n"
     ]
    }
   ],
   "source": [
    "# Preenchemos os valores nulos com uma string vazia para evitar erros.\n",
    "df_2024_renomeado['linguagens_usadas_dia_a_dia'].fillna('Nenhuma', inplace=True)"
   ]
  },
  {
   "cell_type": "code",
   "execution_count": 40,
   "id": "ad3893c4",
   "metadata": {},
   "outputs": [],
   "source": [
    "linguagens_dummies = df_2024_renomeado['linguagens_usadas_dia_a_dia'].str.get_dummies(sep=', ')"
   ]
  },
  {
   "cell_type": "code",
   "execution_count": 41,
   "id": "8d12e255",
   "metadata": {},
   "outputs": [
    {
     "name": "stdout",
     "output_type": "stream",
     "text": [
      "16\n"
     ]
    }
   ],
   "source": [
    "print(len(linguagens_dummies.columns))"
   ]
  },
  {
   "cell_type": "code",
   "execution_count": 42,
   "id": "74586583",
   "metadata": {},
   "outputs": [
    {
     "data": {
      "text/html": [
       "<div>\n",
       "<style scoped>\n",
       "    .dataframe tbody tr th:only-of-type {\n",
       "        vertical-align: middle;\n",
       "    }\n",
       "\n",
       "    .dataframe tbody tr th {\n",
       "        vertical-align: top;\n",
       "    }\n",
       "\n",
       "    .dataframe thead th {\n",
       "        text-align: right;\n",
       "    }\n",
       "</style>\n",
       "<table border=\"1\" class=\"dataframe\">\n",
       "  <thead>\n",
       "    <tr style=\"text-align: right;\">\n",
       "      <th></th>\n",
       "      <th>.NET</th>\n",
       "      <th>C/C++/C#</th>\n",
       "      <th>Java</th>\n",
       "      <th>JavaScript</th>\n",
       "      <th>Julia</th>\n",
       "      <th>Matlab</th>\n",
       "      <th>Nenhuma</th>\n",
       "      <th>Não utilizo linguagem de programação no trabalho</th>\n",
       "      <th>PHP</th>\n",
       "      <th>Python</th>\n",
       "      <th>R</th>\n",
       "      <th>Rust</th>\n",
       "      <th>SAS/Stata</th>\n",
       "      <th>SQL</th>\n",
       "      <th>Scala</th>\n",
       "      <th>Visual Basic/VBA</th>\n",
       "    </tr>\n",
       "  </thead>\n",
       "  <tbody>\n",
       "    <tr>\n",
       "      <th>0</th>\n",
       "      <td>0</td>\n",
       "      <td>0</td>\n",
       "      <td>0</td>\n",
       "      <td>1</td>\n",
       "      <td>0</td>\n",
       "      <td>0</td>\n",
       "      <td>0</td>\n",
       "      <td>0</td>\n",
       "      <td>0</td>\n",
       "      <td>1</td>\n",
       "      <td>0</td>\n",
       "      <td>0</td>\n",
       "      <td>0</td>\n",
       "      <td>1</td>\n",
       "      <td>0</td>\n",
       "      <td>0</td>\n",
       "    </tr>\n",
       "    <tr>\n",
       "      <th>1</th>\n",
       "      <td>0</td>\n",
       "      <td>0</td>\n",
       "      <td>0</td>\n",
       "      <td>0</td>\n",
       "      <td>0</td>\n",
       "      <td>0</td>\n",
       "      <td>0</td>\n",
       "      <td>0</td>\n",
       "      <td>0</td>\n",
       "      <td>1</td>\n",
       "      <td>0</td>\n",
       "      <td>0</td>\n",
       "      <td>0</td>\n",
       "      <td>0</td>\n",
       "      <td>0</td>\n",
       "      <td>0</td>\n",
       "    </tr>\n",
       "    <tr>\n",
       "      <th>2</th>\n",
       "      <td>0</td>\n",
       "      <td>0</td>\n",
       "      <td>0</td>\n",
       "      <td>0</td>\n",
       "      <td>0</td>\n",
       "      <td>0</td>\n",
       "      <td>0</td>\n",
       "      <td>1</td>\n",
       "      <td>0</td>\n",
       "      <td>0</td>\n",
       "      <td>0</td>\n",
       "      <td>0</td>\n",
       "      <td>0</td>\n",
       "      <td>0</td>\n",
       "      <td>0</td>\n",
       "      <td>0</td>\n",
       "    </tr>\n",
       "    <tr>\n",
       "      <th>3</th>\n",
       "      <td>0</td>\n",
       "      <td>0</td>\n",
       "      <td>0</td>\n",
       "      <td>0</td>\n",
       "      <td>0</td>\n",
       "      <td>0</td>\n",
       "      <td>0</td>\n",
       "      <td>0</td>\n",
       "      <td>0</td>\n",
       "      <td>0</td>\n",
       "      <td>0</td>\n",
       "      <td>0</td>\n",
       "      <td>0</td>\n",
       "      <td>1</td>\n",
       "      <td>0</td>\n",
       "      <td>0</td>\n",
       "    </tr>\n",
       "    <tr>\n",
       "      <th>4</th>\n",
       "      <td>0</td>\n",
       "      <td>0</td>\n",
       "      <td>0</td>\n",
       "      <td>1</td>\n",
       "      <td>0</td>\n",
       "      <td>0</td>\n",
       "      <td>0</td>\n",
       "      <td>0</td>\n",
       "      <td>0</td>\n",
       "      <td>0</td>\n",
       "      <td>0</td>\n",
       "      <td>0</td>\n",
       "      <td>0</td>\n",
       "      <td>1</td>\n",
       "      <td>0</td>\n",
       "      <td>0</td>\n",
       "    </tr>\n",
       "    <tr>\n",
       "      <th>...</th>\n",
       "      <td>...</td>\n",
       "      <td>...</td>\n",
       "      <td>...</td>\n",
       "      <td>...</td>\n",
       "      <td>...</td>\n",
       "      <td>...</td>\n",
       "      <td>...</td>\n",
       "      <td>...</td>\n",
       "      <td>...</td>\n",
       "      <td>...</td>\n",
       "      <td>...</td>\n",
       "      <td>...</td>\n",
       "      <td>...</td>\n",
       "      <td>...</td>\n",
       "      <td>...</td>\n",
       "      <td>...</td>\n",
       "    </tr>\n",
       "    <tr>\n",
       "      <th>5212</th>\n",
       "      <td>0</td>\n",
       "      <td>0</td>\n",
       "      <td>0</td>\n",
       "      <td>0</td>\n",
       "      <td>0</td>\n",
       "      <td>0</td>\n",
       "      <td>1</td>\n",
       "      <td>0</td>\n",
       "      <td>0</td>\n",
       "      <td>0</td>\n",
       "      <td>0</td>\n",
       "      <td>0</td>\n",
       "      <td>0</td>\n",
       "      <td>0</td>\n",
       "      <td>0</td>\n",
       "      <td>0</td>\n",
       "    </tr>\n",
       "    <tr>\n",
       "      <th>5213</th>\n",
       "      <td>0</td>\n",
       "      <td>0</td>\n",
       "      <td>0</td>\n",
       "      <td>0</td>\n",
       "      <td>0</td>\n",
       "      <td>0</td>\n",
       "      <td>0</td>\n",
       "      <td>0</td>\n",
       "      <td>0</td>\n",
       "      <td>1</td>\n",
       "      <td>1</td>\n",
       "      <td>0</td>\n",
       "      <td>1</td>\n",
       "      <td>1</td>\n",
       "      <td>0</td>\n",
       "      <td>0</td>\n",
       "    </tr>\n",
       "    <tr>\n",
       "      <th>5214</th>\n",
       "      <td>0</td>\n",
       "      <td>0</td>\n",
       "      <td>0</td>\n",
       "      <td>0</td>\n",
       "      <td>0</td>\n",
       "      <td>0</td>\n",
       "      <td>1</td>\n",
       "      <td>0</td>\n",
       "      <td>0</td>\n",
       "      <td>0</td>\n",
       "      <td>0</td>\n",
       "      <td>0</td>\n",
       "      <td>0</td>\n",
       "      <td>0</td>\n",
       "      <td>0</td>\n",
       "      <td>0</td>\n",
       "    </tr>\n",
       "    <tr>\n",
       "      <th>5215</th>\n",
       "      <td>0</td>\n",
       "      <td>0</td>\n",
       "      <td>0</td>\n",
       "      <td>0</td>\n",
       "      <td>0</td>\n",
       "      <td>0</td>\n",
       "      <td>1</td>\n",
       "      <td>0</td>\n",
       "      <td>0</td>\n",
       "      <td>0</td>\n",
       "      <td>0</td>\n",
       "      <td>0</td>\n",
       "      <td>0</td>\n",
       "      <td>0</td>\n",
       "      <td>0</td>\n",
       "      <td>0</td>\n",
       "    </tr>\n",
       "    <tr>\n",
       "      <th>5216</th>\n",
       "      <td>0</td>\n",
       "      <td>0</td>\n",
       "      <td>0</td>\n",
       "      <td>0</td>\n",
       "      <td>0</td>\n",
       "      <td>0</td>\n",
       "      <td>1</td>\n",
       "      <td>0</td>\n",
       "      <td>0</td>\n",
       "      <td>0</td>\n",
       "      <td>0</td>\n",
       "      <td>0</td>\n",
       "      <td>0</td>\n",
       "      <td>0</td>\n",
       "      <td>0</td>\n",
       "      <td>0</td>\n",
       "    </tr>\n",
       "  </tbody>\n",
       "</table>\n",
       "<p>5217 rows × 16 columns</p>\n",
       "</div>"
      ],
      "text/plain": [
       "      .NET  C/C++/C#  Java  JavaScript  Julia  Matlab  Nenhuma  \\\n",
       "0        0         0     0           1      0       0        0   \n",
       "1        0         0     0           0      0       0        0   \n",
       "2        0         0     0           0      0       0        0   \n",
       "3        0         0     0           0      0       0        0   \n",
       "4        0         0     0           1      0       0        0   \n",
       "...    ...       ...   ...         ...    ...     ...      ...   \n",
       "5212     0         0     0           0      0       0        1   \n",
       "5213     0         0     0           0      0       0        0   \n",
       "5214     0         0     0           0      0       0        1   \n",
       "5215     0         0     0           0      0       0        1   \n",
       "5216     0         0     0           0      0       0        1   \n",
       "\n",
       "      Não utilizo linguagem de programação no trabalho  PHP  Python  R  Rust  \\\n",
       "0                                                    0    0       1  0     0   \n",
       "1                                                    0    0       1  0     0   \n",
       "2                                                    1    0       0  0     0   \n",
       "3                                                    0    0       0  0     0   \n",
       "4                                                    0    0       0  0     0   \n",
       "...                                                ...  ...     ... ..   ...   \n",
       "5212                                                 0    0       0  0     0   \n",
       "5213                                                 0    0       1  1     0   \n",
       "5214                                                 0    0       0  0     0   \n",
       "5215                                                 0    0       0  0     0   \n",
       "5216                                                 0    0       0  0     0   \n",
       "\n",
       "      SAS/Stata  SQL  Scala  Visual Basic/VBA  \n",
       "0             0    1      0                 0  \n",
       "1             0    0      0                 0  \n",
       "2             0    0      0                 0  \n",
       "3             0    1      0                 0  \n",
       "4             0    1      0                 0  \n",
       "...         ...  ...    ...               ...  \n",
       "5212          0    0      0                 0  \n",
       "5213          1    1      0                 0  \n",
       "5214          0    0      0                 0  \n",
       "5215          0    0      0                 0  \n",
       "5216          0    0      0                 0  \n",
       "\n",
       "[5217 rows x 16 columns]"
      ]
     },
     "execution_count": 42,
     "metadata": {},
     "output_type": "execute_result"
    }
   ],
   "source": [
    "linguagens_dummies"
   ]
  },
  {
   "cell_type": "code",
   "execution_count": 43,
   "id": "e82a0918",
   "metadata": {},
   "outputs": [],
   "source": [
    "#Padronizar os nomes das novas colunas\n",
    "# Criamos nomes mais limpos para usar no futuro, como 'lang_python', 'lang_sql', etc.\n",
    "novos_nomes_dummies = {col: f'usa_{col.lower().replace(\" \", \"_\").replace(\"/\", \"_\")}' for col in linguagens_dummies.columns}\n",
    "linguagens_dummies.rename(columns=novos_nomes_dummies, inplace=True)"
   ]
  },
  {
   "cell_type": "code",
   "execution_count": 44,
   "id": "429bd17a",
   "metadata": {},
   "outputs": [
    {
     "name": "stdout",
     "output_type": "stream",
     "text": [
      "['usa_.net', 'usa_c_c++_c#', 'usa_java', 'usa_javascript', 'usa_julia', 'usa_matlab', 'usa_nenhuma', 'usa_não_utilizo_linguagem_de_programação_no_trabalho', 'usa_php', 'usa_python', 'usa_r', 'usa_rust', 'usa_sas_stata', 'usa_sql', 'usa_scala', 'usa_visual_basic_vba']\n"
     ]
    }
   ],
   "source": [
    "print(linguagens_dummies.columns.tolist())"
   ]
  },
  {
   "cell_type": "code",
   "execution_count": 45,
   "id": "5a3afb83",
   "metadata": {},
   "outputs": [
    {
     "data": {
      "text/html": [
       "<div>\n",
       "<style scoped>\n",
       "    .dataframe tbody tr th:only-of-type {\n",
       "        vertical-align: middle;\n",
       "    }\n",
       "\n",
       "    .dataframe tbody tr th {\n",
       "        vertical-align: top;\n",
       "    }\n",
       "\n",
       "    .dataframe thead th {\n",
       "        text-align: right;\n",
       "    }\n",
       "</style>\n",
       "<table border=\"1\" class=\"dataframe\">\n",
       "  <thead>\n",
       "    <tr style=\"text-align: right;\">\n",
       "      <th></th>\n",
       "      <th>usa_.net</th>\n",
       "      <th>usa_c_c++_c#</th>\n",
       "      <th>usa_java</th>\n",
       "      <th>usa_javascript</th>\n",
       "      <th>usa_julia</th>\n",
       "      <th>usa_matlab</th>\n",
       "      <th>usa_nenhuma</th>\n",
       "      <th>usa_não_utilizo_linguagem_de_programação_no_trabalho</th>\n",
       "      <th>usa_php</th>\n",
       "      <th>usa_python</th>\n",
       "      <th>usa_r</th>\n",
       "      <th>usa_rust</th>\n",
       "      <th>usa_sas_stata</th>\n",
       "      <th>usa_sql</th>\n",
       "      <th>usa_scala</th>\n",
       "      <th>usa_visual_basic_vba</th>\n",
       "    </tr>\n",
       "  </thead>\n",
       "  <tbody>\n",
       "    <tr>\n",
       "      <th>0</th>\n",
       "      <td>0</td>\n",
       "      <td>0</td>\n",
       "      <td>0</td>\n",
       "      <td>1</td>\n",
       "      <td>0</td>\n",
       "      <td>0</td>\n",
       "      <td>0</td>\n",
       "      <td>0</td>\n",
       "      <td>0</td>\n",
       "      <td>1</td>\n",
       "      <td>0</td>\n",
       "      <td>0</td>\n",
       "      <td>0</td>\n",
       "      <td>1</td>\n",
       "      <td>0</td>\n",
       "      <td>0</td>\n",
       "    </tr>\n",
       "    <tr>\n",
       "      <th>1</th>\n",
       "      <td>0</td>\n",
       "      <td>0</td>\n",
       "      <td>0</td>\n",
       "      <td>0</td>\n",
       "      <td>0</td>\n",
       "      <td>0</td>\n",
       "      <td>0</td>\n",
       "      <td>0</td>\n",
       "      <td>0</td>\n",
       "      <td>1</td>\n",
       "      <td>0</td>\n",
       "      <td>0</td>\n",
       "      <td>0</td>\n",
       "      <td>0</td>\n",
       "      <td>0</td>\n",
       "      <td>0</td>\n",
       "    </tr>\n",
       "    <tr>\n",
       "      <th>2</th>\n",
       "      <td>0</td>\n",
       "      <td>0</td>\n",
       "      <td>0</td>\n",
       "      <td>0</td>\n",
       "      <td>0</td>\n",
       "      <td>0</td>\n",
       "      <td>0</td>\n",
       "      <td>1</td>\n",
       "      <td>0</td>\n",
       "      <td>0</td>\n",
       "      <td>0</td>\n",
       "      <td>0</td>\n",
       "      <td>0</td>\n",
       "      <td>0</td>\n",
       "      <td>0</td>\n",
       "      <td>0</td>\n",
       "    </tr>\n",
       "    <tr>\n",
       "      <th>3</th>\n",
       "      <td>0</td>\n",
       "      <td>0</td>\n",
       "      <td>0</td>\n",
       "      <td>0</td>\n",
       "      <td>0</td>\n",
       "      <td>0</td>\n",
       "      <td>0</td>\n",
       "      <td>0</td>\n",
       "      <td>0</td>\n",
       "      <td>0</td>\n",
       "      <td>0</td>\n",
       "      <td>0</td>\n",
       "      <td>0</td>\n",
       "      <td>1</td>\n",
       "      <td>0</td>\n",
       "      <td>0</td>\n",
       "    </tr>\n",
       "    <tr>\n",
       "      <th>4</th>\n",
       "      <td>0</td>\n",
       "      <td>0</td>\n",
       "      <td>0</td>\n",
       "      <td>1</td>\n",
       "      <td>0</td>\n",
       "      <td>0</td>\n",
       "      <td>0</td>\n",
       "      <td>0</td>\n",
       "      <td>0</td>\n",
       "      <td>0</td>\n",
       "      <td>0</td>\n",
       "      <td>0</td>\n",
       "      <td>0</td>\n",
       "      <td>1</td>\n",
       "      <td>0</td>\n",
       "      <td>0</td>\n",
       "    </tr>\n",
       "    <tr>\n",
       "      <th>...</th>\n",
       "      <td>...</td>\n",
       "      <td>...</td>\n",
       "      <td>...</td>\n",
       "      <td>...</td>\n",
       "      <td>...</td>\n",
       "      <td>...</td>\n",
       "      <td>...</td>\n",
       "      <td>...</td>\n",
       "      <td>...</td>\n",
       "      <td>...</td>\n",
       "      <td>...</td>\n",
       "      <td>...</td>\n",
       "      <td>...</td>\n",
       "      <td>...</td>\n",
       "      <td>...</td>\n",
       "      <td>...</td>\n",
       "    </tr>\n",
       "    <tr>\n",
       "      <th>5212</th>\n",
       "      <td>0</td>\n",
       "      <td>0</td>\n",
       "      <td>0</td>\n",
       "      <td>0</td>\n",
       "      <td>0</td>\n",
       "      <td>0</td>\n",
       "      <td>1</td>\n",
       "      <td>0</td>\n",
       "      <td>0</td>\n",
       "      <td>0</td>\n",
       "      <td>0</td>\n",
       "      <td>0</td>\n",
       "      <td>0</td>\n",
       "      <td>0</td>\n",
       "      <td>0</td>\n",
       "      <td>0</td>\n",
       "    </tr>\n",
       "    <tr>\n",
       "      <th>5213</th>\n",
       "      <td>0</td>\n",
       "      <td>0</td>\n",
       "      <td>0</td>\n",
       "      <td>0</td>\n",
       "      <td>0</td>\n",
       "      <td>0</td>\n",
       "      <td>0</td>\n",
       "      <td>0</td>\n",
       "      <td>0</td>\n",
       "      <td>1</td>\n",
       "      <td>1</td>\n",
       "      <td>0</td>\n",
       "      <td>1</td>\n",
       "      <td>1</td>\n",
       "      <td>0</td>\n",
       "      <td>0</td>\n",
       "    </tr>\n",
       "    <tr>\n",
       "      <th>5214</th>\n",
       "      <td>0</td>\n",
       "      <td>0</td>\n",
       "      <td>0</td>\n",
       "      <td>0</td>\n",
       "      <td>0</td>\n",
       "      <td>0</td>\n",
       "      <td>1</td>\n",
       "      <td>0</td>\n",
       "      <td>0</td>\n",
       "      <td>0</td>\n",
       "      <td>0</td>\n",
       "      <td>0</td>\n",
       "      <td>0</td>\n",
       "      <td>0</td>\n",
       "      <td>0</td>\n",
       "      <td>0</td>\n",
       "    </tr>\n",
       "    <tr>\n",
       "      <th>5215</th>\n",
       "      <td>0</td>\n",
       "      <td>0</td>\n",
       "      <td>0</td>\n",
       "      <td>0</td>\n",
       "      <td>0</td>\n",
       "      <td>0</td>\n",
       "      <td>1</td>\n",
       "      <td>0</td>\n",
       "      <td>0</td>\n",
       "      <td>0</td>\n",
       "      <td>0</td>\n",
       "      <td>0</td>\n",
       "      <td>0</td>\n",
       "      <td>0</td>\n",
       "      <td>0</td>\n",
       "      <td>0</td>\n",
       "    </tr>\n",
       "    <tr>\n",
       "      <th>5216</th>\n",
       "      <td>0</td>\n",
       "      <td>0</td>\n",
       "      <td>0</td>\n",
       "      <td>0</td>\n",
       "      <td>0</td>\n",
       "      <td>0</td>\n",
       "      <td>1</td>\n",
       "      <td>0</td>\n",
       "      <td>0</td>\n",
       "      <td>0</td>\n",
       "      <td>0</td>\n",
       "      <td>0</td>\n",
       "      <td>0</td>\n",
       "      <td>0</td>\n",
       "      <td>0</td>\n",
       "      <td>0</td>\n",
       "    </tr>\n",
       "  </tbody>\n",
       "</table>\n",
       "<p>5217 rows × 16 columns</p>\n",
       "</div>"
      ],
      "text/plain": [
       "      usa_.net  usa_c_c++_c#  usa_java  usa_javascript  usa_julia  usa_matlab  \\\n",
       "0            0             0         0               1          0           0   \n",
       "1            0             0         0               0          0           0   \n",
       "2            0             0         0               0          0           0   \n",
       "3            0             0         0               0          0           0   \n",
       "4            0             0         0               1          0           0   \n",
       "...        ...           ...       ...             ...        ...         ...   \n",
       "5212         0             0         0               0          0           0   \n",
       "5213         0             0         0               0          0           0   \n",
       "5214         0             0         0               0          0           0   \n",
       "5215         0             0         0               0          0           0   \n",
       "5216         0             0         0               0          0           0   \n",
       "\n",
       "      usa_nenhuma  usa_não_utilizo_linguagem_de_programação_no_trabalho  \\\n",
       "0               0                                                  0      \n",
       "1               0                                                  0      \n",
       "2               0                                                  1      \n",
       "3               0                                                  0      \n",
       "4               0                                                  0      \n",
       "...           ...                                                ...      \n",
       "5212            1                                                  0      \n",
       "5213            0                                                  0      \n",
       "5214            1                                                  0      \n",
       "5215            1                                                  0      \n",
       "5216            1                                                  0      \n",
       "\n",
       "      usa_php  usa_python  usa_r  usa_rust  usa_sas_stata  usa_sql  usa_scala  \\\n",
       "0           0           1      0         0              0        1          0   \n",
       "1           0           1      0         0              0        0          0   \n",
       "2           0           0      0         0              0        0          0   \n",
       "3           0           0      0         0              0        1          0   \n",
       "4           0           0      0         0              0        1          0   \n",
       "...       ...         ...    ...       ...            ...      ...        ...   \n",
       "5212        0           0      0         0              0        0          0   \n",
       "5213        0           1      1         0              1        1          0   \n",
       "5214        0           0      0         0              0        0          0   \n",
       "5215        0           0      0         0              0        0          0   \n",
       "5216        0           0      0         0              0        0          0   \n",
       "\n",
       "      usa_visual_basic_vba  \n",
       "0                        0  \n",
       "1                        0  \n",
       "2                        0  \n",
       "3                        0  \n",
       "4                        0  \n",
       "...                    ...  \n",
       "5212                     0  \n",
       "5213                     0  \n",
       "5214                     0  \n",
       "5215                     0  \n",
       "5216                     0  \n",
       "\n",
       "[5217 rows x 16 columns]"
      ]
     },
     "execution_count": 45,
     "metadata": {},
     "output_type": "execute_result"
    }
   ],
   "source": [
    "linguagens_dummies"
   ]
  },
  {
   "cell_type": "code",
   "execution_count": 46,
   "id": "f18aba66",
   "metadata": {},
   "outputs": [],
   "source": [
    "# O 'axis=1' significa que estamos juntando lado a lado (colunas)\n",
    "df_2024_final = pd.concat([df_2024_renomeado, linguagens_dummies], axis=1)"
   ]
  },
  {
   "cell_type": "code",
   "execution_count": 47,
   "id": "1021f949",
   "metadata": {},
   "outputs": [
    {
     "name": "stdout",
     "output_type": "stream",
     "text": [
      "\n",
      "--- Verificação Final (últimas colunas do DataFrame) ---\n",
      "   usa_c_c++_c#  usa_java  usa_javascript  usa_julia  usa_matlab  usa_nenhuma  \\\n",
      "0             0         0               1          0           0            0   \n",
      "1             0         0               0          0           0            0   \n",
      "2             0         0               0          0           0            0   \n",
      "3             0         0               0          0           0            0   \n",
      "4             0         0               1          0           0            0   \n",
      "\n",
      "   usa_não_utilizo_linguagem_de_programação_no_trabalho  usa_php  usa_python  \\\n",
      "0                                                  0           0           1   \n",
      "1                                                  0           0           1   \n",
      "2                                                  1           0           0   \n",
      "3                                                  0           0           0   \n",
      "4                                                  0           0           0   \n",
      "\n",
      "   usa_r  usa_rust  usa_sas_stata  usa_sql  usa_scala  usa_visual_basic_vba  \n",
      "0      0         0              0        1          0                     0  \n",
      "1      0         0              0        0          0                     0  \n",
      "2      0         0              0        0          0                     0  \n",
      "3      0         0              0        1          0                     0  \n",
      "4      0         0              0        1          0                     0  \n"
     ]
    }
   ],
   "source": [
    "# Verifique as últimas colunas do novo DataFrame para ver o resultado\n",
    "print(\"\\n--- Verificação Final (últimas colunas do DataFrame) ---\")\n",
    "print(df_2024_final.iloc[:, -15:].head())"
   ]
  },
  {
   "cell_type": "markdown",
   "id": "cfd2f4d2",
   "metadata": {},
   "source": [
    "### 8 - Salvando dataset2024 limpo com o suficiente"
   ]
  },
  {
   "cell_type": "code",
   "execution_count": 48,
   "id": "4a938511",
   "metadata": {},
   "outputs": [],
   "source": [
    "output_filename = 'state_of_data_2024_limpo.csv'\n",
    "output_path = PROCESSED_DATA_DIR / output_filename"
   ]
  },
  {
   "cell_type": "code",
   "execution_count": 49,
   "id": "4e5687ee",
   "metadata": {},
   "outputs": [],
   "source": [
    "df_2024_final.to_csv(output_path, index=False)"
   ]
  },
  {
   "cell_type": "markdown",
   "id": "40ac4554",
   "metadata": {},
   "source": [
    "### 9 - Adicionando coluna de ano"
   ]
  },
  {
   "cell_type": "code",
   "execution_count": 50,
   "id": "ddf404bd",
   "metadata": {},
   "outputs": [],
   "source": [
    "df_2024_limpo = pd.read_csv(PROCESSED_DATA_DIR / 'state_of_data_2024_limpo.csv')"
   ]
  },
  {
   "cell_type": "code",
   "execution_count": null,
   "id": "9a780225",
   "metadata": {},
   "outputs": [
    {
     "name": "stderr",
     "output_type": "stream",
     "text": [
      "/tmp/ipykernel_47064/2928955353.py:1: UserWarning: Parsing dates in %d/%m/%Y %H:%M:%S format when dayfirst=False (the default) was specified. Pass `dayfirst=True` or specify a format to silence this warning.\n",
      "  df_2024_final['data_envio'] = pd.to_datetime(df_2024_final['data_envio'])\n"
     ]
    }
   ],
   "source": [
    "df_2024_final['data_envio'] = pd.to_datetime(df_2024_final['data_envio'])"
   ]
  },
  {
   "cell_type": "code",
   "execution_count": 52,
   "id": "eca690d7",
   "metadata": {},
   "outputs": [],
   "source": [
    "df_2024_final['ano'] = df_2024_final['data_envio'].dt.year"
   ]
  },
  {
   "cell_type": "code",
   "execution_count": 53,
   "id": "c8b5e680",
   "metadata": {},
   "outputs": [],
   "source": [
    "df_2024_final.to_csv(PROCESSED_DATA_DIR / 'state_of_data_2024_limpo.csv', index=False)"
   ]
  },
  {
   "cell_type": "code",
   "execution_count": 54,
   "id": "02c01c47",
   "metadata": {},
   "outputs": [
    {
     "data": {
      "text/html": [
       "<div>\n",
       "<style scoped>\n",
       "    .dataframe tbody tr th:only-of-type {\n",
       "        vertical-align: middle;\n",
       "    }\n",
       "\n",
       "    .dataframe tbody tr th {\n",
       "        vertical-align: top;\n",
       "    }\n",
       "\n",
       "    .dataframe thead th {\n",
       "        text-align: right;\n",
       "    }\n",
       "</style>\n",
       "<table border=\"1\" class=\"dataframe\">\n",
       "  <thead>\n",
       "    <tr style=\"text-align: right;\">\n",
       "      <th></th>\n",
       "      <th>ano</th>\n",
       "      <th>salario_medio_mensal</th>\n",
       "    </tr>\n",
       "  </thead>\n",
       "  <tbody>\n",
       "    <tr>\n",
       "      <th>0</th>\n",
       "      <td>2024</td>\n",
       "      <td>1500.5</td>\n",
       "    </tr>\n",
       "    <tr>\n",
       "      <th>1</th>\n",
       "      <td>2024</td>\n",
       "      <td>1000.0</td>\n",
       "    </tr>\n",
       "    <tr>\n",
       "      <th>2</th>\n",
       "      <td>2024</td>\n",
       "      <td>1500.5</td>\n",
       "    </tr>\n",
       "    <tr>\n",
       "      <th>3</th>\n",
       "      <td>2024</td>\n",
       "      <td>1500.5</td>\n",
       "    </tr>\n",
       "    <tr>\n",
       "      <th>4</th>\n",
       "      <td>2024</td>\n",
       "      <td>1500.5</td>\n",
       "    </tr>\n",
       "    <tr>\n",
       "      <th>...</th>\n",
       "      <td>...</td>\n",
       "      <td>...</td>\n",
       "    </tr>\n",
       "    <tr>\n",
       "      <th>5212</th>\n",
       "      <td>2024</td>\n",
       "      <td>22500.5</td>\n",
       "    </tr>\n",
       "    <tr>\n",
       "      <th>5213</th>\n",
       "      <td>2024</td>\n",
       "      <td>14000.5</td>\n",
       "    </tr>\n",
       "    <tr>\n",
       "      <th>5214</th>\n",
       "      <td>2024</td>\n",
       "      <td>NaN</td>\n",
       "    </tr>\n",
       "    <tr>\n",
       "      <th>5215</th>\n",
       "      <td>2024</td>\n",
       "      <td>40001.0</td>\n",
       "    </tr>\n",
       "    <tr>\n",
       "      <th>5216</th>\n",
       "      <td>2024</td>\n",
       "      <td>NaN</td>\n",
       "    </tr>\n",
       "  </tbody>\n",
       "</table>\n",
       "<p>5217 rows × 2 columns</p>\n",
       "</div>"
      ],
      "text/plain": [
       "       ano  salario_medio_mensal\n",
       "0     2024                1500.5\n",
       "1     2024                1000.0\n",
       "2     2024                1500.5\n",
       "3     2024                1500.5\n",
       "4     2024                1500.5\n",
       "...    ...                   ...\n",
       "5212  2024               22500.5\n",
       "5213  2024               14000.5\n",
       "5214  2024                   NaN\n",
       "5215  2024               40001.0\n",
       "5216  2024                   NaN\n",
       "\n",
       "[5217 rows x 2 columns]"
      ]
     },
     "execution_count": 54,
     "metadata": {},
     "output_type": "execute_result"
    }
   ],
   "source": [
    "df_2024_final[['ano', 'salario_medio_mensal']]"
   ]
  },
  {
   "cell_type": "code",
   "execution_count": null,
   "id": "1e005188",
   "metadata": {},
   "outputs": [],
   "source": []
  }
 ],
 "metadata": {
  "kernelspec": {
   "display_name": ".venv",
   "language": "python",
   "name": "python3"
  },
  "language_info": {
   "codemirror_mode": {
    "name": "ipython",
    "version": 3
   },
   "file_extension": ".py",
   "mimetype": "text/x-python",
   "name": "python",
   "nbconvert_exporter": "python",
   "pygments_lexer": "ipython3",
   "version": "3.12.3"
  }
 },
 "nbformat": 4,
 "nbformat_minor": 5
}
