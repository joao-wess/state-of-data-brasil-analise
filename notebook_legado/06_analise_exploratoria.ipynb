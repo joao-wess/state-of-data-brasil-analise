{
 "cells": [
  {
   "cell_type": "code",
   "execution_count": 2,
   "id": "7321a1ff",
   "metadata": {},
   "outputs": [],
   "source": [
    "import pandas as pd\n",
    "import numpy as np\n",
    "from pathlib import Path\n",
    "import sys"
   ]
  },
  {
   "cell_type": "code",
   "execution_count": 3,
   "id": "da37f2b8",
   "metadata": {},
   "outputs": [],
   "source": [
    "sys.path.append('../src')\n",
    "import data_cleaner as dc"
   ]
  },
  {
   "cell_type": "code",
   "execution_count": 4,
   "id": "e9ef9038",
   "metadata": {},
   "outputs": [],
   "source": [
    "RAW_DATA_DIR, PROCESSED_DATA_DIR = dc.caminho_para_dataset()"
   ]
  },
  {
   "cell_type": "code",
   "execution_count": 5,
   "id": "d4913a8c",
   "metadata": {},
   "outputs": [
    {
     "name": "stderr",
     "output_type": "stream",
     "text": [
      "/tmp/ipykernel_22951/2874492303.py:2: DtypeWarning: Columns (47) have mixed types. Specify dtype option on import or set low_memory=False.\n",
      "  df_2021 = pd.read_csv(PROCESSED_DATA_DIR/'state_of_data_2021_limpo.csv')\n"
     ]
    },
    {
     "name": "stdout",
     "output_type": "stream",
     "text": [
      "arquivos encontrados com sucesso\n"
     ]
    }
   ],
   "source": [
    "try:\n",
    "  df_2021 = pd.read_csv(PROCESSED_DATA_DIR/'state_of_data_2021_limpo.csv')\n",
    "  df_2022 = pd.read_csv(PROCESSED_DATA_DIR/'state_of_data_2022_limpo.csv')\n",
    "  df_2023 = pd.read_csv(PROCESSED_DATA_DIR/'state_of_data_2023_limpo.csv')\n",
    "  df_2024 = pd.read_csv(PROCESSED_DATA_DIR/'state_of_data_2024_limpo.csv')\n",
    "  print('arquivos encontrados com sucesso')\n",
    "except FileNotFoundError as e:\n",
    "  print('Arquivo(s) nao encontrado(s) ' + e)"
   ]
  },
  {
   "cell_type": "code",
   "execution_count": 6,
   "id": "f6dc4e29",
   "metadata": {},
   "outputs": [
    {
     "name": "stdout",
     "output_type": "stream",
     "text": [
      "['modelo_trabalho_atual', 'bancos_dados_usados_dia_a_dia', 'tamanho_empresa', 'desafios_gestor', 'cargo_atual', 'satisfacao_trabalho', 'idade', 'area_formacao', 'linguagem_principal', 'nivel_hierarquico', 'id_participante', 'linguagens_usadas_dia_a_dia', 'situacao_trabalho', 'tamanho_equipe_dados', 'criterios_escolha_emprego', 'modelo_trabalho_ideal', 'regiao_residencia', 'atua_como_gestor', 'tempo_busca_emprego_meses', 'experiencia_dados_anos', 'setor_atuacao', 'nivel_ensino', 'ano', 'experiencia_anos_num', 'regiao_origem', 'entrevistas_ultimos_6m', 'genero', 'uf_residencia', 'motivos_insatisfacao', 'salario_medio_mensal', 'planos_mudar_emprego', 'grupo_cargo', 'faixa_idade', 'experiencia_ti_anos', 'ferramentas_bi_usadas_dia_a_dia', 'tipo_oportunidade_buscada', 'faixa_salarial']\n",
      "37\n"
     ]
    }
   ],
   "source": [
    "colunas_comuns = list(set(df_2021) & set(df_2022) & set(df_2023) & set(df_2024))\n",
    "print(colunas_comuns)\n",
    "print(len(colunas_comuns))"
   ]
  },
  {
   "cell_type": "code",
   "execution_count": 7,
   "id": "d067ecc3",
   "metadata": {},
   "outputs": [],
   "source": [
    "lista_dfs = [\n",
    "  df_2021[colunas_comuns],\n",
    "  df_2022[colunas_comuns],\n",
    "  df_2023[colunas_comuns],\n",
    "  df_2024[colunas_comuns]\n",
    "]"
   ]
  },
  {
   "cell_type": "code",
   "execution_count": 8,
   "id": "aab1e89a",
   "metadata": {},
   "outputs": [
    {
     "name": "stdout",
     "output_type": "stream",
     "text": [
      "União final concluída!\n",
      "Dimensões do DataFrame Mestre: (17426, 37)\n"
     ]
    }
   ],
   "source": [
    "df_final = pd.concat(lista_dfs, ignore_index=True)\n",
    "print(\"União final concluída!\")\n",
    "print(f\"Dimensões do DataFrame Mestre: {df_final.shape}\")"
   ]
  },
  {
   "cell_type": "code",
   "execution_count": 9,
   "id": "216cadba",
   "metadata": {},
   "outputs": [
    {
     "data": {
      "text/plain": [
       "ano\n",
       "2024    5217\n",
       "2023    5293\n",
       "2022    4271\n",
       "2021    2645\n",
       "Name: count, dtype: int64"
      ]
     },
     "execution_count": 9,
     "metadata": {},
     "output_type": "execute_result"
    }
   ],
   "source": [
    "df_final['ano'].value_counts().sort_index(ascending=False)"
   ]
  },
  {
   "cell_type": "code",
   "execution_count": 10,
   "id": "eee2ac5f",
   "metadata": {},
   "outputs": [
    {
     "data": {
      "text/html": [
       "<div>\n",
       "<style scoped>\n",
       "    .dataframe tbody tr th:only-of-type {\n",
       "        vertical-align: middle;\n",
       "    }\n",
       "\n",
       "    .dataframe tbody tr th {\n",
       "        vertical-align: top;\n",
       "    }\n",
       "\n",
       "    .dataframe thead th {\n",
       "        text-align: right;\n",
       "    }\n",
       "</style>\n",
       "<table border=\"1\" class=\"dataframe\">\n",
       "  <thead>\n",
       "    <tr style=\"text-align: right;\">\n",
       "      <th>nivel_hierarquico</th>\n",
       "      <th>Júnior</th>\n",
       "      <th>Pleno</th>\n",
       "      <th>Sênior</th>\n",
       "    </tr>\n",
       "    <tr>\n",
       "      <th>ano</th>\n",
       "      <th></th>\n",
       "      <th></th>\n",
       "      <th></th>\n",
       "    </tr>\n",
       "  </thead>\n",
       "  <tbody>\n",
       "    <tr>\n",
       "      <th>2021</th>\n",
       "      <td>3876.49</td>\n",
       "      <td>7609.92</td>\n",
       "      <td>12401.89</td>\n",
       "    </tr>\n",
       "    <tr>\n",
       "      <th>2022</th>\n",
       "      <td>3928.64</td>\n",
       "      <td>7961.82</td>\n",
       "      <td>12848.50</td>\n",
       "    </tr>\n",
       "    <tr>\n",
       "      <th>2023</th>\n",
       "      <td>3919.75</td>\n",
       "      <td>7533.55</td>\n",
       "      <td>13577.68</td>\n",
       "    </tr>\n",
       "    <tr>\n",
       "      <th>2024</th>\n",
       "      <td>4166.96</td>\n",
       "      <td>8048.79</td>\n",
       "      <td>14506.23</td>\n",
       "    </tr>\n",
       "  </tbody>\n",
       "</table>\n",
       "</div>"
      ],
      "text/plain": [
       "nivel_hierarquico   Júnior    Pleno    Sênior\n",
       "ano                                          \n",
       "2021               3876.49  7609.92  12401.89\n",
       "2022               3928.64  7961.82  12848.50\n",
       "2023               3919.75  7533.55  13577.68\n",
       "2024               4166.96  8048.79  14506.23"
      ]
     },
     "execution_count": 10,
     "metadata": {},
     "output_type": "execute_result"
    }
   ],
   "source": [
    "df_final.groupby(['ano', 'nivel_hierarquico'])['salario_medio_mensal'].mean().round(2).unstack()"
   ]
  },
  {
   "cell_type": "code",
   "execution_count": 11,
   "id": "5f2b1b26",
   "metadata": {},
   "outputs": [
    {
     "data": {
      "text/plain": [
       "0                              NaN\n",
       "1                              NaN\n",
       "2                              NaN\n",
       "3                              NaN\n",
       "4                              NaN\n",
       "                   ...            \n",
       "17421                      Nenhuma\n",
       "17422    SQL, R, Python, SAS/Stata\n",
       "17423                      Nenhuma\n",
       "17424                      Nenhuma\n",
       "17425                      Nenhuma\n",
       "Name: linguagens_usadas_dia_a_dia, Length: 17426, dtype: object"
      ]
     },
     "execution_count": 11,
     "metadata": {},
     "output_type": "execute_result"
    }
   ],
   "source": [
    "df_final['linguagens_usadas_dia_a_dia']"
   ]
  },
  {
   "cell_type": "code",
   "execution_count": 14,
   "id": "d44920d2",
   "metadata": {},
   "outputs": [
    {
     "data": {
      "text/plain": [
       "Index(['modelo_trabalho_atual', 'bancos_dados_usados_dia_a_dia',\n",
       "       'tamanho_empresa', 'desafios_gestor', 'cargo_atual',\n",
       "       'satisfacao_trabalho', 'idade', 'area_formacao', 'linguagem_principal',\n",
       "       'nivel_hierarquico', 'id_participante', 'linguagens_usadas_dia_a_dia',\n",
       "       'situacao_trabalho', 'tamanho_equipe_dados',\n",
       "       'criterios_escolha_emprego', 'modelo_trabalho_ideal',\n",
       "       'regiao_residencia', 'atua_como_gestor', 'tempo_busca_emprego_meses',\n",
       "       'experiencia_dados_anos', 'setor_atuacao', 'nivel_ensino', 'ano',\n",
       "       'experiencia_anos_num', 'regiao_origem', 'entrevistas_ultimos_6m',\n",
       "       'genero', 'uf_residencia', 'motivos_insatisfacao',\n",
       "       'salario_medio_mensal', 'planos_mudar_emprego', 'grupo_cargo',\n",
       "       'faixa_idade', 'experiencia_ti_anos', 'ferramentas_bi_usadas_dia_a_dia',\n",
       "       'tipo_oportunidade_buscada', 'faixa_salarial'],\n",
       "      dtype='object')"
      ]
     },
     "execution_count": 14,
     "metadata": {},
     "output_type": "execute_result"
    }
   ],
   "source": [
    "df_final.columns"
   ]
  },
  {
   "cell_type": "code",
   "execution_count": null,
   "id": "797a0f89",
   "metadata": {},
   "outputs": [],
   "source": [
    "#Dataset final com 37 colunas suficientes para responder as hipóteses\n",
    "output_path = PROCESSED_DATA_DIR / 'df_final.csv'\n",
    "df_final.to_csv(output_path)"
   ]
  },
  {
   "cell_type": "code",
   "execution_count": null,
   "id": "44802ca0",
   "metadata": {},
   "outputs": [],
   "source": []
  }
 ],
 "metadata": {
  "kernelspec": {
   "display_name": ".venv",
   "language": "python",
   "name": "python3"
  },
  "language_info": {
   "codemirror_mode": {
    "name": "ipython",
    "version": 3
   },
   "file_extension": ".py",
   "mimetype": "text/x-python",
   "name": "python",
   "nbconvert_exporter": "python",
   "pygments_lexer": "ipython3",
   "version": "3.12.3"
  }
 },
 "nbformat": 4,
 "nbformat_minor": 5
}
