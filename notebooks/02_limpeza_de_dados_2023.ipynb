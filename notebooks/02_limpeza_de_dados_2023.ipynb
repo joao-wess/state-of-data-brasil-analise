{
 "cells": [
  {
   "cell_type": "code",
   "execution_count": 1,
   "id": "a5badba4",
   "metadata": {},
   "outputs": [],
   "source": [
    "import pandas as pd\n",
    "from pathlib import Path"
   ]
  },
  {
   "cell_type": "code",
   "execution_count": 2,
   "id": "cfd12440",
   "metadata": {},
   "outputs": [],
   "source": [
    "import sys\n",
    "sys.path.append('../src')\n",
    "import data_cleaner as dc"
   ]
  },
  {
   "cell_type": "markdown",
   "id": "a0cdc2eb",
   "metadata": {},
   "source": [
    "## 1 - Caminho do dataframe"
   ]
  },
  {
   "cell_type": "code",
   "execution_count": 3,
   "id": "0a4caa52",
   "metadata": {},
   "outputs": [
    {
     "name": "stdout",
     "output_type": "stream",
     "text": [
      "Arquivo encontrado\n"
     ]
    }
   ],
   "source": [
    "BASE_DIR = Path.cwd().parent\n",
    "RAW_DATA_DIR = BASE_DIR / 'data' / 'raw'\n",
    "PROCESSED_DATA_DIR = BASE_DIR / 'data' / 'processed'\n",
    "\n",
    "#nome do arquivo\n",
    "FILE_NAME_2023 = 'State_of_data_2023.csv'\n",
    "INPUT_FILE_2023 = RAW_DATA_DIR / FILE_NAME_2023 \n",
    "\n",
    "#abrir arquivo\n",
    "try: \n",
    "  print('Arquivo encontrado')\n",
    "  df_2023 = pd.read_csv(INPUT_FILE_2023)\n",
    "except FileNotFoundError as erro:\n",
    "  print(\"Arquivo nao encontrado, verifique o caminho\" + erro)"
   ]
  },
  {
   "cell_type": "code",
   "execution_count": 4,
   "id": "53be6bc3",
   "metadata": {},
   "outputs": [
    {
     "name": "stdout",
     "output_type": "stream",
     "text": [
      "<class 'pandas.core.frame.DataFrame'>\n",
      "RangeIndex: 5293 entries, 0 to 5292\n",
      "Columns: 399 entries, ('P0', 'id') to ('P8_d_12 ', 'Treinando e aplicando LLM's para solucionar problemas de negócio.')\n",
      "dtypes: float64(328), int64(2), object(69)\n",
      "memory usage: 16.1+ MB\n"
     ]
    }
   ],
   "source": [
    "df_2023.info()"
   ]
  },
  {
   "cell_type": "code",
   "execution_count": 5,
   "id": "fe9562b7",
   "metadata": {},
   "outputs": [
    {
     "name": "stdout",
     "output_type": "stream",
     "text": [
      "[\"('P0', 'id')\", \"('P1_a ', 'Idade')\", \"('P1_a_1 ', 'Faixa idade')\", \"('P1_b ', 'Genero')\", \"('P1_c ', 'Cor/raca/etnia')\", \"('P1_d ', 'PCD')\", \"('P1_e ', 'experiencia_profissional_prejudicada')\", \"('P1_e_1 ', 'Não acredito que minha experiência profissional seja afetada')\", \"('P1_e_2 ', 'Experiencia prejudicada devido a minha Cor Raça Etnia')\", \"('P1_e_3 ', 'Experiencia prejudicada devido a minha identidade de gênero')\", \"('P1_e_4 ', 'Experiencia prejudicada devido ao fato de ser PCD')\", \"('P1_f ', 'aspectos_prejudicados')\", \"('P1_f_1', 'Quantidade de oportunidades de emprego/vagas recebidas')\", \"('P1_f_2', 'Senioridade das vagas recebidas em relação à sua experiência')\", \"('P1_f_3', 'Aprovação em processos seletivos/entrevistas')\", \"('P1_f_4', 'Oportunidades de progressão de carreira')\", \"('P1_f_5', 'Velocidade de progressão de carreira')\", \"('P1_f_6', 'Nível de cobrança no trabalho/Stress no trabalho')\", \"('P1_f_7', 'Atenção dada diante das minhas opiniões e ideias')\", \"('P1_f_8', 'Relação com outros membros da empresa, em momentos de trabalho')\", \"('P1_f_9', 'Relação com outros membros da empresa, em momentos de integração e outros momentos fora do trabalho')\", \"('P1_g ', 'vive_no_brasil')\", \"('P1_i ', 'Estado onde mora')\", \"('P1_i_1 ', 'uf onde mora')\", \"('P1_i_2 ', 'Regiao onde mora')\", \"('P1_j ', 'Mudou de Estado?')\", \"('P1_k ', 'Regiao de origem')\", \"('P1_l ', 'Nivel de Ensino')\", \"('P1_m ', 'Área de Formação')\", \"('P2_a ', 'Qual sua situação atual de trabalho?')\", \"('P2_b ', 'Setor')\", \"('P2_c ', 'Numero de Funcionarios')\", \"('P2_d ', 'Gestor?')\", \"('P2_e ', 'Cargo como Gestor')\", \"('P2_f ', 'Cargo Atual')\", \"('P2_g ', 'Nivel')\", \"('P2_h ', 'Faixa salarial')\", \"('P2_i ', 'Quanto tempo de experiência na área de dados você tem?')\", \"('P2_j ', 'Quanto tempo de experiência na área de TI/Engenharia de Software você teve antes de começar a trabalhar na área de dados?')\", \"('P2_k ', 'Você está satisfeito na sua empresa atual?')\", \"('P2_l ', 'Qual o principal motivo da sua insatisfação com a empresa atual?')\", \"('P2_l_1 ', 'Falta de oportunidade de crescimento no emprego atual')\", \"('P2_l_2 ', 'Salário atual não corresponde ao mercado')\", \"('P2_l_3 ', 'Não tenho uma boa relação com meu líder/gestor')\", \"('P2_l_4 ', 'Gostaria de trabalhar em em outra área de atuação')\", \"('P2_l_5 ', 'Gostaria de receber mais benefícios')\", \"('P2_l_6 ', 'O clima de trabalho/ambiente não é bom')\", \"('P2_l_7 ', 'Falta de maturidade analítica na empresa')\", \"('P2_m ', 'Você participou de entrevistas de emprego nos últimos 6 meses?')\", \"('P2_n ', 'Você pretende mudar de emprego nos próximos 6 meses?')\", \"('P2_o ', 'Quais os principais critérios que você leva em consideração no momento de decidir onde trabalhar?')\", \"('P2_o_1 ', 'Remuneração/Salário')\", \"('P2_o_2 ', 'Benefícios')\", \"('P2_o_3 ', 'Propósito do trabalho e da empresa')\", \"('P2_o_4 ', 'Flexibilidade de trabalho remoto')\", \"('P2_o_5 ', 'Ambiente e clima de trabalho')\", \"('P2_o_6 ', 'Oportunidade de aprendizado e trabalhar com referências na área')\", \"('P2_o_7 ', 'Plano de carreira e oportunidades de crescimento profissional')\", \"('P2_o_8 ', 'Maturidade da empresa em termos de tecnologia e dados')\", \"('P2_o_9 ', 'Qualidade dos gestores e líderes')\", \"('P2_o_10 ', 'Reputação que a empresa tem no mercado')\", \"('P2_q ', 'Empresa que trabaha passou por layoff em 2023')\", \"('P2_r ', 'Atualmente qual a sua forma de trabalho?')\", \"('P2_s ', 'Qual a forma de trabalho ideal para você?')\", \"('P2_t ', 'Caso sua empresa decida pelo modelo 100% presencial qual será sua atitude?')\", \"('P3_a ', 'Qual o número aproximado de pessoas que atuam com dados na sua empresa hoje?')\", \"('P3_b ', 'Quais desses papéis/cargos fazem parte do time (ou chapter) de dados da sua empresa?')\", \"('P3_b_1 ', 'Analytics Engineer')\", \"('P3_b_2 ', 'Engenharia de Dados/Data Engineer')\", \"('P3_b_3 ', 'Analista de Dados/Data Analyst')\", \"('P3_b_4 ', 'Cientista de Dados/Data Scientist')\", \"('P3_b_5 ', 'Database Administrator/DBA')\", \"('P3_b_6 ', 'Analista de Business Intelligence/BI')\", \"('P3_b_7 ', 'Arquiteto de Dados/Data Architect')\", \"('P3_b_8 ', 'Data Product Manager/DPM')\", \"('P3_b_9 ', 'Business Analyst')\", \"('P3_c ', 'Quais dessas responsabilidades fazem parte da sua rotina atual de trabalho como gestor?')\", \"('P3_c_1 ', 'Pensar na visão de longo prazo de dados da empresa e fortalecimento da cultura analítica da companhia.')\", \"('P3_c_2 ', 'Organização de treinamentos e iniciativas com o objetivo de aumentar a maturidade analítica das áreas de negócios.')\", \"('P3_c_3 ', 'Atração, seleção e contratação de talentos para o time de dados.')\", \"('P3_c_4 ', 'Decisão sobre contratação de ferramentas e tecnologias relacionadas a dados.')\", \"('P3_c_5 ', 'Sou gestor da equipe responsável pela engenharia de dados e por manter o Data Lake da empresa como fonte única dos dados, garantindo a qualidade e confiabilidade da informação.')\", \"('P3_c_6 ', 'Sou gestor da equipe responsável pela entrega de dados, estudos, relatórios e dashboards para as áreas de negócio da empresa.')\", \"('P3_c_7 ', 'Sou gestor da equipe responsável por iniciativas e projetos envolvendo Inteligência Artificial e Machine Learning.')\", \"('P3_c_8 ', 'Apesar de ser gestor ainda atuo na parte técnica, construindo soluções/análises/modelos etc.')\", \"('P3_c_9 ', 'Gestão de projetos de dados, cuidando das etapas, equipes envolvidas, atingimento dos objetivos etc.')\", \"('P3_c_10 ', 'Gestão de produtos de dados, cuidando da visão dos produtos, backlog, feedback de usuários etc.')\", \"('P3_c_11 ', 'Gestão de pessoas, apoio no desenvolvimento das pessoas, evolução de carreira')\", \"('P3_d ', 'Quais são os 3 maiores desafios que você tem como gestor no atual momento?')\", \"('P3_d_1 ', 'a Contratar novos talentos.')\", \"('P3_d_2 ', 'b Reter talentos.')\", \"('P3_d_3 ', 'c Convencer a empresa a aumentar os investimentos na área de dados.')\", \"('P3_d_4 ', 'd Gestão de equipes no ambiente remoto.')\", \"('P3_d_5 ', 'e Gestão de projetos envolvendo áreas multidisciplinares da empresa.')\", \"('P3_d_6 ', 'f Organizar as informações e garantir a qualidade e confiabilidade.')\", \"('P3_d_7 ', 'g Conseguir processar e armazenar um alto volume de dados.')\", \"('P3_d_8 ', 'h Conseguir gerar valor para as áreas de negócios através de estudos e experimentos.')\", \"('P3_d_9 ', 'i Desenvolver e manter modelos Machine Learning em produção.')\", \"('P3_d_10 ', 'j Gerenciar a expectativa das áreas de negócio em relação as entregas das equipes de dados.')\", \"('P3_d_11 ', 'k Garantir a manutenção dos projetos e modelos em produção, em meio ao crescimento da empresa.')\", \"('P3_d_12 ', 'Conseguir levar inovação para a empresa através dos dados.')\", \"('P3_d_13 ', 'Garantir retorno do investimento (ROI) em projetos de dados.')\", \"('P3_d_14 ', 'Dividir o tempo entre entregas técnicas e gestão.')\", \"('P3_e ', 'AI Generativa é uma prioridade em sua empresa?')\", \"('P3_f ', 'Tipos de uso de AI Generativa e LLMs na empresa')\", \"('P3_f_1 ', 'Colaboradores usando AI generativa de forma independente e descentralizada')\", \"('P3_f_2 ', 'Direcionamento centralizado do uso de AI generativa')\", \"('P3_f_3 ', 'Desenvolvedores utilizando Copilots')\", \"('P3_f_4 ', 'AI Generativa e LLMs para melhorar produtos externos')\", \"('P3_f_5 ', 'AI Generativa e LLMs para melhorar produtos internos para os colaboradores')\", \"('P3_f_6 ', 'IA Generativa e LLMs como principal frente do negócio')\", \"('P3_f_7 ', 'IA Generativa e LLMs não é prioridade')\", \"('P3_f_8 ', 'Não sei opinar sobre o uso de IA Generativa e LLMs na empresa')\", \"('P3_g ', 'Motivos que levam a empresa a não usar AI Genrativa e LLMs')\", \"('P3_g_1 ', 'Falta de compreensão dos casos de uso')\", \"('P3_g_2 ', 'Falta de confiabilidade das saídas (alucinação dos modelos)')\", \"('P3_g_3 ', 'Incerteza em relação a regulamentação')\", \"('P3_g_4 ', 'Preocupações com segurança e privacidade de dados')\", \"('P3_g_5 ', 'Retorno sobre investimento (ROI) não comprovado de IA Generativa')\", \"('P3_g_6 ', 'Dados da empresa não estão prontos para uso de IA Generativa')\", \"('P3_g_7 ', 'Falta de expertise ou falta de recursos')\", \"('P3_g_8 ', 'Alta direção da empresa não vê valor ou não vê como prioridade')\", \"('P3_g_9 ', 'Preocupações com propriedade intelectual')\", \"('P4_a ', 'Mesmo que esse não seja seu cargo formal, você considera que sua atuação no dia a dia, reflete alguma das opções listadas abaixo?')\", \"('P4_a_1 ', 'Atuacao')\", \"('P4_b ', 'Quais das fontes de dados listadas você já analisou ou processou no trabalho?')\", \"('P4_b_1 ', 'Dados relacionais (estruturados em bancos SQL)')\", \"('P4_b_2 ', 'Dados armazenados em bancos NoSQL')\", \"('P4_b_3 ', 'Imagens')\", \"('P4_b_4 ', 'Textos/Documentos')\", \"('P4_b_5 ', 'Vídeos')\", \"('P4_b_6 ', 'Áudios')\", \"('P4_b_7 ', 'Planilhas')\", \"('P4_b_8 ', 'Dados georeferenciados')\", \"('P4_c ', 'Entre as fontes de dados listadas, quais você utiliza na maior parte do tempo?')\", \"('P4_c_1 ', 'Dados relacionais (estruturados em bancos SQL)')\", \"('P4_c_2 ', 'Dados armazenados em bancos NoSQL')\", \"('P4_c_3 ', 'Imagens')\", \"('P4_c_4 ', 'Textos/Documentos')\", \"('P4_c_5 ', 'Vídeos')\", \"('P4_c_6 ', 'Áudios')\", \"('P4_c_7 ', 'Planilhas')\", \"('P4_c_8 ', 'Dados georeferenciados')\", \"('P4_d ', 'Quais das linguagens listadas abaixo você utiliza no trabalho?')\", \"('P4_d_1 ', 'SQL')\", \"('P4_d_2 ', 'R ')\", \"('P4_d_3 ', 'Python')\", \"('P4_d_4 ', 'C/C++/C#')\", \"('P4_d_5 ', '.NET')\", \"('P4_d_6 ', 'Java')\", \"('P4_d_7 ', 'Julia')\", \"('P4_d_8 ', 'SAS/Stata')\", \"('P4_d_9 ', 'Visual Basic/VBA')\", \"('P4_d_10 ', 'Scala')\", \"('P4_d_11 ', 'Matlab')\", \"('P4_d_12 ', 'Rust')\", \"('P4_d_13 ', 'PHP')\", \"('P4_d_14 ', 'JavaScript')\", \"('P4_d_15 ', 'Não utilizo nenhuma linguagem')\", \"('P4_e ', 'Entre as linguagens listadas abaixo, qual é a que você mais utiliza no trabalho?')\", \"('P4_f ', 'Entre as linguagens listadas abaixo, qual é a sua preferida?')\", \"('P4_g ', 'Quais dos bancos de dados/fontes de dados listados abaixo você utiliza no trabalho?')\", \"('P4_g_1 ', 'MySQL')\", \"('P4_g_2 ', 'Oracle')\", \"('P4_g_3 ', 'SQL SERVER')\", \"('P4_g_4 ', 'Amazon Aurora ou RDS')\", \"('P4_g_5 ', 'DynamoDB')\", \"('P4_g_6 ', 'CoachDB')\", \"('P4_g_7 ', 'Cassandra')\", \"('P4_g_8 ', 'MongoDB')\", \"('P4_g_9 ', 'MariaDB')\", \"('P4_g_10 ', 'Datomic')\", \"('P4_g_11 ', 'S3')\", \"('P4_g_12 ', 'PostgreSQL')\", \"('P4_g_13 ', 'ElasticSearch')\", \"('P4_g_14 ', 'DB2')\", \"('P4_g_15 ', 'Microsoft Access')\", \"('P4_g_16 ', 'SQLite')\", \"('P4_g_17 ', 'Sybase')\", \"('P4_g_18 ', 'Firebase')\", \"('P4_g_19 ', 'Vertica')\", \"('P4_g_20 ', 'Redis')\", \"('P4_g_21 ', 'Neo4J')\", \"('P4_g_22 ', 'Google BigQuery')\", \"('P4_g_23 ', 'Google Firestore')\", \"('P4_g_24 ', 'Amazon Redshift')\", \"('P4_g_25 ', 'Amazon Athena')\", \"('P4_g_26 ', 'Snowflake')\", \"('P4_g_27 ', 'Databricks')\", \"('P4_g_28 ', 'HBase')\", \"('P4_g_29 ', 'Presto')\", \"('P4_g_30 ', 'Splunk')\", \"('P4_g_31 ', 'SAP HANA')\", \"('P4_g_32 ', 'Hive')\", \"('P4_g_33 ', 'Firebird')\", \"('P4_h ', 'Dentre as opções listadas, qual sua Cloud preferida?')\", \"('P4_h_1 ', 'Azure (Microsoft)')\", \"('P4_h_2 ', 'Amazon Web Services (AWS)')\", \"('P4_h_3 ', 'Google Cloud (GCP)')\", \"('P4_h_4 ', 'Oracle Cloud')\", \"('P4_h_5 ', 'IBM')\", \"('P4_h_6 ', 'Servidores On Premise/Não utilizamos Cloud')\", \"('P4_h_7 ', 'Cloud Própria')\", \"('P4_i ', 'Cloud preferida')\", \"('P4_j ', 'Ferramenta de BI utilizada no dia a dia')\", \"('P4_j_1 ', 'Microsoft PowerBI')\", \"('P4_j_2 ', 'Qlik View/Qlik Sense')\", \"('P4_j_3 ', 'Tableau')\", \"('P4_j_4 ', 'Metabase')\", \"('P4_j_5 ', 'Superset')\", \"('P4_j_6 ', 'Redash')\", \"('P4_j_7 ', 'Looker')\", \"('P4_j_8 ', 'Looker Studio(Google Data Studio)')\", \"('P4_j_9 ', 'Amazon Quicksight')\", \"('P4_j_10 ', 'Mode')\", \"('P4_j_11 ', 'Alteryx')\", \"('P4_j_12 ', 'MicroStrategy')\", \"('P4_j_13 ', 'IBM Analytics/Cognos')\", \"('P4_j_14 ', 'SAP Business Objects/SAP Analytics')\", \"('P4_j_15 ', 'Oracle Business Intelligence')\", \"('P4_j_16 ', 'Salesforce/Einstein Analytics')\", \"('P4_j_17 ', 'Birst')\", \"('P4_j_18 ', 'SAS Visual Analytics')\", \"('P4_j_19 ', 'Grafana')\", \"('P4_j_20 ', 'TIBCO Spotfire')\", \"('P4_j_21 ', 'Pentaho')\", \"('P4_j_22 ', 'Fazemos todas as análises utilizando apenas Excel ou planilhas do google')\", \"('P4_j_23 ', 'Não utilizo nenhuma ferramenta de BI no trabalho')\", \"('P4_k ', 'Qual sua ferramenta de BI preferida?')\", \"('P4_l ', 'Qual o tipo de uso de AI Generativa e LLMs na empresa')\", \"('P4_l_1 ', 'Colaboradores usando AI generativa de forma independente e descentralizada')\", \"('P4_l_2 ', 'Direcionamento centralizado do uso de AI generativa')\", \"('P4_l_3 ', 'Desenvolvedores utilizando Copilots')\", \"('P4_l_4 ', 'AI Generativa e LLMs para melhorar produtos externos para os clientes finais')\", \"('P4_l_5 ', 'AI Generativa e LLMs para melhorar produtos internos para os colaboradores')\", \"('P4_l_6 ', 'IA Generativa e LLMs como principal frente do negócio')\", \"('P4_l_7 ', 'IA Generativa e LLMs não é prioridade')\", \"('P4_l_8 ', 'Não sei opinar sobre o uso de IA Generativa e LLMs na empresa')\", \"('P4_m ', 'Utiliza ChatGPT ou LLMs no trabalho?')\", \"('P4_m_1 ', 'Não uso soluções de AI Generativa com foco em produtividade')\", \"('P4_m_2 ', 'Uso soluções gratuitas de AI Generativa com foco em produtividade')\", \"('P4_m_3 ', 'Uso e pago pelas soluções de AI Generativa com foco em produtividade')\", \"('P4_m_4 ', 'A empresa que trabalho paga pelas soluções de AI Generativa com foco em produtividade')\", \"('P4_m_5 ', 'Uso soluções do tipo Copilot')\", \"('P5_a ', 'Qual seu objetivo na área de dados?')\", \"('P5_b ', 'Qual oportunidade você está buscando?')\", \"('P5_c ', 'Há quanto tempo você busca uma oportunidade na área de dados?')\", \"('P5_d ', 'Como tem sido a busca por um emprego na área de dados?')\", \"('P6_a ', 'Quais das opções abaixo fazem parte da sua rotina no trabalho atual como engenheiro de dados?')\", \"('P6_a_1 ', 'Desenvolvo pipelines de dados utilizando linguagens de programação como Python, Scala, Java etc.')\", \"('P6_a_2 ', 'Realizo construções de ETL's em ferramentas como Pentaho, Talend, Dataflow etc.')\", \"('P6_a_3 ', 'Crio consultas através da linguagem SQL para exportar informações e compartilhar com as áreas de negócio.')\", \"('P6_a_4 ', 'Atuo na integração de diferentes fontes de dados através de plataformas proprietárias como Stitch Data, Fivetran etc.')\", \"('P6_a_5 ', 'Modelo soluções de arquitetura de dados, criando componentes de ingestão de dados, transformação e recuperação da informação.')\", \"('P6_a_6 ', 'Desenvolvo/cuido da manutenção de repositórios de dados baseados em streaming de eventos como Data Lakes e Data Lakehouses.')\", \"('P6_a_7 ', 'Atuo na modelagem dos dados, com o objetivo de criar conjuntos de dados como Data Warehouses, Data Marts etc.')\", \"('P6_a_8 ', 'Cuido da qualidade dos dados, metadados e dicionário de dados.')\", \"('P6_a_9 ', 'Nenhuma das opções listadas refletem meu dia a dia.')\", \"('P6_b ', 'Quais as ferramentas/tecnologias de ETL que você utiliza no trabalho como Data Engineer?')\", \"('P6_b_1 ', 'Scripts Python')\", \"('P6_b_2 ', 'SQL & Stored Procedures')\", \"('P6_b_3 ', 'Apache Airflow')\", \"('P6_b_4 ', 'Apache NiFi')\", \"('P6_b_5 ', 'Luigi')\", \"('P6_b_6 ', 'AWS Glue')\", \"('P6_b_7 ', 'Talend')\", \"('P6_b_8 ', 'Pentaho')\", \"('P6_b_9 ', 'Alteryx')\", \"('P6_b_10 ', 'Stitch')\", \"('P6_b_11 ', 'Fivetran')\", \"('P6_b_12 ', 'Google Dataflow')\", \"('P6_b_13 ', 'Oracle Data Integrator')\", \"('P6_b_14 ', 'IBM DataStage')\", \"('P6_b_15 ', 'SAP BW ETL')\", \"('P6_b_16 ', 'SQL Server Integration Services (SSIS))\", \"('P6_b_17 ', 'SAS Data Integration')\", \"('P6_b_18 ', 'Qlik Sense')\", \"('P6_b_19 ', 'Knime')\", \"('P6_b_20 ', 'Databricks')\", \"('P6_b_21 ', 'Não utilizo ferramentas de ETL')\", \"('P6_c ', 'Sua organização possui um Data Lake?')\", \"('P6_d ', 'Qual tecnologia utilizada como plataforma do Data Lake?')\", \"('P6_e ', 'Sua organização possui um Data Warehouse?')\", \"('P6_f ', 'Qual tecnologia utilizada como plataforma do Data Warehouse?')\", \"('P6_g ', 'Quais as ferramentas de gestão de Qualidade de dados, Metadados e catálogo de dados você utiliza no trabalho?')\", \"('P6_h ', 'Em qual das opções abaixo você gasta a maior parte do seu tempo?')\", \"('P6_h_1 ', 'Desenvolvendo pipelines de dados utilizando linguagens de programação como Python, Scala, Java etc.')\", \"('P6_h_2 ', 'Realizando construções de ETL's em ferramentas como Pentaho, Talend, Dataflow etc.')\", \"('P6_h_3 ', 'Criando consultas através da linguagem SQL para exportar informações e compartilhar com as áreas de negócio.')\", \"('P6_h_4 ', 'Atuando na integração de diferentes fontes de dados através de plataformas proprietárias como Stitch Data, Fivetran etc.')\", \"('P6_h_5 ', 'Modelando soluções de arquitetura de dados, criando componentes de ingestão de dados, transformação e recuperação da informação.')\", \"('P6_h_6 ', 'Desenvolvendo/cuidando da manutenção de repositórios de dados baseados em streaming de eventos como Data Lakes e Data Lakehouses.')\", \"('P6_h_7 ', 'Atuando na modelagem dos dados, com o objetivo de criar conjuntos de dados como Data Warehouses, Data Marts etc.')\", \"('P6_h_8 ', 'Cuidando da qualidade dos dados, metadados e dicionário de dados.')\", \"('P6_h_9 ', 'Nenhuma das opções listadas refletem meu dia a dia.')\", \"('P7_1 ', 'Quais das opções abaixo fazem parte da sua rotina no trabalho atual com análise de dados?')\", \"('P7_a_1 ', 'Processo e analiso dados utilizando linguagens de programação como Python, R etc.')\", \"('P7_a_2 ', 'Realizo construções de dashboards em ferramentas de BI como PowerBI, Tableau, Looker, Qlik etc.')\", \"('P7_a_3 ', 'Crio consultas através da linguagem SQL para exportar informações e compartilhar com as áreas de negócio.')\", \"('P7_a_4 ', 'Utilizo API's para extrair dados e complementar minhas análises.')\", \"('P7_a_5 ', 'Realizo experimentos e estudos utilizando metodologias estatísticas como teste de hipótese, modelos de regressão etc.')\", \"('P7_a_6 ', 'Desenvolvo/cuido da manutenção de ETL's utilizando tecnologias como Talend, Pentaho, Airflow, Dataflow etc.')\", \"('P7_a_7 ', 'Atuo na modelagem dos dados, com o objetivo de criar conjuntos de dados, Data Warehouses, Data Marts etc.')\", \"('P7_a_8 ', 'Desenvolvo/cuido da manutenção de planilhas para atender as áreas de negócio.')\", \"('P7_a_9 ', 'Utilizo ferramentas avançadas de estatística como SASS, PSS, Stata etc')\", \"('P7_a_10 ', 'Nenhuma das opções listadas refletem meu dia a dia.')\", \"('P7_b ', 'Quais as ferramentas/tecnologias de ETL que você utiliza no trabalho como Data Analyst?')\", \"('P7_b_1 ', 'Scripts Python')\", \"('P7_b_2 ', 'SQL & Stored Procedures')\", \"('P7_b_3 ', 'Apache Airflow')\", \"('P7_b_4 ', 'Apache NiFi')\", \"('P7_b_5 ', 'Luigi')\", \"('P7_b_6 ', 'AWS Glue')\", \"('P7_b_7 ', 'Talend')\", \"('P7_b_8 ', 'Pentaho')\", \"('P7_b_9 ', 'Alteryx')\", \"('P7_b_10 ', 'Stitch')\", \"('P7_b_11 ', 'Fivetran')\", \"('P7_b_12 ', 'Google Dataflow')\", \"('P7_b_13 ', 'Oracle Data Integrator')\", \"('P7_b_14 ', 'IBM DataStage')\", \"('P7_b_15 ', 'SAP BW ETL')\", \"('P7_b_16 ', 'SQL Server Integration Services (SSIS)')\", \"('P7_b_17 ', 'SAS Data Integration')\", \"('P7_b_18 ', 'Qlik Sense')\", \"('P7_b_19 ', 'Knime')\", \"('P7_b_20 ', 'Databricks')\", \"('P7_b_21 ', 'Não utilizo ferramentas de ETL')\", \"('P7_c ', 'Sua empresa utiliza alguma das ferramentas listadas para dar mais autonomia em análise de dados para as áreas de negócio?')\", \"('P7_c_1 ', 'Ferramentas de AutoML como H2O.ai, Data Robot, BigML etc.')\", '(\\'P7_c_2 \\', \\'\"\"Point and Click\"\" Analytics como Alteryx, Knime, Rapidminer etc.\\')', \"('P7_c_3 ', 'Product metricts & Insights como Mixpanel, Amplitude, Adobe Analytics.')\", \"('P7_c_4 ', 'Ferramentas de análise dentro de ferramentas de CRM como Salesforce Einstein Anaytics ou Zendesk dashboards.')\", \"('P7_c_5 ', 'Minha empresa não utiliza essas ferramentas.')\", \"('P7_c_6 ', 'Não sei informar.')\", \"('P7_d ', 'Em qual das opções abaixo você gasta a maior parte do seu tempo de trabalho?')\", \"('P7_d_1 ', 'Processando e analisando dados utilizando linguagens de programação como Python, R etc.')\", \"('P7_d_2 ', 'Realizando construções de dashboards em ferramentas de BI como PowerBI, Tableau, Looker, Qlik etc.')\", \"('P7_d_3 ', 'Criando consultas através da linguagem SQL para exportar informações e compartilhar com as áreas de negócio.')\", \"('P7_d_4 ', 'Utilizando API's para extrair dados e complementar minhas análises.')\", \"('P7_d_5 ', 'Realizando experimentos e estudos utilizando metodologias estatísticas como teste de hipótese, modelos de regressão etc.')\", \"('P7_d_6 ', 'Desenvolvendo/cuidando da manutenção de ETL's utilizando tecnologias como Talend, Pentaho, Airflow, Dataflow etc.')\", \"('P7_d_7 ', 'Atuando na modelagem dos dados, com o objetivo de criar conjuntos de dados, Data Warehouses, Data Marts etc.')\", \"('P7_d_8 ', 'Desenvolvendo/cuidando da manutenção de planilhas do Excel ou Google Sheets para atender as áreas de negócio.')\", \"('P7_d_9 ', 'Utilizando ferramentas avançadas de estatística como SAS, SPSS, Stata etc, para realizar análises.')\", \"('P7_d_10 ', 'Nenhuma das opções listadas refletem meu dia a dia.')\", \"('P8_a ', 'Quais das opções abaixo fazem parte da sua rotina no trabalho atual com ciência de dados?')\", \"('P8_a_1 ', 'Estudos Ad-hoc com o objetivo de confirmar hipóteses, realizar modelos preditivos, forecasts, análise de cluster para resolver problemas pontuais e responder perguntas das áreas de negócio.')\", \"('P8_a_2 ', 'Sou responsável pela coleta e limpeza dos dados que uso para análise e modelagem.')\", \"('P8_a_3 ', 'Sou responsável por entrar em contato com os times de negócio para definição do problema, identificar a solução e apresentação de resultados.')\", \"('P8_a_4 ', 'Desenvolvo modelos de Machine Learning com o objetivo de colocar em produção em sistemas (produtos de dados).')\", \"('P8_a_5 ', 'Sou responsável por colocar modelos em produção, criar os pipelines de dados, APIs de consumo e monitoramento.')\", \"('P8_a_6 ', 'Cuido da manutenção de modelos de Machine Learning já em produção, atuando no monitoramento, ajustes e refatoração quando necessário.')\", \"('P8_a_7 ', 'Realizo construções de dashboards em ferramentas de BI como PowerBI, Tableau, Looker, Qlik, etc')\", \"('P8_a_8 ', 'Utilizo ferramentas avançadas de estatística como SAS, SPSS, Stata etc, para realizar análises estatísticas e ajustar modelos.')\", \"('P8_a_9 ', 'Crio e dou manutenção em ETLs, DAGs e automações de pipelines de dados.')\", \"('P8_a_10 ', 'Crio e gerencio soluções de Feature Store e cultura de MLOps.')\", \"('P8_a_11 ', 'Sou responsável por criar e manter a infra que meus modelos e soluções rodam (clusters, servidores, API, containers, etc.)')\", \"('P8_a_12 ', 'Treino e aplico LLM's para solucionar problemas de negócio.')\", \"('P8_b ', 'Quais as técnicas e métodos listados abaixo você costuma utilizar no trabalho?')\", \"('P8_b_1 ', 'Utilizo modelos de regressão (linear, logística, GLM)')\", \"('P8_b_2 ', 'Utilizo redes neurais ou modelos baseados em árvore para criar modelos de classificação')\", \"('P8_b_3 ', 'Desenvolvo sistemas de recomendação (RecSys)')\", \"('P8_b_4 ', 'Utilizo métodos estatísticos Bayesianos para analisar dados')\", \"('P8_b_5 ', 'Utilizo técnicas de NLP (Natural Language Processing) para análisar dados não-estruturados')\", \"('P8_b_6 ', 'Utilizo métodos estatísticos clássicos (Testes de hipótese, análise multivariada, sobrevivência, dados longitudinais, inferência estatistica) para analisar dados')\", \"('P8_b_7 ', 'Utilizo cadeias de Markov ou HMM's para realizar análises de dados')\", \"('P8_b_8 ', 'Desenvolvo técnicas de Clusterização (K-means, Spectral, DBScan etc)')\", \"('P8_b_9 ', 'Realizo previsões através de modelos de Séries Temporais (Time Series)')\", \"('P8_b_10 ', 'Utilizo modelos de Reinforcement Learning (aprendizado por reforço)')\", \"('P8_b_11 ', 'Utilizo modelos de Machine Learning para detecção de fraude')\", \"('P8_b_12 ', 'Utilizo métodos de Visão Computacional')\", \"('P8_b_13 ', 'Utilizo modelos de Detecção de Churn')\", \"('P8_b_14 ', 'Utilizo LLM's para solucionar problemas de negócio')\", \"('P8_3 ', 'Quais dessas tecnologias fazem parte do seu dia a dia como cientista de dados?')\", \"('P8_c_1 ', 'Ferramentas de BI (PowerBI, Looker, Tableau, Qlik etc)')\", \"('P8_c_2 ', 'Planilhas (Excel, Google Sheets etc)')\", \"('P8_c_3 ', 'Ambientes de desenvolvimento local (R-studio, JupyterLab, Anaconda)')\", \"('P8_c_4 ', 'Ambientes de desenvolvimento na nuvem (Google Colab, AWS Sagemaker, Kaggle Notebooks etc)')\", \"('P8_c_5 ', 'Ferramentas de AutoML (Datarobot, H2O, Auto-Keras etc)')\", \"('P8_c_6 ', 'Ferramentas de ETL (Apache Airflow, NiFi, Stitch, Fivetran, Pentaho etc)')\", \"('P8_c_7 ', 'Plataformas de Machine Learning (TensorFlow, Azure Machine Learning, Kubeflow etc)')\", \"('P8_c_8 ', 'Feature Store (Feast, Hopsworks, AWS Feature Store, Databricks Feature Store etc)')\", \"('P8_c_9 ', 'Sistemas de controle de versão (Github, DVC, Neptune, Gitlab etc)')\", \"('P8_c_10 ', 'Plataformas de Data Apps (Streamlit, Shiny, Plotly Dash etc)')\", \"('P8_c_11 ', 'Ferramentas de estatística avançada como SPSS, SAS, etc.')\", \"('P8_d ', 'Em qual das opções abaixo você gasta a maior parte do seu tempo no trabalho?')\", \"('P8_d_1 ', 'Estudos Ad-hoc com o objetivo de confirmar hipóteses, realizar modelos preditivos, forecasts, análise de cluster para resolver problemas pontuais e responder perguntas das áreas de negócio.')\", \"('P8_d_2 ', 'Coletando e limpando os dados que uso para análise e modelagem.')\", \"('P8_d_3 ', 'Entrando em contato com os times de negócio para definição do problema, identificar a solução e apresentação de resultados.')\", \"('P8_d_4 ', 'Desenvolvendo modelos de Machine Learning com o objetivo de colocar em produção em sistemas (produtos de dados).')\", \"('P8_d_5 ', 'Colocando modelos em produção, criando os pipelines de dados, APIs de consumo e monitoramento.')\", \"('P8_d_6 ', 'Cuidando da manutenção de modelos de Machine Learning já em produção, atuando no monitoramento, ajustes e refatoração quando necessário.')\", \"('P8_d_7 ', 'Realizando construções de dashboards em ferramentas de BI como PowerBI, Tableau, Looker, Qlik, etc.')\", \"('P8_d_8 ', 'Utilizando ferramentas avançadas de estatística como SAS, SPSS, Stata etc, para realizar análises.')\", \"('P8_d_9 ', 'Criando e dando manutenção em ETLs, DAGs e automações de pipelines de dados.')\", \"('P8_d_10 ', 'Criando e gerenciando soluções de Feature Store e cultura de MLOps.')\", \"('P8_d_11 ', 'Criando e mantendo a infra que meus modelos e soluções rodam (clusters, servidores, API, containers, etc.)')\", \"('P8_d_12 ', 'Treinando e aplicando LLM's para solucionar problemas de negócio.')\"]\n"
     ]
    }
   ],
   "source": [
    "print(df_2023.columns.tolist())"
   ]
  },
  {
   "cell_type": "code",
   "execution_count": 6,
   "id": "7b1f54c2",
   "metadata": {},
   "outputs": [
    {
     "data": {
      "text/plain": [
       "399"
      ]
     },
     "execution_count": 6,
     "metadata": {},
     "output_type": "execute_result"
    }
   ],
   "source": [
    "len(df_2023.columns.tolist())"
   ]
  },
  {
   "cell_type": "markdown",
   "id": "63e6cbf2",
   "metadata": {},
   "source": [
    "## 2 - Renomeação das colunas"
   ]
  },
  {
   "cell_type": "code",
   "execution_count": 7,
   "id": "437374ff",
   "metadata": {},
   "outputs": [],
   "source": [
    "mapa_renomeacao_2023 = {\n",
    "    # === DEMOGRAFIA E EXPERIÊNCIA ===\n",
    "    \"('P0', 'id')\": 'id_participante',\n",
    "    \"('P1_a ', 'Idade')\": 'idade',\n",
    "    \"('P1_a_1 ', 'Faixa idade')\": 'faixa_idade',\n",
    "    \"('P1_b ', 'Genero')\": 'genero',\n",
    "    \"('P1_c ', 'Cor/raca/etnia')\": 'etnia',\n",
    "    \"('P1_d ', 'PCD')\": 'pcd',\n",
    "    \"('P1_e ', 'experiencia_profissional_prejudicada')\": 'experiencia_prejudicada',\n",
    "    \"('P1_i_1 ', 'uf onde mora')\": 'uf_residencia',\n",
    "    \"('P1_i_2 ', 'Regiao onde mora')\": 'regiao_residencia',\n",
    "    \"('P1_k ', 'Regiao de origem')\": 'regiao_origem',\n",
    "    \"('P1_l ', 'Nivel de Ensino')\": 'nivel_ensino',\n",
    "    \"('P1_m ', 'Área de Formação')\": 'area_formacao',\n",
    "\n",
    "    # === REMUNERAÇÃO E CARREIRA ===\n",
    "    \"('P2_h ', 'Faixa salarial')\": 'faixa_salarial',\n",
    "    \"('P2_g ', 'Nivel')\": 'nivel_hierarquico',\n",
    "    \"('P2_f ', 'Cargo Atual')\": 'cargo_atual',\n",
    "    \"('P2_i ', 'Quanto tempo de experiência na área de dados você tem?')\": 'experiencia_dados_anos',\n",
    "    \"('P2_j ', 'Quanto tempo de experiência na área de TI/Engenharia de Software você teve antes de começar a trabalhar na área de dados?')\": 'experiencia_ti_anos',\n",
    "    \"('P2_a ', 'Qual sua situação atual de trabalho?')\": 'situacao_trabalho',\n",
    "    \"('P2_b ', 'Setor')\": 'setor_atuacao',\n",
    "    \"('P2_c ', 'Numero de Funcionarios')\": 'tamanho_empresa',\n",
    "    \"('P2_d ', 'Gestor?')\": 'atua_como_gestor',\n",
    "\n",
    "    # === FERRAMENTAS E TECNOLOGIAS (MULTISELEÇÃO E PRINCIPAIS) ===\n",
    "    \"('P4_d ', 'Quais das linguagens listadas abaixo você utiliza no trabalho?')\": 'linguagens_usadas_dia_a_dia',\n",
    "    \"('P4_e ', 'Entre as linguagens listadas abaixo, qual é a que você mais utiliza no trabalho?')\": 'linguagem_principal',\n",
    "    \"('P4_f ', 'Entre as linguagens listadas abaixo, qual é a sua preferida?')\": 'linguagem_preferida',\n",
    "    \"('P4_g ', 'Quais dos bancos de dados/fontes de dados listados abaixo você utiliza no trabalho?')\": 'bancos_dados_usados_dia_a_dia',\n",
    "    \"('P4_i ', 'Cloud preferida')\": 'cloud_preferida',\n",
    "    \"('P4_j ', 'Ferramenta de BI utilizada no dia a dia')\": 'ferramentas_bi_usadas_dia_a_dia',\n",
    "    \"('P4_k ', 'Qual sua ferramenta de BI preferida?')\": 'bi_preferida',\n",
    "\n",
    "    # === MODELO DE TRABALHO E SATISFAÇÃO ===\n",
    "    \"('P2_r ', 'Atualmente qual a sua forma de trabalho?')\": 'modelo_trabalho_atual',\n",
    "    \"('P2_s ', 'Qual a forma de trabalho ideal para você?')\": 'modelo_trabalho_ideal',\n",
    "    \"('P2_k ', 'Você está satisfeito na sua empresa atual?')\": 'satisfacao_trabalho',\n",
    "    \"('P2_l ', 'Qual o principal motivo da sua insatisfação com a empresa atual?')\": 'motivos_insatisfacao',\n",
    "    \"('P2_n ', 'Você pretende mudar de emprego nos próximos 6 meses?')\": 'planos_mudar_emprego',\n",
    "    \"('P2_m ', 'Você participou de entrevistas de emprego nos últimos 6 meses?')\": 'entrevistas_ultimos_6m',\n",
    "    \"('P2_o ', 'Quais os principais critérios que você leva em consideração no momento de decidir onde trabalhar?')\": 'criterios_escolha_emprego',\n",
    "    \"('P2_q ', 'Empresa que trabaha passou por layoff em 2023')\": 'empresa_teve_layoff_2023',\n",
    "\n",
    "    # === CONTEXTO DA EMPRESA E GESTÃO ===\n",
    "    \"('P3_a ', 'Qual o número aproximado de pessoas que atuam com dados na sua empresa hoje?')\": 'tamanho_equipe_dados',\n",
    "    \"('P3_d ', 'Quais são os 3 maiores desafios que você tem como gestor no atual momento?')\": 'desafios_gestor',\n",
    "\n",
    "    # === BUSCA POR EMPREGO ===\n",
    "    \"('P5_c ', 'Há quanto tempo você busca uma oportunidade na área de dados?')\": 'tempo_busca_emprego_meses',\n",
    "    \"('P5_b ', 'Qual oportunidade você está buscando?')\": 'tipo_oportunidade_buscada',\n",
    "\n",
    "    # === IA GENERATIVA ===\n",
    "    \"('P3_e ', 'AI Generativa é uma prioridade em sua empresa?')\": 'ia_generativa_prioridade',\n",
    "    \"('P4_m ', 'Utiliza ChatGPT ou LLMs no trabalho?')\": 'uso_ia_generativa_trabalho'\n",
    "}"
   ]
  },
  {
   "cell_type": "code",
   "execution_count": 8,
   "id": "ce6dc0fa",
   "metadata": {},
   "outputs": [
    {
     "data": {
      "text/plain": [
       "42"
      ]
     },
     "execution_count": 8,
     "metadata": {},
     "output_type": "execute_result"
    }
   ],
   "source": [
    "len(mapa_renomeacao_2023)"
   ]
  },
  {
   "cell_type": "code",
   "execution_count": 9,
   "id": "3bfd7d62",
   "metadata": {},
   "outputs": [],
   "source": [
    "#renomeação\n",
    "df_2023_renomeado = df_2023.rename(columns=mapa_renomeacao_2023)"
   ]
  },
  {
   "cell_type": "code",
   "execution_count": 10,
   "id": "ad9d4980",
   "metadata": {},
   "outputs": [
    {
     "data": {
      "text/html": [
       "<div>\n",
       "<style scoped>\n",
       "    .dataframe tbody tr th:only-of-type {\n",
       "        vertical-align: middle;\n",
       "    }\n",
       "\n",
       "    .dataframe tbody tr th {\n",
       "        vertical-align: top;\n",
       "    }\n",
       "\n",
       "    .dataframe thead th {\n",
       "        text-align: right;\n",
       "    }\n",
       "</style>\n",
       "<table border=\"1\" class=\"dataframe\">\n",
       "  <thead>\n",
       "    <tr style=\"text-align: right;\">\n",
       "      <th></th>\n",
       "      <th>id_participante</th>\n",
       "      <th>idade</th>\n",
       "      <th>faixa_idade</th>\n",
       "      <th>genero</th>\n",
       "      <th>etnia</th>\n",
       "      <th>pcd</th>\n",
       "      <th>experiencia_prejudicada</th>\n",
       "      <th>('P1_e_1 ', 'Não acredito que minha experiência profissional seja afetada')</th>\n",
       "      <th>('P1_e_2 ', 'Experiencia prejudicada devido a minha Cor Raça Etnia')</th>\n",
       "      <th>('P1_e_3 ', 'Experiencia prejudicada devido a minha identidade de gênero')</th>\n",
       "      <th>...</th>\n",
       "      <th>('P8_d_3 ', 'Entrando em contato com os times de negócio para definição do problema, identificar a solução e apresentação de resultados.')</th>\n",
       "      <th>('P8_d_4 ', 'Desenvolvendo modelos de Machine Learning com o objetivo de colocar em produção em sistemas (produtos de dados).')</th>\n",
       "      <th>('P8_d_5 ', 'Colocando modelos em produção, criando os pipelines de dados, APIs de consumo e monitoramento.')</th>\n",
       "      <th>('P8_d_6 ', 'Cuidando da manutenção de modelos de Machine Learning já em produção, atuando no monitoramento, ajustes e refatoração quando necessário.')</th>\n",
       "      <th>('P8_d_7 ', 'Realizando construções de dashboards em ferramentas de BI como PowerBI, Tableau, Looker, Qlik, etc.')</th>\n",
       "      <th>('P8_d_8 ', 'Utilizando ferramentas avançadas de estatística como SAS, SPSS, Stata etc, para realizar análises.')</th>\n",
       "      <th>('P8_d_9 ', 'Criando e dando manutenção em ETLs, DAGs e automações de pipelines de dados.')</th>\n",
       "      <th>('P8_d_10 ', 'Criando e gerenciando soluções de Feature Store e cultura de MLOps.')</th>\n",
       "      <th>('P8_d_11 ', 'Criando e mantendo a infra que meus modelos e soluções rodam (clusters, servidores, API, containers, etc.)')</th>\n",
       "      <th>('P8_d_12 ', 'Treinando e aplicando LLM's para solucionar problemas de negócio.')</th>\n",
       "    </tr>\n",
       "  </thead>\n",
       "  <tbody>\n",
       "    <tr>\n",
       "      <th>0</th>\n",
       "      <td>001b2d1qtli8t9z7oqgdhj001b2d4i0g</td>\n",
       "      <td>31</td>\n",
       "      <td>30-34</td>\n",
       "      <td>Masculino</td>\n",
       "      <td>Branca</td>\n",
       "      <td>Não</td>\n",
       "      <td>NaN</td>\n",
       "      <td>NaN</td>\n",
       "      <td>NaN</td>\n",
       "      <td>NaN</td>\n",
       "      <td>...</td>\n",
       "      <td>1.0</td>\n",
       "      <td>0.0</td>\n",
       "      <td>0.0</td>\n",
       "      <td>0.0</td>\n",
       "      <td>0.0</td>\n",
       "      <td>0.0</td>\n",
       "      <td>0.0</td>\n",
       "      <td>0.0</td>\n",
       "      <td>0.0</td>\n",
       "      <td>0.0</td>\n",
       "    </tr>\n",
       "    <tr>\n",
       "      <th>1</th>\n",
       "      <td>0026aa3fwd78u0026asg7456tfkjg2cs</td>\n",
       "      <td>30</td>\n",
       "      <td>30-34</td>\n",
       "      <td>Masculino</td>\n",
       "      <td>Branca</td>\n",
       "      <td>Não</td>\n",
       "      <td>NaN</td>\n",
       "      <td>NaN</td>\n",
       "      <td>NaN</td>\n",
       "      <td>NaN</td>\n",
       "      <td>...</td>\n",
       "      <td>NaN</td>\n",
       "      <td>NaN</td>\n",
       "      <td>NaN</td>\n",
       "      <td>NaN</td>\n",
       "      <td>NaN</td>\n",
       "      <td>NaN</td>\n",
       "      <td>NaN</td>\n",
       "      <td>NaN</td>\n",
       "      <td>NaN</td>\n",
       "      <td>NaN</td>\n",
       "    </tr>\n",
       "    <tr>\n",
       "      <th>2</th>\n",
       "      <td>00r21rb9pusd1b0v7ew00r21rw3dy69w</td>\n",
       "      <td>37</td>\n",
       "      <td>35-39</td>\n",
       "      <td>Feminino</td>\n",
       "      <td>Amarela</td>\n",
       "      <td>Não</td>\n",
       "      <td>Sim, acredito que a minha a experiência profis...</td>\n",
       "      <td>0.0</td>\n",
       "      <td>0.0</td>\n",
       "      <td>1.0</td>\n",
       "      <td>...</td>\n",
       "      <td>1.0</td>\n",
       "      <td>0.0</td>\n",
       "      <td>0.0</td>\n",
       "      <td>0.0</td>\n",
       "      <td>0.0</td>\n",
       "      <td>0.0</td>\n",
       "      <td>0.0</td>\n",
       "      <td>0.0</td>\n",
       "      <td>0.0</td>\n",
       "      <td>0.0</td>\n",
       "    </tr>\n",
       "    <tr>\n",
       "      <th>3</th>\n",
       "      <td>00urm3jf2cek12w6ygue00urm3jzd17j</td>\n",
       "      <td>22</td>\n",
       "      <td>22-24</td>\n",
       "      <td>Masculino</td>\n",
       "      <td>Preta</td>\n",
       "      <td>Não</td>\n",
       "      <td>Não acredito que minha experiência profissiona...</td>\n",
       "      <td>1.0</td>\n",
       "      <td>0.0</td>\n",
       "      <td>0.0</td>\n",
       "      <td>...</td>\n",
       "      <td>NaN</td>\n",
       "      <td>NaN</td>\n",
       "      <td>NaN</td>\n",
       "      <td>NaN</td>\n",
       "      <td>NaN</td>\n",
       "      <td>NaN</td>\n",
       "      <td>NaN</td>\n",
       "      <td>NaN</td>\n",
       "      <td>NaN</td>\n",
       "      <td>NaN</td>\n",
       "    </tr>\n",
       "    <tr>\n",
       "      <th>4</th>\n",
       "      <td>00v0az4g792svil00vn6y1kfm9hq8vy9</td>\n",
       "      <td>34</td>\n",
       "      <td>30-34</td>\n",
       "      <td>Masculino</td>\n",
       "      <td>Branca</td>\n",
       "      <td>Não</td>\n",
       "      <td>NaN</td>\n",
       "      <td>NaN</td>\n",
       "      <td>NaN</td>\n",
       "      <td>NaN</td>\n",
       "      <td>...</td>\n",
       "      <td>NaN</td>\n",
       "      <td>NaN</td>\n",
       "      <td>NaN</td>\n",
       "      <td>NaN</td>\n",
       "      <td>NaN</td>\n",
       "      <td>NaN</td>\n",
       "      <td>NaN</td>\n",
       "      <td>NaN</td>\n",
       "      <td>NaN</td>\n",
       "      <td>NaN</td>\n",
       "    </tr>\n",
       "    <tr>\n",
       "      <th>...</th>\n",
       "      <td>...</td>\n",
       "      <td>...</td>\n",
       "      <td>...</td>\n",
       "      <td>...</td>\n",
       "      <td>...</td>\n",
       "      <td>...</td>\n",
       "      <td>...</td>\n",
       "      <td>...</td>\n",
       "      <td>...</td>\n",
       "      <td>...</td>\n",
       "      <td>...</td>\n",
       "      <td>...</td>\n",
       "      <td>...</td>\n",
       "      <td>...</td>\n",
       "      <td>...</td>\n",
       "      <td>...</td>\n",
       "      <td>...</td>\n",
       "      <td>...</td>\n",
       "      <td>...</td>\n",
       "      <td>...</td>\n",
       "      <td>...</td>\n",
       "    </tr>\n",
       "    <tr>\n",
       "      <th>5288</th>\n",
       "      <td>zyg9519671iqrgy93qzyg95183k8ix5f</td>\n",
       "      <td>34</td>\n",
       "      <td>30-34</td>\n",
       "      <td>Masculino</td>\n",
       "      <td>Preta</td>\n",
       "      <td>Não</td>\n",
       "      <td>Não acredito que minha experiência profissiona...</td>\n",
       "      <td>1.0</td>\n",
       "      <td>0.0</td>\n",
       "      <td>0.0</td>\n",
       "      <td>...</td>\n",
       "      <td>NaN</td>\n",
       "      <td>NaN</td>\n",
       "      <td>NaN</td>\n",
       "      <td>NaN</td>\n",
       "      <td>NaN</td>\n",
       "      <td>NaN</td>\n",
       "      <td>NaN</td>\n",
       "      <td>NaN</td>\n",
       "      <td>NaN</td>\n",
       "      <td>NaN</td>\n",
       "    </tr>\n",
       "    <tr>\n",
       "      <th>5289</th>\n",
       "      <td>zyppgxzxko25qkgwsbrgpzyppgxzxs81</td>\n",
       "      <td>32</td>\n",
       "      <td>30-34</td>\n",
       "      <td>Masculino</td>\n",
       "      <td>Branca</td>\n",
       "      <td>Não</td>\n",
       "      <td>NaN</td>\n",
       "      <td>NaN</td>\n",
       "      <td>NaN</td>\n",
       "      <td>NaN</td>\n",
       "      <td>...</td>\n",
       "      <td>0.0</td>\n",
       "      <td>0.0</td>\n",
       "      <td>1.0</td>\n",
       "      <td>1.0</td>\n",
       "      <td>0.0</td>\n",
       "      <td>0.0</td>\n",
       "      <td>0.0</td>\n",
       "      <td>0.0</td>\n",
       "      <td>0.0</td>\n",
       "      <td>0.0</td>\n",
       "    </tr>\n",
       "    <tr>\n",
       "      <th>5290</th>\n",
       "      <td>zysl5f50cnz3r0cbe6t2zysrxbzfsrng</td>\n",
       "      <td>25</td>\n",
       "      <td>25-29</td>\n",
       "      <td>Masculino</td>\n",
       "      <td>Branca</td>\n",
       "      <td>Não</td>\n",
       "      <td>NaN</td>\n",
       "      <td>NaN</td>\n",
       "      <td>NaN</td>\n",
       "      <td>NaN</td>\n",
       "      <td>...</td>\n",
       "      <td>NaN</td>\n",
       "      <td>NaN</td>\n",
       "      <td>NaN</td>\n",
       "      <td>NaN</td>\n",
       "      <td>NaN</td>\n",
       "      <td>NaN</td>\n",
       "      <td>NaN</td>\n",
       "      <td>NaN</td>\n",
       "      <td>NaN</td>\n",
       "      <td>NaN</td>\n",
       "    </tr>\n",
       "    <tr>\n",
       "      <th>5291</th>\n",
       "      <td>zyt2656c9e1becxp457zyt26566dsng8</td>\n",
       "      <td>31</td>\n",
       "      <td>30-34</td>\n",
       "      <td>Masculino</td>\n",
       "      <td>Parda</td>\n",
       "      <td>Não</td>\n",
       "      <td>Não acredito que minha experiência profissiona...</td>\n",
       "      <td>1.0</td>\n",
       "      <td>0.0</td>\n",
       "      <td>0.0</td>\n",
       "      <td>...</td>\n",
       "      <td>NaN</td>\n",
       "      <td>NaN</td>\n",
       "      <td>NaN</td>\n",
       "      <td>NaN</td>\n",
       "      <td>NaN</td>\n",
       "      <td>NaN</td>\n",
       "      <td>NaN</td>\n",
       "      <td>NaN</td>\n",
       "      <td>NaN</td>\n",
       "      <td>NaN</td>\n",
       "    </tr>\n",
       "    <tr>\n",
       "      <th>5292</th>\n",
       "      <td>zzvyz3z5jy2lzzvyziv62lvtjrab9r5x</td>\n",
       "      <td>31</td>\n",
       "      <td>30-34</td>\n",
       "      <td>Masculino</td>\n",
       "      <td>Amarela</td>\n",
       "      <td>Não</td>\n",
       "      <td>Não acredito que minha experiência profissiona...</td>\n",
       "      <td>1.0</td>\n",
       "      <td>0.0</td>\n",
       "      <td>0.0</td>\n",
       "      <td>...</td>\n",
       "      <td>NaN</td>\n",
       "      <td>NaN</td>\n",
       "      <td>NaN</td>\n",
       "      <td>NaN</td>\n",
       "      <td>NaN</td>\n",
       "      <td>NaN</td>\n",
       "      <td>NaN</td>\n",
       "      <td>NaN</td>\n",
       "      <td>NaN</td>\n",
       "      <td>NaN</td>\n",
       "    </tr>\n",
       "  </tbody>\n",
       "</table>\n",
       "<p>5293 rows × 399 columns</p>\n",
       "</div>"
      ],
      "text/plain": [
       "                       id_participante  idade faixa_idade     genero    etnia  \\\n",
       "0     001b2d1qtli8t9z7oqgdhj001b2d4i0g     31       30-34  Masculino   Branca   \n",
       "1     0026aa3fwd78u0026asg7456tfkjg2cs     30       30-34  Masculino   Branca   \n",
       "2     00r21rb9pusd1b0v7ew00r21rw3dy69w     37       35-39   Feminino  Amarela   \n",
       "3     00urm3jf2cek12w6ygue00urm3jzd17j     22       22-24  Masculino    Preta   \n",
       "4     00v0az4g792svil00vn6y1kfm9hq8vy9     34       30-34  Masculino   Branca   \n",
       "...                                ...    ...         ...        ...      ...   \n",
       "5288  zyg9519671iqrgy93qzyg95183k8ix5f     34       30-34  Masculino    Preta   \n",
       "5289  zyppgxzxko25qkgwsbrgpzyppgxzxs81     32       30-34  Masculino   Branca   \n",
       "5290  zysl5f50cnz3r0cbe6t2zysrxbzfsrng     25       25-29  Masculino   Branca   \n",
       "5291  zyt2656c9e1becxp457zyt26566dsng8     31       30-34  Masculino    Parda   \n",
       "5292  zzvyz3z5jy2lzzvyziv62lvtjrab9r5x     31       30-34  Masculino  Amarela   \n",
       "\n",
       "      pcd                            experiencia_prejudicada  \\\n",
       "0     Não                                                NaN   \n",
       "1     Não                                                NaN   \n",
       "2     Não  Sim, acredito que a minha a experiência profis...   \n",
       "3     Não  Não acredito que minha experiência profissiona...   \n",
       "4     Não                                                NaN   \n",
       "...   ...                                                ...   \n",
       "5288  Não  Não acredito que minha experiência profissiona...   \n",
       "5289  Não                                                NaN   \n",
       "5290  Não                                                NaN   \n",
       "5291  Não  Não acredito que minha experiência profissiona...   \n",
       "5292  Não  Não acredito que minha experiência profissiona...   \n",
       "\n",
       "      ('P1_e_1 ', 'Não acredito que minha experiência profissional seja afetada')  \\\n",
       "0                                                   NaN                             \n",
       "1                                                   NaN                             \n",
       "2                                                   0.0                             \n",
       "3                                                   1.0                             \n",
       "4                                                   NaN                             \n",
       "...                                                 ...                             \n",
       "5288                                                1.0                             \n",
       "5289                                                NaN                             \n",
       "5290                                                NaN                             \n",
       "5291                                                1.0                             \n",
       "5292                                                1.0                             \n",
       "\n",
       "      ('P1_e_2 ', 'Experiencia prejudicada devido a minha Cor Raça Etnia')  \\\n",
       "0                                                   NaN                      \n",
       "1                                                   NaN                      \n",
       "2                                                   0.0                      \n",
       "3                                                   0.0                      \n",
       "4                                                   NaN                      \n",
       "...                                                 ...                      \n",
       "5288                                                0.0                      \n",
       "5289                                                NaN                      \n",
       "5290                                                NaN                      \n",
       "5291                                                0.0                      \n",
       "5292                                                0.0                      \n",
       "\n",
       "      ('P1_e_3 ', 'Experiencia prejudicada devido a minha identidade de gênero')  \\\n",
       "0                                                   NaN                            \n",
       "1                                                   NaN                            \n",
       "2                                                   1.0                            \n",
       "3                                                   0.0                            \n",
       "4                                                   NaN                            \n",
       "...                                                 ...                            \n",
       "5288                                                0.0                            \n",
       "5289                                                NaN                            \n",
       "5290                                                NaN                            \n",
       "5291                                                0.0                            \n",
       "5292                                                0.0                            \n",
       "\n",
       "      ...  \\\n",
       "0     ...   \n",
       "1     ...   \n",
       "2     ...   \n",
       "3     ...   \n",
       "4     ...   \n",
       "...   ...   \n",
       "5288  ...   \n",
       "5289  ...   \n",
       "5290  ...   \n",
       "5291  ...   \n",
       "5292  ...   \n",
       "\n",
       "      ('P8_d_3 ', 'Entrando em contato com os times de negócio para definição do problema, identificar a solução e apresentação de resultados.')  \\\n",
       "0                                                   1.0                                                                                            \n",
       "1                                                   NaN                                                                                            \n",
       "2                                                   1.0                                                                                            \n",
       "3                                                   NaN                                                                                            \n",
       "4                                                   NaN                                                                                            \n",
       "...                                                 ...                                                                                            \n",
       "5288                                                NaN                                                                                            \n",
       "5289                                                0.0                                                                                            \n",
       "5290                                                NaN                                                                                            \n",
       "5291                                                NaN                                                                                            \n",
       "5292                                                NaN                                                                                            \n",
       "\n",
       "     ('P8_d_4 ', 'Desenvolvendo modelos de Machine Learning com o objetivo de colocar em produção em sistemas (produtos de dados).')  \\\n",
       "0                                                   0.0                                                                                \n",
       "1                                                   NaN                                                                                \n",
       "2                                                   0.0                                                                                \n",
       "3                                                   NaN                                                                                \n",
       "4                                                   NaN                                                                                \n",
       "...                                                 ...                                                                                \n",
       "5288                                                NaN                                                                                \n",
       "5289                                                0.0                                                                                \n",
       "5290                                                NaN                                                                                \n",
       "5291                                                NaN                                                                                \n",
       "5292                                                NaN                                                                                \n",
       "\n",
       "      ('P8_d_5 ', 'Colocando modelos em produção, criando os pipelines de dados, APIs de consumo e monitoramento.')  \\\n",
       "0                                                   0.0                                                               \n",
       "1                                                   NaN                                                               \n",
       "2                                                   0.0                                                               \n",
       "3                                                   NaN                                                               \n",
       "4                                                   NaN                                                               \n",
       "...                                                 ...                                                               \n",
       "5288                                                NaN                                                               \n",
       "5289                                                1.0                                                               \n",
       "5290                                                NaN                                                               \n",
       "5291                                                NaN                                                               \n",
       "5292                                                NaN                                                               \n",
       "\n",
       "      ('P8_d_6 ', 'Cuidando da manutenção de modelos de Machine Learning já em produção, atuando no monitoramento, ajustes e refatoração quando necessário.')  \\\n",
       "0                                                   0.0                                                                                                         \n",
       "1                                                   NaN                                                                                                         \n",
       "2                                                   0.0                                                                                                         \n",
       "3                                                   NaN                                                                                                         \n",
       "4                                                   NaN                                                                                                         \n",
       "...                                                 ...                                                                                                         \n",
       "5288                                                NaN                                                                                                         \n",
       "5289                                                1.0                                                                                                         \n",
       "5290                                                NaN                                                                                                         \n",
       "5291                                                NaN                                                                                                         \n",
       "5292                                                NaN                                                                                                         \n",
       "\n",
       "      ('P8_d_7 ', 'Realizando construções de dashboards em ferramentas de BI como PowerBI, Tableau, Looker, Qlik, etc.')  \\\n",
       "0                                                   0.0                                                                    \n",
       "1                                                   NaN                                                                    \n",
       "2                                                   0.0                                                                    \n",
       "3                                                   NaN                                                                    \n",
       "4                                                   NaN                                                                    \n",
       "...                                                 ...                                                                    \n",
       "5288                                                NaN                                                                    \n",
       "5289                                                0.0                                                                    \n",
       "5290                                                NaN                                                                    \n",
       "5291                                                NaN                                                                    \n",
       "5292                                                NaN                                                                    \n",
       "\n",
       "      ('P8_d_8 ', 'Utilizando ferramentas avançadas de estatística como SAS, SPSS, Stata etc, para realizar análises.')  \\\n",
       "0                                                   0.0                                                                   \n",
       "1                                                   NaN                                                                   \n",
       "2                                                   0.0                                                                   \n",
       "3                                                   NaN                                                                   \n",
       "4                                                   NaN                                                                   \n",
       "...                                                 ...                                                                   \n",
       "5288                                                NaN                                                                   \n",
       "5289                                                0.0                                                                   \n",
       "5290                                                NaN                                                                   \n",
       "5291                                                NaN                                                                   \n",
       "5292                                                NaN                                                                   \n",
       "\n",
       "      ('P8_d_9 ', 'Criando e dando manutenção em ETLs, DAGs e automações de pipelines de dados.')  \\\n",
       "0                                                   0.0                                             \n",
       "1                                                   NaN                                             \n",
       "2                                                   0.0                                             \n",
       "3                                                   NaN                                             \n",
       "4                                                   NaN                                             \n",
       "...                                                 ...                                             \n",
       "5288                                                NaN                                             \n",
       "5289                                                0.0                                             \n",
       "5290                                                NaN                                             \n",
       "5291                                                NaN                                             \n",
       "5292                                                NaN                                             \n",
       "\n",
       "      ('P8_d_10 ', 'Criando e gerenciando soluções de Feature Store e cultura de MLOps.')  \\\n",
       "0                                                   0.0                                     \n",
       "1                                                   NaN                                     \n",
       "2                                                   0.0                                     \n",
       "3                                                   NaN                                     \n",
       "4                                                   NaN                                     \n",
       "...                                                 ...                                     \n",
       "5288                                                NaN                                     \n",
       "5289                                                0.0                                     \n",
       "5290                                                NaN                                     \n",
       "5291                                                NaN                                     \n",
       "5292                                                NaN                                     \n",
       "\n",
       "      ('P8_d_11 ', 'Criando e mantendo a infra que meus modelos e soluções rodam (clusters, servidores, API, containers, etc.)')  \\\n",
       "0                                                   0.0                                                                            \n",
       "1                                                   NaN                                                                            \n",
       "2                                                   0.0                                                                            \n",
       "3                                                   NaN                                                                            \n",
       "4                                                   NaN                                                                            \n",
       "...                                                 ...                                                                            \n",
       "5288                                                NaN                                                                            \n",
       "5289                                                0.0                                                                            \n",
       "5290                                                NaN                                                                            \n",
       "5291                                                NaN                                                                            \n",
       "5292                                                NaN                                                                            \n",
       "\n",
       "      ('P8_d_12 ', 'Treinando e aplicando LLM's para solucionar problemas de negócio.')  \n",
       "0                                                   0.0                                  \n",
       "1                                                   NaN                                  \n",
       "2                                                   0.0                                  \n",
       "3                                                   NaN                                  \n",
       "4                                                   NaN                                  \n",
       "...                                                 ...                                  \n",
       "5288                                                NaN                                  \n",
       "5289                                                0.0                                  \n",
       "5290                                                NaN                                  \n",
       "5291                                                NaN                                  \n",
       "5292                                                NaN                                  \n",
       "\n",
       "[5293 rows x 399 columns]"
      ]
     },
     "execution_count": 10,
     "metadata": {},
     "output_type": "execute_result"
    }
   ],
   "source": [
    "df_2023_renomeado"
   ]
  },
  {
   "cell_type": "code",
   "execution_count": 11,
   "id": "cccd31bf",
   "metadata": {},
   "outputs": [
    {
     "name": "stdout",
     "output_type": "stream",
     "text": [
      "['id_participante', 'idade', 'faixa_idade', 'genero', 'etnia', 'pcd', 'experiencia_prejudicada', \"('P1_e_1 ', 'Não acredito que minha experiência profissional seja afetada')\", \"('P1_e_2 ', 'Experiencia prejudicada devido a minha Cor Raça Etnia')\", \"('P1_e_3 ', 'Experiencia prejudicada devido a minha identidade de gênero')\", \"('P1_e_4 ', 'Experiencia prejudicada devido ao fato de ser PCD')\", \"('P1_f ', 'aspectos_prejudicados')\", \"('P1_f_1', 'Quantidade de oportunidades de emprego/vagas recebidas')\", \"('P1_f_2', 'Senioridade das vagas recebidas em relação à sua experiência')\", \"('P1_f_3', 'Aprovação em processos seletivos/entrevistas')\", \"('P1_f_4', 'Oportunidades de progressão de carreira')\", \"('P1_f_5', 'Velocidade de progressão de carreira')\", \"('P1_f_6', 'Nível de cobrança no trabalho/Stress no trabalho')\", \"('P1_f_7', 'Atenção dada diante das minhas opiniões e ideias')\", \"('P1_f_8', 'Relação com outros membros da empresa, em momentos de trabalho')\", \"('P1_f_9', 'Relação com outros membros da empresa, em momentos de integração e outros momentos fora do trabalho')\", \"('P1_g ', 'vive_no_brasil')\", \"('P1_i ', 'Estado onde mora')\", 'uf_residencia', 'regiao_residencia', \"('P1_j ', 'Mudou de Estado?')\", 'regiao_origem', 'nivel_ensino', 'area_formacao', 'situacao_trabalho', 'setor_atuacao', 'tamanho_empresa', 'atua_como_gestor', \"('P2_e ', 'Cargo como Gestor')\", 'cargo_atual', 'nivel_hierarquico', 'faixa_salarial', 'experiencia_dados_anos', 'experiencia_ti_anos', 'satisfacao_trabalho', 'motivos_insatisfacao', \"('P2_l_1 ', 'Falta de oportunidade de crescimento no emprego atual')\", \"('P2_l_2 ', 'Salário atual não corresponde ao mercado')\", \"('P2_l_3 ', 'Não tenho uma boa relação com meu líder/gestor')\", \"('P2_l_4 ', 'Gostaria de trabalhar em em outra área de atuação')\", \"('P2_l_5 ', 'Gostaria de receber mais benefícios')\", \"('P2_l_6 ', 'O clima de trabalho/ambiente não é bom')\", \"('P2_l_7 ', 'Falta de maturidade analítica na empresa')\", 'entrevistas_ultimos_6m', 'planos_mudar_emprego', 'criterios_escolha_emprego', \"('P2_o_1 ', 'Remuneração/Salário')\", \"('P2_o_2 ', 'Benefícios')\", \"('P2_o_3 ', 'Propósito do trabalho e da empresa')\", \"('P2_o_4 ', 'Flexibilidade de trabalho remoto')\", \"('P2_o_5 ', 'Ambiente e clima de trabalho')\", \"('P2_o_6 ', 'Oportunidade de aprendizado e trabalhar com referências na área')\", \"('P2_o_7 ', 'Plano de carreira e oportunidades de crescimento profissional')\", \"('P2_o_8 ', 'Maturidade da empresa em termos de tecnologia e dados')\", \"('P2_o_9 ', 'Qualidade dos gestores e líderes')\", \"('P2_o_10 ', 'Reputação que a empresa tem no mercado')\", 'empresa_teve_layoff_2023', 'modelo_trabalho_atual', 'modelo_trabalho_ideal', \"('P2_t ', 'Caso sua empresa decida pelo modelo 100% presencial qual será sua atitude?')\", 'tamanho_equipe_dados', \"('P3_b ', 'Quais desses papéis/cargos fazem parte do time (ou chapter) de dados da sua empresa?')\", \"('P3_b_1 ', 'Analytics Engineer')\", \"('P3_b_2 ', 'Engenharia de Dados/Data Engineer')\", \"('P3_b_3 ', 'Analista de Dados/Data Analyst')\", \"('P3_b_4 ', 'Cientista de Dados/Data Scientist')\", \"('P3_b_5 ', 'Database Administrator/DBA')\", \"('P3_b_6 ', 'Analista de Business Intelligence/BI')\", \"('P3_b_7 ', 'Arquiteto de Dados/Data Architect')\", \"('P3_b_8 ', 'Data Product Manager/DPM')\", \"('P3_b_9 ', 'Business Analyst')\", \"('P3_c ', 'Quais dessas responsabilidades fazem parte da sua rotina atual de trabalho como gestor?')\", \"('P3_c_1 ', 'Pensar na visão de longo prazo de dados da empresa e fortalecimento da cultura analítica da companhia.')\", \"('P3_c_2 ', 'Organização de treinamentos e iniciativas com o objetivo de aumentar a maturidade analítica das áreas de negócios.')\", \"('P3_c_3 ', 'Atração, seleção e contratação de talentos para o time de dados.')\", \"('P3_c_4 ', 'Decisão sobre contratação de ferramentas e tecnologias relacionadas a dados.')\", \"('P3_c_5 ', 'Sou gestor da equipe responsável pela engenharia de dados e por manter o Data Lake da empresa como fonte única dos dados, garantindo a qualidade e confiabilidade da informação.')\", \"('P3_c_6 ', 'Sou gestor da equipe responsável pela entrega de dados, estudos, relatórios e dashboards para as áreas de negócio da empresa.')\", \"('P3_c_7 ', 'Sou gestor da equipe responsável por iniciativas e projetos envolvendo Inteligência Artificial e Machine Learning.')\", \"('P3_c_8 ', 'Apesar de ser gestor ainda atuo na parte técnica, construindo soluções/análises/modelos etc.')\", \"('P3_c_9 ', 'Gestão de projetos de dados, cuidando das etapas, equipes envolvidas, atingimento dos objetivos etc.')\", \"('P3_c_10 ', 'Gestão de produtos de dados, cuidando da visão dos produtos, backlog, feedback de usuários etc.')\", \"('P3_c_11 ', 'Gestão de pessoas, apoio no desenvolvimento das pessoas, evolução de carreira')\", 'desafios_gestor', \"('P3_d_1 ', 'a Contratar novos talentos.')\", \"('P3_d_2 ', 'b Reter talentos.')\", \"('P3_d_3 ', 'c Convencer a empresa a aumentar os investimentos na área de dados.')\", \"('P3_d_4 ', 'd Gestão de equipes no ambiente remoto.')\", \"('P3_d_5 ', 'e Gestão de projetos envolvendo áreas multidisciplinares da empresa.')\", \"('P3_d_6 ', 'f Organizar as informações e garantir a qualidade e confiabilidade.')\", \"('P3_d_7 ', 'g Conseguir processar e armazenar um alto volume de dados.')\", \"('P3_d_8 ', 'h Conseguir gerar valor para as áreas de negócios através de estudos e experimentos.')\", \"('P3_d_9 ', 'i Desenvolver e manter modelos Machine Learning em produção.')\", \"('P3_d_10 ', 'j Gerenciar a expectativa das áreas de negócio em relação as entregas das equipes de dados.')\", \"('P3_d_11 ', 'k Garantir a manutenção dos projetos e modelos em produção, em meio ao crescimento da empresa.')\", \"('P3_d_12 ', 'Conseguir levar inovação para a empresa através dos dados.')\", \"('P3_d_13 ', 'Garantir retorno do investimento (ROI) em projetos de dados.')\", \"('P3_d_14 ', 'Dividir o tempo entre entregas técnicas e gestão.')\", 'ia_generativa_prioridade', \"('P3_f ', 'Tipos de uso de AI Generativa e LLMs na empresa')\", \"('P3_f_1 ', 'Colaboradores usando AI generativa de forma independente e descentralizada')\", \"('P3_f_2 ', 'Direcionamento centralizado do uso de AI generativa')\", \"('P3_f_3 ', 'Desenvolvedores utilizando Copilots')\", \"('P3_f_4 ', 'AI Generativa e LLMs para melhorar produtos externos')\", \"('P3_f_5 ', 'AI Generativa e LLMs para melhorar produtos internos para os colaboradores')\", \"('P3_f_6 ', 'IA Generativa e LLMs como principal frente do negócio')\", \"('P3_f_7 ', 'IA Generativa e LLMs não é prioridade')\", \"('P3_f_8 ', 'Não sei opinar sobre o uso de IA Generativa e LLMs na empresa')\", \"('P3_g ', 'Motivos que levam a empresa a não usar AI Genrativa e LLMs')\", \"('P3_g_1 ', 'Falta de compreensão dos casos de uso')\", \"('P3_g_2 ', 'Falta de confiabilidade das saídas (alucinação dos modelos)')\", \"('P3_g_3 ', 'Incerteza em relação a regulamentação')\", \"('P3_g_4 ', 'Preocupações com segurança e privacidade de dados')\", \"('P3_g_5 ', 'Retorno sobre investimento (ROI) não comprovado de IA Generativa')\", \"('P3_g_6 ', 'Dados da empresa não estão prontos para uso de IA Generativa')\", \"('P3_g_7 ', 'Falta de expertise ou falta de recursos')\", \"('P3_g_8 ', 'Alta direção da empresa não vê valor ou não vê como prioridade')\", \"('P3_g_9 ', 'Preocupações com propriedade intelectual')\", \"('P4_a ', 'Mesmo que esse não seja seu cargo formal, você considera que sua atuação no dia a dia, reflete alguma das opções listadas abaixo?')\", \"('P4_a_1 ', 'Atuacao')\", \"('P4_b ', 'Quais das fontes de dados listadas você já analisou ou processou no trabalho?')\", \"('P4_b_1 ', 'Dados relacionais (estruturados em bancos SQL)')\", \"('P4_b_2 ', 'Dados armazenados em bancos NoSQL')\", \"('P4_b_3 ', 'Imagens')\", \"('P4_b_4 ', 'Textos/Documentos')\", \"('P4_b_5 ', 'Vídeos')\", \"('P4_b_6 ', 'Áudios')\", \"('P4_b_7 ', 'Planilhas')\", \"('P4_b_8 ', 'Dados georeferenciados')\", \"('P4_c ', 'Entre as fontes de dados listadas, quais você utiliza na maior parte do tempo?')\", \"('P4_c_1 ', 'Dados relacionais (estruturados em bancos SQL)')\", \"('P4_c_2 ', 'Dados armazenados em bancos NoSQL')\", \"('P4_c_3 ', 'Imagens')\", \"('P4_c_4 ', 'Textos/Documentos')\", \"('P4_c_5 ', 'Vídeos')\", \"('P4_c_6 ', 'Áudios')\", \"('P4_c_7 ', 'Planilhas')\", \"('P4_c_8 ', 'Dados georeferenciados')\", 'linguagens_usadas_dia_a_dia', \"('P4_d_1 ', 'SQL')\", \"('P4_d_2 ', 'R ')\", \"('P4_d_3 ', 'Python')\", \"('P4_d_4 ', 'C/C++/C#')\", \"('P4_d_5 ', '.NET')\", \"('P4_d_6 ', 'Java')\", \"('P4_d_7 ', 'Julia')\", \"('P4_d_8 ', 'SAS/Stata')\", \"('P4_d_9 ', 'Visual Basic/VBA')\", \"('P4_d_10 ', 'Scala')\", \"('P4_d_11 ', 'Matlab')\", \"('P4_d_12 ', 'Rust')\", \"('P4_d_13 ', 'PHP')\", \"('P4_d_14 ', 'JavaScript')\", \"('P4_d_15 ', 'Não utilizo nenhuma linguagem')\", 'linguagem_principal', 'linguagem_preferida', 'bancos_dados_usados_dia_a_dia', \"('P4_g_1 ', 'MySQL')\", \"('P4_g_2 ', 'Oracle')\", \"('P4_g_3 ', 'SQL SERVER')\", \"('P4_g_4 ', 'Amazon Aurora ou RDS')\", \"('P4_g_5 ', 'DynamoDB')\", \"('P4_g_6 ', 'CoachDB')\", \"('P4_g_7 ', 'Cassandra')\", \"('P4_g_8 ', 'MongoDB')\", \"('P4_g_9 ', 'MariaDB')\", \"('P4_g_10 ', 'Datomic')\", \"('P4_g_11 ', 'S3')\", \"('P4_g_12 ', 'PostgreSQL')\", \"('P4_g_13 ', 'ElasticSearch')\", \"('P4_g_14 ', 'DB2')\", \"('P4_g_15 ', 'Microsoft Access')\", \"('P4_g_16 ', 'SQLite')\", \"('P4_g_17 ', 'Sybase')\", \"('P4_g_18 ', 'Firebase')\", \"('P4_g_19 ', 'Vertica')\", \"('P4_g_20 ', 'Redis')\", \"('P4_g_21 ', 'Neo4J')\", \"('P4_g_22 ', 'Google BigQuery')\", \"('P4_g_23 ', 'Google Firestore')\", \"('P4_g_24 ', 'Amazon Redshift')\", \"('P4_g_25 ', 'Amazon Athena')\", \"('P4_g_26 ', 'Snowflake')\", \"('P4_g_27 ', 'Databricks')\", \"('P4_g_28 ', 'HBase')\", \"('P4_g_29 ', 'Presto')\", \"('P4_g_30 ', 'Splunk')\", \"('P4_g_31 ', 'SAP HANA')\", \"('P4_g_32 ', 'Hive')\", \"('P4_g_33 ', 'Firebird')\", \"('P4_h ', 'Dentre as opções listadas, qual sua Cloud preferida?')\", \"('P4_h_1 ', 'Azure (Microsoft)')\", \"('P4_h_2 ', 'Amazon Web Services (AWS)')\", \"('P4_h_3 ', 'Google Cloud (GCP)')\", \"('P4_h_4 ', 'Oracle Cloud')\", \"('P4_h_5 ', 'IBM')\", \"('P4_h_6 ', 'Servidores On Premise/Não utilizamos Cloud')\", \"('P4_h_7 ', 'Cloud Própria')\", 'cloud_preferida', 'ferramentas_bi_usadas_dia_a_dia', \"('P4_j_1 ', 'Microsoft PowerBI')\", \"('P4_j_2 ', 'Qlik View/Qlik Sense')\", \"('P4_j_3 ', 'Tableau')\", \"('P4_j_4 ', 'Metabase')\", \"('P4_j_5 ', 'Superset')\", \"('P4_j_6 ', 'Redash')\", \"('P4_j_7 ', 'Looker')\", \"('P4_j_8 ', 'Looker Studio(Google Data Studio)')\", \"('P4_j_9 ', 'Amazon Quicksight')\", \"('P4_j_10 ', 'Mode')\", \"('P4_j_11 ', 'Alteryx')\", \"('P4_j_12 ', 'MicroStrategy')\", \"('P4_j_13 ', 'IBM Analytics/Cognos')\", \"('P4_j_14 ', 'SAP Business Objects/SAP Analytics')\", \"('P4_j_15 ', 'Oracle Business Intelligence')\", \"('P4_j_16 ', 'Salesforce/Einstein Analytics')\", \"('P4_j_17 ', 'Birst')\", \"('P4_j_18 ', 'SAS Visual Analytics')\", \"('P4_j_19 ', 'Grafana')\", \"('P4_j_20 ', 'TIBCO Spotfire')\", \"('P4_j_21 ', 'Pentaho')\", \"('P4_j_22 ', 'Fazemos todas as análises utilizando apenas Excel ou planilhas do google')\", \"('P4_j_23 ', 'Não utilizo nenhuma ferramenta de BI no trabalho')\", 'bi_preferida', \"('P4_l ', 'Qual o tipo de uso de AI Generativa e LLMs na empresa')\", \"('P4_l_1 ', 'Colaboradores usando AI generativa de forma independente e descentralizada')\", \"('P4_l_2 ', 'Direcionamento centralizado do uso de AI generativa')\", \"('P4_l_3 ', 'Desenvolvedores utilizando Copilots')\", \"('P4_l_4 ', 'AI Generativa e LLMs para melhorar produtos externos para os clientes finais')\", \"('P4_l_5 ', 'AI Generativa e LLMs para melhorar produtos internos para os colaboradores')\", \"('P4_l_6 ', 'IA Generativa e LLMs como principal frente do negócio')\", \"('P4_l_7 ', 'IA Generativa e LLMs não é prioridade')\", \"('P4_l_8 ', 'Não sei opinar sobre o uso de IA Generativa e LLMs na empresa')\", 'uso_ia_generativa_trabalho', \"('P4_m_1 ', 'Não uso soluções de AI Generativa com foco em produtividade')\", \"('P4_m_2 ', 'Uso soluções gratuitas de AI Generativa com foco em produtividade')\", \"('P4_m_3 ', 'Uso e pago pelas soluções de AI Generativa com foco em produtividade')\", \"('P4_m_4 ', 'A empresa que trabalho paga pelas soluções de AI Generativa com foco em produtividade')\", \"('P4_m_5 ', 'Uso soluções do tipo Copilot')\", \"('P5_a ', 'Qual seu objetivo na área de dados?')\", 'tipo_oportunidade_buscada', 'tempo_busca_emprego_meses', \"('P5_d ', 'Como tem sido a busca por um emprego na área de dados?')\", \"('P6_a ', 'Quais das opções abaixo fazem parte da sua rotina no trabalho atual como engenheiro de dados?')\", \"('P6_a_1 ', 'Desenvolvo pipelines de dados utilizando linguagens de programação como Python, Scala, Java etc.')\", \"('P6_a_2 ', 'Realizo construções de ETL's em ferramentas como Pentaho, Talend, Dataflow etc.')\", \"('P6_a_3 ', 'Crio consultas através da linguagem SQL para exportar informações e compartilhar com as áreas de negócio.')\", \"('P6_a_4 ', 'Atuo na integração de diferentes fontes de dados através de plataformas proprietárias como Stitch Data, Fivetran etc.')\", \"('P6_a_5 ', 'Modelo soluções de arquitetura de dados, criando componentes de ingestão de dados, transformação e recuperação da informação.')\", \"('P6_a_6 ', 'Desenvolvo/cuido da manutenção de repositórios de dados baseados em streaming de eventos como Data Lakes e Data Lakehouses.')\", \"('P6_a_7 ', 'Atuo na modelagem dos dados, com o objetivo de criar conjuntos de dados como Data Warehouses, Data Marts etc.')\", \"('P6_a_8 ', 'Cuido da qualidade dos dados, metadados e dicionário de dados.')\", \"('P6_a_9 ', 'Nenhuma das opções listadas refletem meu dia a dia.')\", \"('P6_b ', 'Quais as ferramentas/tecnologias de ETL que você utiliza no trabalho como Data Engineer?')\", \"('P6_b_1 ', 'Scripts Python')\", \"('P6_b_2 ', 'SQL & Stored Procedures')\", \"('P6_b_3 ', 'Apache Airflow')\", \"('P6_b_4 ', 'Apache NiFi')\", \"('P6_b_5 ', 'Luigi')\", \"('P6_b_6 ', 'AWS Glue')\", \"('P6_b_7 ', 'Talend')\", \"('P6_b_8 ', 'Pentaho')\", \"('P6_b_9 ', 'Alteryx')\", \"('P6_b_10 ', 'Stitch')\", \"('P6_b_11 ', 'Fivetran')\", \"('P6_b_12 ', 'Google Dataflow')\", \"('P6_b_13 ', 'Oracle Data Integrator')\", \"('P6_b_14 ', 'IBM DataStage')\", \"('P6_b_15 ', 'SAP BW ETL')\", \"('P6_b_16 ', 'SQL Server Integration Services (SSIS))\", \"('P6_b_17 ', 'SAS Data Integration')\", \"('P6_b_18 ', 'Qlik Sense')\", \"('P6_b_19 ', 'Knime')\", \"('P6_b_20 ', 'Databricks')\", \"('P6_b_21 ', 'Não utilizo ferramentas de ETL')\", \"('P6_c ', 'Sua organização possui um Data Lake?')\", \"('P6_d ', 'Qual tecnologia utilizada como plataforma do Data Lake?')\", \"('P6_e ', 'Sua organização possui um Data Warehouse?')\", \"('P6_f ', 'Qual tecnologia utilizada como plataforma do Data Warehouse?')\", \"('P6_g ', 'Quais as ferramentas de gestão de Qualidade de dados, Metadados e catálogo de dados você utiliza no trabalho?')\", \"('P6_h ', 'Em qual das opções abaixo você gasta a maior parte do seu tempo?')\", \"('P6_h_1 ', 'Desenvolvendo pipelines de dados utilizando linguagens de programação como Python, Scala, Java etc.')\", \"('P6_h_2 ', 'Realizando construções de ETL's em ferramentas como Pentaho, Talend, Dataflow etc.')\", \"('P6_h_3 ', 'Criando consultas através da linguagem SQL para exportar informações e compartilhar com as áreas de negócio.')\", \"('P6_h_4 ', 'Atuando na integração de diferentes fontes de dados através de plataformas proprietárias como Stitch Data, Fivetran etc.')\", \"('P6_h_5 ', 'Modelando soluções de arquitetura de dados, criando componentes de ingestão de dados, transformação e recuperação da informação.')\", \"('P6_h_6 ', 'Desenvolvendo/cuidando da manutenção de repositórios de dados baseados em streaming de eventos como Data Lakes e Data Lakehouses.')\", \"('P6_h_7 ', 'Atuando na modelagem dos dados, com o objetivo de criar conjuntos de dados como Data Warehouses, Data Marts etc.')\", \"('P6_h_8 ', 'Cuidando da qualidade dos dados, metadados e dicionário de dados.')\", \"('P6_h_9 ', 'Nenhuma das opções listadas refletem meu dia a dia.')\", \"('P7_1 ', 'Quais das opções abaixo fazem parte da sua rotina no trabalho atual com análise de dados?')\", \"('P7_a_1 ', 'Processo e analiso dados utilizando linguagens de programação como Python, R etc.')\", \"('P7_a_2 ', 'Realizo construções de dashboards em ferramentas de BI como PowerBI, Tableau, Looker, Qlik etc.')\", \"('P7_a_3 ', 'Crio consultas através da linguagem SQL para exportar informações e compartilhar com as áreas de negócio.')\", \"('P7_a_4 ', 'Utilizo API's para extrair dados e complementar minhas análises.')\", \"('P7_a_5 ', 'Realizo experimentos e estudos utilizando metodologias estatísticas como teste de hipótese, modelos de regressão etc.')\", \"('P7_a_6 ', 'Desenvolvo/cuido da manutenção de ETL's utilizando tecnologias como Talend, Pentaho, Airflow, Dataflow etc.')\", \"('P7_a_7 ', 'Atuo na modelagem dos dados, com o objetivo de criar conjuntos de dados, Data Warehouses, Data Marts etc.')\", \"('P7_a_8 ', 'Desenvolvo/cuido da manutenção de planilhas para atender as áreas de negócio.')\", \"('P7_a_9 ', 'Utilizo ferramentas avançadas de estatística como SASS, PSS, Stata etc')\", \"('P7_a_10 ', 'Nenhuma das opções listadas refletem meu dia a dia.')\", \"('P7_b ', 'Quais as ferramentas/tecnologias de ETL que você utiliza no trabalho como Data Analyst?')\", \"('P7_b_1 ', 'Scripts Python')\", \"('P7_b_2 ', 'SQL & Stored Procedures')\", \"('P7_b_3 ', 'Apache Airflow')\", \"('P7_b_4 ', 'Apache NiFi')\", \"('P7_b_5 ', 'Luigi')\", \"('P7_b_6 ', 'AWS Glue')\", \"('P7_b_7 ', 'Talend')\", \"('P7_b_8 ', 'Pentaho')\", \"('P7_b_9 ', 'Alteryx')\", \"('P7_b_10 ', 'Stitch')\", \"('P7_b_11 ', 'Fivetran')\", \"('P7_b_12 ', 'Google Dataflow')\", \"('P7_b_13 ', 'Oracle Data Integrator')\", \"('P7_b_14 ', 'IBM DataStage')\", \"('P7_b_15 ', 'SAP BW ETL')\", \"('P7_b_16 ', 'SQL Server Integration Services (SSIS)')\", \"('P7_b_17 ', 'SAS Data Integration')\", \"('P7_b_18 ', 'Qlik Sense')\", \"('P7_b_19 ', 'Knime')\", \"('P7_b_20 ', 'Databricks')\", \"('P7_b_21 ', 'Não utilizo ferramentas de ETL')\", \"('P7_c ', 'Sua empresa utiliza alguma das ferramentas listadas para dar mais autonomia em análise de dados para as áreas de negócio?')\", \"('P7_c_1 ', 'Ferramentas de AutoML como H2O.ai, Data Robot, BigML etc.')\", '(\\'P7_c_2 \\', \\'\"\"Point and Click\"\" Analytics como Alteryx, Knime, Rapidminer etc.\\')', \"('P7_c_3 ', 'Product metricts & Insights como Mixpanel, Amplitude, Adobe Analytics.')\", \"('P7_c_4 ', 'Ferramentas de análise dentro de ferramentas de CRM como Salesforce Einstein Anaytics ou Zendesk dashboards.')\", \"('P7_c_5 ', 'Minha empresa não utiliza essas ferramentas.')\", \"('P7_c_6 ', 'Não sei informar.')\", \"('P7_d ', 'Em qual das opções abaixo você gasta a maior parte do seu tempo de trabalho?')\", \"('P7_d_1 ', 'Processando e analisando dados utilizando linguagens de programação como Python, R etc.')\", \"('P7_d_2 ', 'Realizando construções de dashboards em ferramentas de BI como PowerBI, Tableau, Looker, Qlik etc.')\", \"('P7_d_3 ', 'Criando consultas através da linguagem SQL para exportar informações e compartilhar com as áreas de negócio.')\", \"('P7_d_4 ', 'Utilizando API's para extrair dados e complementar minhas análises.')\", \"('P7_d_5 ', 'Realizando experimentos e estudos utilizando metodologias estatísticas como teste de hipótese, modelos de regressão etc.')\", \"('P7_d_6 ', 'Desenvolvendo/cuidando da manutenção de ETL's utilizando tecnologias como Talend, Pentaho, Airflow, Dataflow etc.')\", \"('P7_d_7 ', 'Atuando na modelagem dos dados, com o objetivo de criar conjuntos de dados, Data Warehouses, Data Marts etc.')\", \"('P7_d_8 ', 'Desenvolvendo/cuidando da manutenção de planilhas do Excel ou Google Sheets para atender as áreas de negócio.')\", \"('P7_d_9 ', 'Utilizando ferramentas avançadas de estatística como SAS, SPSS, Stata etc, para realizar análises.')\", \"('P7_d_10 ', 'Nenhuma das opções listadas refletem meu dia a dia.')\", \"('P8_a ', 'Quais das opções abaixo fazem parte da sua rotina no trabalho atual com ciência de dados?')\", \"('P8_a_1 ', 'Estudos Ad-hoc com o objetivo de confirmar hipóteses, realizar modelos preditivos, forecasts, análise de cluster para resolver problemas pontuais e responder perguntas das áreas de negócio.')\", \"('P8_a_2 ', 'Sou responsável pela coleta e limpeza dos dados que uso para análise e modelagem.')\", \"('P8_a_3 ', 'Sou responsável por entrar em contato com os times de negócio para definição do problema, identificar a solução e apresentação de resultados.')\", \"('P8_a_4 ', 'Desenvolvo modelos de Machine Learning com o objetivo de colocar em produção em sistemas (produtos de dados).')\", \"('P8_a_5 ', 'Sou responsável por colocar modelos em produção, criar os pipelines de dados, APIs de consumo e monitoramento.')\", \"('P8_a_6 ', 'Cuido da manutenção de modelos de Machine Learning já em produção, atuando no monitoramento, ajustes e refatoração quando necessário.')\", \"('P8_a_7 ', 'Realizo construções de dashboards em ferramentas de BI como PowerBI, Tableau, Looker, Qlik, etc')\", \"('P8_a_8 ', 'Utilizo ferramentas avançadas de estatística como SAS, SPSS, Stata etc, para realizar análises estatísticas e ajustar modelos.')\", \"('P8_a_9 ', 'Crio e dou manutenção em ETLs, DAGs e automações de pipelines de dados.')\", \"('P8_a_10 ', 'Crio e gerencio soluções de Feature Store e cultura de MLOps.')\", \"('P8_a_11 ', 'Sou responsável por criar e manter a infra que meus modelos e soluções rodam (clusters, servidores, API, containers, etc.)')\", \"('P8_a_12 ', 'Treino e aplico LLM's para solucionar problemas de negócio.')\", \"('P8_b ', 'Quais as técnicas e métodos listados abaixo você costuma utilizar no trabalho?')\", \"('P8_b_1 ', 'Utilizo modelos de regressão (linear, logística, GLM)')\", \"('P8_b_2 ', 'Utilizo redes neurais ou modelos baseados em árvore para criar modelos de classificação')\", \"('P8_b_3 ', 'Desenvolvo sistemas de recomendação (RecSys)')\", \"('P8_b_4 ', 'Utilizo métodos estatísticos Bayesianos para analisar dados')\", \"('P8_b_5 ', 'Utilizo técnicas de NLP (Natural Language Processing) para análisar dados não-estruturados')\", \"('P8_b_6 ', 'Utilizo métodos estatísticos clássicos (Testes de hipótese, análise multivariada, sobrevivência, dados longitudinais, inferência estatistica) para analisar dados')\", \"('P8_b_7 ', 'Utilizo cadeias de Markov ou HMM's para realizar análises de dados')\", \"('P8_b_8 ', 'Desenvolvo técnicas de Clusterização (K-means, Spectral, DBScan etc)')\", \"('P8_b_9 ', 'Realizo previsões através de modelos de Séries Temporais (Time Series)')\", \"('P8_b_10 ', 'Utilizo modelos de Reinforcement Learning (aprendizado por reforço)')\", \"('P8_b_11 ', 'Utilizo modelos de Machine Learning para detecção de fraude')\", \"('P8_b_12 ', 'Utilizo métodos de Visão Computacional')\", \"('P8_b_13 ', 'Utilizo modelos de Detecção de Churn')\", \"('P8_b_14 ', 'Utilizo LLM's para solucionar problemas de negócio')\", \"('P8_3 ', 'Quais dessas tecnologias fazem parte do seu dia a dia como cientista de dados?')\", \"('P8_c_1 ', 'Ferramentas de BI (PowerBI, Looker, Tableau, Qlik etc)')\", \"('P8_c_2 ', 'Planilhas (Excel, Google Sheets etc)')\", \"('P8_c_3 ', 'Ambientes de desenvolvimento local (R-studio, JupyterLab, Anaconda)')\", \"('P8_c_4 ', 'Ambientes de desenvolvimento na nuvem (Google Colab, AWS Sagemaker, Kaggle Notebooks etc)')\", \"('P8_c_5 ', 'Ferramentas de AutoML (Datarobot, H2O, Auto-Keras etc)')\", \"('P8_c_6 ', 'Ferramentas de ETL (Apache Airflow, NiFi, Stitch, Fivetran, Pentaho etc)')\", \"('P8_c_7 ', 'Plataformas de Machine Learning (TensorFlow, Azure Machine Learning, Kubeflow etc)')\", \"('P8_c_8 ', 'Feature Store (Feast, Hopsworks, AWS Feature Store, Databricks Feature Store etc)')\", \"('P8_c_9 ', 'Sistemas de controle de versão (Github, DVC, Neptune, Gitlab etc)')\", \"('P8_c_10 ', 'Plataformas de Data Apps (Streamlit, Shiny, Plotly Dash etc)')\", \"('P8_c_11 ', 'Ferramentas de estatística avançada como SPSS, SAS, etc.')\", \"('P8_d ', 'Em qual das opções abaixo você gasta a maior parte do seu tempo no trabalho?')\", \"('P8_d_1 ', 'Estudos Ad-hoc com o objetivo de confirmar hipóteses, realizar modelos preditivos, forecasts, análise de cluster para resolver problemas pontuais e responder perguntas das áreas de negócio.')\", \"('P8_d_2 ', 'Coletando e limpando os dados que uso para análise e modelagem.')\", \"('P8_d_3 ', 'Entrando em contato com os times de negócio para definição do problema, identificar a solução e apresentação de resultados.')\", \"('P8_d_4 ', 'Desenvolvendo modelos de Machine Learning com o objetivo de colocar em produção em sistemas (produtos de dados).')\", \"('P8_d_5 ', 'Colocando modelos em produção, criando os pipelines de dados, APIs de consumo e monitoramento.')\", \"('P8_d_6 ', 'Cuidando da manutenção de modelos de Machine Learning já em produção, atuando no monitoramento, ajustes e refatoração quando necessário.')\", \"('P8_d_7 ', 'Realizando construções de dashboards em ferramentas de BI como PowerBI, Tableau, Looker, Qlik, etc.')\", \"('P8_d_8 ', 'Utilizando ferramentas avançadas de estatística como SAS, SPSS, Stata etc, para realizar análises.')\", \"('P8_d_9 ', 'Criando e dando manutenção em ETLs, DAGs e automações de pipelines de dados.')\", \"('P8_d_10 ', 'Criando e gerenciando soluções de Feature Store e cultura de MLOps.')\", \"('P8_d_11 ', 'Criando e mantendo a infra que meus modelos e soluções rodam (clusters, servidores, API, containers, etc.)')\", \"('P8_d_12 ', 'Treinando e aplicando LLM's para solucionar problemas de negócio.')\"]\n"
     ]
    }
   ],
   "source": [
    "print(df_2023_renomeado.columns.tolist())"
   ]
  },
  {
   "cell_type": "markdown",
   "id": "95a5047a",
   "metadata": {},
   "source": [
    "## 3 -tratando coluna de salário"
   ]
  },
  {
   "cell_type": "code",
   "execution_count": 12,
   "id": "563c51f5",
   "metadata": {},
   "outputs": [
    {
     "data": {
      "text/plain": [
       "faixa_salarial\n",
       "de R$ 8.001/mês a R$ 12.000/mês     1026\n",
       "de R$ 4.001/mês a R$ 6.000/mês       745\n",
       "de R$ 12.001/mês a R$ 16.000/mês     650\n",
       "de R$ 6.001/mês a R$ 8.000/mês       637\n",
       "de R$ 3.001/mês a R$ 4.000/mês       352\n",
       "de R$ 16.001/mês a R$ 20.000/mês     328\n",
       "de R$ 2.001/mês a R$ 3.000/mês       288\n",
       "de R$ 1.001/mês a R$ 2.000/mês       215\n",
       "de R$ 20.001/mês a R$ 25.000/mês     195\n",
       "de R$ 25.001/mês a R$ 30.000/mês     128\n",
       "de R$ 30.001/mês a R$ 40.000/mês      86\n",
       "Acima de R$ 40.001/mês                72\n",
       "Menos de R$ 1.000/mês                 30\n",
       "de R$ 101/mês a R$ 2.000/mês           1\n",
       "Name: count, dtype: int64"
      ]
     },
     "execution_count": 12,
     "metadata": {},
     "output_type": "execute_result"
    }
   ],
   "source": [
    "df_2023_renomeado['faixa_salarial'].value_counts()"
   ]
  },
  {
   "cell_type": "code",
   "execution_count": 13,
   "id": "20cd7846",
   "metadata": {},
   "outputs": [
    {
     "data": {
      "text/plain": [
       "np.int64(540)"
      ]
     },
     "execution_count": 13,
     "metadata": {},
     "output_type": "execute_result"
    }
   ],
   "source": [
    "df_2023_renomeado['faixa_salarial'].isnull().sum()"
   ]
  },
  {
   "cell_type": "code",
   "execution_count": 14,
   "id": "8f602850",
   "metadata": {},
   "outputs": [
    {
     "name": "stdout",
     "output_type": "stream",
     "text": [
      "Aplicando limpeza na coluna 'faixa_salarial'...\n",
      "coluna \"salario_medio_mensal\" criada\n"
     ]
    }
   ],
   "source": [
    "# USANDO a função em src/data_cleaner.py\n",
    "print(\"Aplicando limpeza na coluna 'faixa_salarial'...\")\n",
    "df_2023_renomeado['salario_medio_mensal'] = df_2023_renomeado['faixa_salarial'].apply(dc.converter_faixa_salarial)\n",
    "print('coluna \"salario_medio_mensal\" criada')"
   ]
  },
  {
   "cell_type": "code",
   "execution_count": 15,
   "id": "68374553",
   "metadata": {},
   "outputs": [
    {
     "data": {
      "text/html": [
       "<div>\n",
       "<style scoped>\n",
       "    .dataframe tbody tr th:only-of-type {\n",
       "        vertical-align: middle;\n",
       "    }\n",
       "\n",
       "    .dataframe tbody tr th {\n",
       "        vertical-align: top;\n",
       "    }\n",
       "\n",
       "    .dataframe thead th {\n",
       "        text-align: right;\n",
       "    }\n",
       "</style>\n",
       "<table border=\"1\" class=\"dataframe\">\n",
       "  <thead>\n",
       "    <tr style=\"text-align: right;\">\n",
       "      <th></th>\n",
       "      <th>faixa_salarial</th>\n",
       "      <th>salario_medio_mensal</th>\n",
       "    </tr>\n",
       "  </thead>\n",
       "  <tbody>\n",
       "    <tr>\n",
       "      <th>0</th>\n",
       "      <td>de R$ 12.001/mês a R$ 16.000/mês</td>\n",
       "      <td>14000.5</td>\n",
       "    </tr>\n",
       "    <tr>\n",
       "      <th>1</th>\n",
       "      <td>de R$ 6.001/mês a R$ 8.000/mês</td>\n",
       "      <td>7000.5</td>\n",
       "    </tr>\n",
       "    <tr>\n",
       "      <th>2</th>\n",
       "      <td>de R$ 6.001/mês a R$ 8.000/mês</td>\n",
       "      <td>7000.5</td>\n",
       "    </tr>\n",
       "    <tr>\n",
       "      <th>3</th>\n",
       "      <td>NaN</td>\n",
       "      <td>NaN</td>\n",
       "    </tr>\n",
       "    <tr>\n",
       "      <th>4</th>\n",
       "      <td>de R$ 4.001/mês a R$ 6.000/mês</td>\n",
       "      <td>5000.5</td>\n",
       "    </tr>\n",
       "    <tr>\n",
       "      <th>5</th>\n",
       "      <td>de R$ 8.001/mês a R$ 12.000/mês</td>\n",
       "      <td>10000.5</td>\n",
       "    </tr>\n",
       "    <tr>\n",
       "      <th>6</th>\n",
       "      <td>de R$ 4.001/mês a R$ 6.000/mês</td>\n",
       "      <td>5000.5</td>\n",
       "    </tr>\n",
       "    <tr>\n",
       "      <th>7</th>\n",
       "      <td>de R$ 20.001/mês a R$ 25.000/mês</td>\n",
       "      <td>22500.5</td>\n",
       "    </tr>\n",
       "    <tr>\n",
       "      <th>8</th>\n",
       "      <td>NaN</td>\n",
       "      <td>NaN</td>\n",
       "    </tr>\n",
       "    <tr>\n",
       "      <th>9</th>\n",
       "      <td>NaN</td>\n",
       "      <td>NaN</td>\n",
       "    </tr>\n",
       "  </tbody>\n",
       "</table>\n",
       "</div>"
      ],
      "text/plain": [
       "                     faixa_salarial  salario_medio_mensal\n",
       "0  de R$ 12.001/mês a R$ 16.000/mês               14000.5\n",
       "1    de R$ 6.001/mês a R$ 8.000/mês                7000.5\n",
       "2    de R$ 6.001/mês a R$ 8.000/mês                7000.5\n",
       "3                               NaN                   NaN\n",
       "4    de R$ 4.001/mês a R$ 6.000/mês                5000.5\n",
       "5   de R$ 8.001/mês a R$ 12.000/mês               10000.5\n",
       "6    de R$ 4.001/mês a R$ 6.000/mês                5000.5\n",
       "7  de R$ 20.001/mês a R$ 25.000/mês               22500.5\n",
       "8                               NaN                   NaN\n",
       "9                               NaN                   NaN"
      ]
     },
     "execution_count": 15,
     "metadata": {},
     "output_type": "execute_result"
    }
   ],
   "source": [
    "df_2023_renomeado[['faixa_salarial', 'salario_medio_mensal']].head(10)"
   ]
  },
  {
   "cell_type": "markdown",
   "id": "bc5f55cd",
   "metadata": {},
   "source": [
    "## 4- Limpando a coluna cargo"
   ]
  },
  {
   "cell_type": "code",
   "execution_count": 16,
   "id": "d8868da2",
   "metadata": {},
   "outputs": [
    {
     "data": {
      "text/plain": [
       "nivel_hierarquico\n",
       "Sênior    1419\n",
       "Pleno     1392\n",
       "Júnior    1046\n",
       "Name: count, dtype: int64"
      ]
     },
     "execution_count": 16,
     "metadata": {},
     "output_type": "execute_result"
    }
   ],
   "source": [
    "df_2023_renomeado['nivel_hierarquico'].value_counts()"
   ]
  },
  {
   "cell_type": "code",
   "execution_count": 17,
   "id": "3a22333c",
   "metadata": {},
   "outputs": [
    {
     "name": "stdout",
     "output_type": "stream",
     "text": [
      "coluna 'gupo_coluna' criado com sucesso \n"
     ]
    }
   ],
   "source": [
    "df_2023_renomeado['grupo_cargo'] = df_2023_renomeado['cargo_atual'].apply(dc.agrupar_cargo)\n",
    "print(\"coluna 'gupo_coluna' criado com sucesso \")"
   ]
  },
  {
   "cell_type": "code",
   "execution_count": 18,
   "id": "8d86a05b",
   "metadata": {},
   "outputs": [
    {
     "data": {
      "text/plain": [
       "grupo_cargo\n",
       "Não se aplica/Outra área      1436\n",
       "Analista de Dados              907\n",
       "Cientista de Dados             687\n",
       "Engenheiro de Dados            684\n",
       "Outros                         583\n",
       "Analista de BI                 506\n",
       "Analista de Negócios           195\n",
       "Engenheiro de Analytics        139\n",
       "Gestão de Produto de Dados      81\n",
       "Engenheiro de ML                75\n",
       "Name: count, dtype: int64"
      ]
     },
     "execution_count": 18,
     "metadata": {},
     "output_type": "execute_result"
    }
   ],
   "source": [
    "df_2023_renomeado['grupo_cargo'].value_counts()"
   ]
  },
  {
   "cell_type": "markdown",
   "id": "81f957e7",
   "metadata": {},
   "source": [
    "## 5 - Tratando coluna 'experiencia_dados_anos'"
   ]
  },
  {
   "cell_type": "code",
   "execution_count": 19,
   "id": "94fd27d1",
   "metadata": {},
   "outputs": [
    {
     "data": {
      "text/plain": [
       "experiencia_dados_anos\n",
       "de 1 a 2 anos                             1201\n",
       "de 3 a 4 anos                             1109\n",
       "Mais de 10 anos                            557\n",
       "Menos de 1 ano                             476\n",
       "de 4 a 6 anos                              463\n",
       "de 7 a 10 anos                             429\n",
       "de 5 a 6 anos                              356\n",
       "Não tenho experiência na área de dados     162\n",
       "Name: count, dtype: int64"
      ]
     },
     "execution_count": 19,
     "metadata": {},
     "output_type": "execute_result"
    }
   ],
   "source": [
    "df_2023_renomeado['experiencia_dados_anos'].value_counts()"
   ]
  },
  {
   "cell_type": "code",
   "execution_count": 20,
   "id": "bc6dd895",
   "metadata": {},
   "outputs": [
    {
     "name": "stdout",
     "output_type": "stream",
     "text": [
      "coluna \"experiencia_anos_num\" criada com sucesso\n"
     ]
    }
   ],
   "source": [
    "df_2023_renomeado['experiencia_anos_num'] = df_2023_renomeado['experiencia_dados_anos'].apply(dc.converter_experiencia)\n",
    "print('coluna \"experiencia_anos_num\" criada com sucesso')"
   ]
  },
  {
   "cell_type": "code",
   "execution_count": 21,
   "id": "32c8a771",
   "metadata": {},
   "outputs": [
    {
     "data": {
      "text/plain": [
       "np.int64(540)"
      ]
     },
     "execution_count": 21,
     "metadata": {},
     "output_type": "execute_result"
    }
   ],
   "source": [
    "df_2023_renomeado['experiencia_anos_num'].isna().sum()"
   ]
  },
  {
   "cell_type": "code",
   "execution_count": 22,
   "id": "409fd63b",
   "metadata": {},
   "outputs": [
    {
     "data": {
      "text/plain": [
       "np.int64(540)"
      ]
     },
     "execution_count": 22,
     "metadata": {},
     "output_type": "execute_result"
    }
   ],
   "source": [
    "df_2023_renomeado['experiencia_dados_anos'].isna().sum()"
   ]
  },
  {
   "cell_type": "code",
   "execution_count": 23,
   "id": "c3c1ea13",
   "metadata": {},
   "outputs": [
    {
     "data": {
      "text/html": [
       "<div>\n",
       "<style scoped>\n",
       "    .dataframe tbody tr th:only-of-type {\n",
       "        vertical-align: middle;\n",
       "    }\n",
       "\n",
       "    .dataframe tbody tr th {\n",
       "        vertical-align: top;\n",
       "    }\n",
       "\n",
       "    .dataframe thead th {\n",
       "        text-align: right;\n",
       "    }\n",
       "</style>\n",
       "<table border=\"1\" class=\"dataframe\">\n",
       "  <thead>\n",
       "    <tr style=\"text-align: right;\">\n",
       "      <th></th>\n",
       "      <th>salario_medio_mensal</th>\n",
       "      <th>grupo_cargo</th>\n",
       "      <th>experiencia_anos_num</th>\n",
       "    </tr>\n",
       "  </thead>\n",
       "  <tbody>\n",
       "    <tr>\n",
       "      <th>0</th>\n",
       "      <td>14000.5</td>\n",
       "      <td>Cientista de Dados</td>\n",
       "      <td>3.5</td>\n",
       "    </tr>\n",
       "    <tr>\n",
       "      <th>1</th>\n",
       "      <td>7000.5</td>\n",
       "      <td>Analista de BI</td>\n",
       "      <td>3.5</td>\n",
       "    </tr>\n",
       "    <tr>\n",
       "      <th>2</th>\n",
       "      <td>7000.5</td>\n",
       "      <td>Analista de Dados</td>\n",
       "      <td>1.5</td>\n",
       "    </tr>\n",
       "    <tr>\n",
       "      <th>3</th>\n",
       "      <td>NaN</td>\n",
       "      <td>Não se aplica/Outra área</td>\n",
       "      <td>NaN</td>\n",
       "    </tr>\n",
       "    <tr>\n",
       "      <th>4</th>\n",
       "      <td>5000.5</td>\n",
       "      <td>Analista de Dados</td>\n",
       "      <td>0.5</td>\n",
       "    </tr>\n",
       "    <tr>\n",
       "      <th>5</th>\n",
       "      <td>10000.5</td>\n",
       "      <td>Engenheiro de Dados</td>\n",
       "      <td>1.5</td>\n",
       "    </tr>\n",
       "    <tr>\n",
       "      <th>6</th>\n",
       "      <td>5000.5</td>\n",
       "      <td>Analista de Negócios</td>\n",
       "      <td>3.5</td>\n",
       "    </tr>\n",
       "    <tr>\n",
       "      <th>7</th>\n",
       "      <td>22500.5</td>\n",
       "      <td>Não se aplica/Outra área</td>\n",
       "      <td>8.5</td>\n",
       "    </tr>\n",
       "    <tr>\n",
       "      <th>8</th>\n",
       "      <td>NaN</td>\n",
       "      <td>Não se aplica/Outra área</td>\n",
       "      <td>NaN</td>\n",
       "    </tr>\n",
       "    <tr>\n",
       "      <th>9</th>\n",
       "      <td>NaN</td>\n",
       "      <td>Não se aplica/Outra área</td>\n",
       "      <td>NaN</td>\n",
       "    </tr>\n",
       "    <tr>\n",
       "      <th>10</th>\n",
       "      <td>1500.5</td>\n",
       "      <td>Analista de BI</td>\n",
       "      <td>1.5</td>\n",
       "    </tr>\n",
       "    <tr>\n",
       "      <th>11</th>\n",
       "      <td>NaN</td>\n",
       "      <td>Não se aplica/Outra área</td>\n",
       "      <td>NaN</td>\n",
       "    </tr>\n",
       "    <tr>\n",
       "      <th>12</th>\n",
       "      <td>3500.5</td>\n",
       "      <td>Outros</td>\n",
       "      <td>1.5</td>\n",
       "    </tr>\n",
       "    <tr>\n",
       "      <th>13</th>\n",
       "      <td>18000.5</td>\n",
       "      <td>Não se aplica/Outra área</td>\n",
       "      <td>12.0</td>\n",
       "    </tr>\n",
       "    <tr>\n",
       "      <th>14</th>\n",
       "      <td>14000.5</td>\n",
       "      <td>Não se aplica/Outra área</td>\n",
       "      <td>8.5</td>\n",
       "    </tr>\n",
       "  </tbody>\n",
       "</table>\n",
       "</div>"
      ],
      "text/plain": [
       "    salario_medio_mensal               grupo_cargo  experiencia_anos_num\n",
       "0                14000.5        Cientista de Dados                   3.5\n",
       "1                 7000.5            Analista de BI                   3.5\n",
       "2                 7000.5         Analista de Dados                   1.5\n",
       "3                    NaN  Não se aplica/Outra área                   NaN\n",
       "4                 5000.5         Analista de Dados                   0.5\n",
       "5                10000.5       Engenheiro de Dados                   1.5\n",
       "6                 5000.5      Analista de Negócios                   3.5\n",
       "7                22500.5  Não se aplica/Outra área                   8.5\n",
       "8                    NaN  Não se aplica/Outra área                   NaN\n",
       "9                    NaN  Não se aplica/Outra área                   NaN\n",
       "10                1500.5            Analista de BI                   1.5\n",
       "11                   NaN  Não se aplica/Outra área                   NaN\n",
       "12                3500.5                    Outros                   1.5\n",
       "13               18000.5  Não se aplica/Outra área                  12.0\n",
       "14               14000.5  Não se aplica/Outra área                   8.5"
      ]
     },
     "execution_count": 23,
     "metadata": {},
     "output_type": "execute_result"
    }
   ],
   "source": [
    "df_2023_renomeado[['salario_medio_mensal', 'grupo_cargo', 'experiencia_anos_num']].head(15)"
   ]
  },
  {
   "cell_type": "markdown",
   "id": "93ba9b4e",
   "metadata": {},
   "source": [
    "## 6 - Adicionando coluna ano"
   ]
  },
  {
   "cell_type": "code",
   "execution_count": 24,
   "id": "830f93b8",
   "metadata": {},
   "outputs": [
    {
     "name": "stdout",
     "output_type": "stream",
     "text": [
      "criando coluna \"ano\"\n"
     ]
    }
   ],
   "source": [
    "print('criando coluna \"ano\"')\n",
    "df_2023_renomeado['ano'] = 2023"
   ]
  },
  {
   "cell_type": "markdown",
   "id": "e246a4ca",
   "metadata": {},
   "source": [
    "## 7 - salvando arquivo novo"
   ]
  },
  {
   "cell_type": "code",
   "execution_count": 26,
   "id": "54766c8b",
   "metadata": {},
   "outputs": [],
   "source": [
    "output_filename = 'state_of_data_2023_limpo.csv'\n",
    "outuput_path = PROCESSED_DATA_DIR / output_filename"
   ]
  },
  {
   "cell_type": "code",
   "execution_count": 27,
   "id": "34c83e7b",
   "metadata": {},
   "outputs": [],
   "source": [
    "df_2023_renomeado.to_csv(outuput_path, index=False)"
   ]
  }
 ],
 "metadata": {
  "kernelspec": {
   "display_name": ".venv",
   "language": "python",
   "name": "python3"
  },
  "language_info": {
   "codemirror_mode": {
    "name": "ipython",
    "version": 3
   },
   "file_extension": ".py",
   "mimetype": "text/x-python",
   "name": "python",
   "nbconvert_exporter": "python",
   "pygments_lexer": "ipython3",
   "version": "3.12.3"
  }
 },
 "nbformat": 4,
 "nbformat_minor": 5
}
