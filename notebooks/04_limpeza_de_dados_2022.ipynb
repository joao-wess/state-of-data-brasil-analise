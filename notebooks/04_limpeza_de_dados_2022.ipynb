{
 "cells": [
  {
   "cell_type": "markdown",
   "id": "f0989726",
   "metadata": {},
   "source": [
    "## 1 - Caminho do dataset"
   ]
  },
  {
   "cell_type": "code",
   "execution_count": 2,
   "id": "874d34ef",
   "metadata": {},
   "outputs": [],
   "source": [
    "import pandas as pd\n",
    "import numpy as np\n",
    "from pathlib import Path\n",
    "import sys\n",
    "\n",
    "#pasta src com nossas funções\n",
    "sys.path.append('../src')\n",
    "import data_cleaner as dc"
   ]
  },
  {
   "cell_type": "code",
   "execution_count": 3,
   "id": "3271e27b",
   "metadata": {},
   "outputs": [],
   "source": [
    "#caminho vindo de src\n",
    "RAW_DATA_DIR, PROCESSED_DATA_DIR = dc.caminho_para_dataset()"
   ]
  },
  {
   "cell_type": "code",
   "execution_count": 4,
   "id": "0e08d62d",
   "metadata": {},
   "outputs": [
    {
     "name": "stdout",
     "output_type": "stream",
     "text": [
      "arquivo encontrado\n"
     ]
    }
   ],
   "source": [
    "try:\n",
    "  df_2022 = pd.read_csv(RAW_DATA_DIR/'State_of_data_2022.csv')\n",
    "  print(\"arquivo encontrado\")\n",
    "except FileNotFoundError as e:\n",
    "  print('Houve um erro, nao encontramos o arquivo' + e)"
   ]
  },
  {
   "cell_type": "markdown",
   "id": "abfec501",
   "metadata": {},
   "source": [
    "# 2 - renomeação"
   ]
  },
  {
   "cell_type": "code",
   "execution_count": 5,
   "id": "c6c74b34",
   "metadata": {},
   "outputs": [
    {
     "name": "stdout",
     "output_type": "stream",
     "text": [
      "[\"('P0', 'id')\", \"('P1_a ', 'Idade')\", \"('P1_a_1 ', 'Faixa idade')\", \"('P1_b ', 'Genero')\", \"('P1_c ', 'Cor/raca/etnia')\", \"('P1_d ', 'PCD')\", \"('P1_e ', 'experiencia_profissional_prejudicada')\", \"('P1_f ', 'aspectos_prejudicados')\", \"('P1_g ', 'vive_no_brasil')\", \"('P1_i ', 'Estado onde mora')\", \"('P1_i_1 ', 'uf onde mora')\", \"('P1_i_2 ', 'Regiao onde mora')\", \"('P1_j ', 'Mudou de Estado?')\", \"('P1_k ', 'Regiao de origem')\", \"('P1_l ', 'Nivel de Ensino')\", \"('P1_m ', 'Área de Formação')\", \"('P2_a ', 'Qual sua situação atual de trabalho?')\", \"('P2_b ', 'Setor')\", \"('P2_c ', 'Numero de Funcionarios')\", \"('P2_d ', 'Gestor?')\", \"('P2_e ', 'Cargo como Gestor')\", \"('P2_f ', 'Cargo Atual')\", \"('P2_g ', 'Nivel')\", \"('P2_h ', 'Faixa salarial')\", \"('P2_i ', 'Quanto tempo de experiência na área de dados você tem?')\", \"('P2_j ', 'Quanto tempo de experiência na área de TI/Engenharia de Software você teve antes de começar a trabalhar na área de dados?')\", \"('P2_k ', 'Você está satisfeito na sua empresa atual?')\", \"('P2_l ', 'Qual o principal motivo da sua insatisfação com a empresa atual?')\", \"('P2_l_1 ', 'Falta de oportunidade de crescimento no emprego atual')\", \"('P2_l_2 ', 'Salário atual não corresponde ao mercado')\", \"('P2_l_3 ', 'Não tenho uma boa relação com meu líder/gestor')\", \"('P2_l_4 ', 'Gostaria de trabalhar em em outra área de atuação')\", \"('P2_l_5 ', 'Gostaria de receber mais benefícios')\", \"('P2_l_6 ', 'O clima de trabalho/ambiente não é bom')\", \"('P2_l_7 ', 'Falta de maturidade analítica na empresa')\", \"('P2_m ', 'Você participou de entrevistas de emprego nos últimos 6 meses?')\", \"('P2_n ', 'Você pretende mudar de emprego nos próximos 6 meses?')\", \"('P2_o ', 'Quais os principais critérios que você leva em consideração no momento de decidir onde trabalhar?')\", \"('P2_o_1 ', 'Remuneração/Salário')\", \"('P2_o_2 ', 'Benefícios')\", \"('P2_o_3 ', 'Propósito do trabalho e da empresa')\", \"('P2_o_4 ', 'Flexibilidade de trabalho remoto')\", \"('P2_o_5 ', 'Ambiente e clima de trabalho')\", \"('P2_o_6 ', 'Oportunidade de aprendizado e trabalhar com referências na área')\", \"('P2_o_7 ', 'Plano de carreira e oportunidades de crescimento profissional')\", \"('P2_o_8 ', 'Maturidade da empresa em termos de tecnologia e dados')\", \"('P2_o_9 ', 'Qualidade dos gestores e líderes')\", \"('P2_o_10 ', 'Reputação que a empresa tem no mercado')\", \"('P2_p ', 'Atualmente qual a sua forma de trabalho?')\", \"('P2_q ', 'Qual a forma de trabalho ideal para você?')\", \"('P2_r ', 'Caso sua empresa decida pelo modelo 100% presencial qual será sua atitude?')\", \"('P2_s ', 'Sua empresa passu por Layoff em 2022?')\", \"('P3_a ', 'Qual o número aproximado de pessoas que atuam com dados na sua empresa hoje?')\", \"('P3_b ', 'Quais desses papéis/cargos fazem parte do time (ou chapter) de dados da sua empresa?')\", \"('P3_b_1 ', 'Analytics Engineer')\", \"('P3_b_2 ', 'Engenharia de Dados/Data Engineer')\", \"('P3_b_3 ', 'Analista de Dados/Data Analyst')\", \"('P3_b_4 ', 'Cientista de Dados/Data Scientist')\", \"('P3_b_5 ', 'Database Administrator/DBA')\", \"('P3_b_6 ', 'Analista de Business Intelligence/BI')\", \"('P3_b_7 ', 'Arquiteto de Dados/Data Architect')\", \"('P3_b_8 ', 'Data Product Manager/DPM')\", \"('P3_b_9 ', 'Business Analyst')\", \"('P3_c ', 'Quais dessas responsabilidades fazem parte da sua rotina atual de trabalho como gestor?')\", \"('P3_c_1 ', 'Pensar na visão de longo prazo de dados da empresa e fortalecimento da cultura analítica da companhia.')\", \"('P3_c_2 ', 'Organização de treinamentos e iniciativas com o objetivo de aumentar a maturidade analítica das áreas de negócios.')\", \"('P3_c_3 ', 'Atração, seleção e contratação de talentos para o time de dados.')\", \"('P3_c_4 ', 'Decisão sobre contratação de ferramentas e tecnologias relacionadas a dados.')\", \"('P3_c_5 ', 'Sou gestor da equipe responsável pela engenharia de dados e por manter o Data Lake da empresa como fonte única dos dados, garantindo a qualidade e confiabilidade da informação.')\", \"('P3_c_6 ', 'Sou gestor da equipe responsável pela entrega de dados, estudos, relatórios e dashboards para as áreas de negócio da empresa.')\", \"('P3_c_7 ', 'Sou gestor da equipe responsável por iniciativas e projetos envolvendo Inteligência Artificial e Machine Learning.')\", \"('P3_c_8 ', 'Apesar de ser gestor ainda atuo na parte técnica, construindo soluções/análises/modelos etc.')\", \"('P3_c_9 ', 'Gestão de projetos de dados, cuidando das etapas, equipes envolvidas, atingimento dos objetivos etc.')\", \"('P3_c_10 ', 'Gestão de produtos de dados, cuidando da visão dos produtos, backlog, feedback de usuários etc.')\", \"('P3_c_11 ', 'Gestão de pessoas, apoio no desenvolvimento das pessoas, evolução de carreira')\", \"('P3_d ', 'Quais são os 3 maiores desafios que você tem como gestor no atual momento?')\", \"('P3_d_1 ', 'a Contratar novos talentos.')\", \"('P3_d_2 ', 'b Reter talentos.')\", \"('P3_d_3 ', 'c Convencer a empresa a aumentar os investimentos na área de dados.')\", \"('P3_d_4 ', 'd Gestão de equipes no ambiente remoto.')\", \"('P3_d_5 ', 'e Gestão de projetos envolvendo áreas multidisciplinares da empresa.')\", \"('P3_d_6 ', 'f Organizar as informações e garantir a qualidade e confiabilidade.')\", \"('P3_d_7 ', 'g Conseguir processar e armazenar um alto volume de dados.')\", \"('P3_d_8 ', 'h Conseguir gerar valor para as áreas de negócios através de estudos e experimentos.')\", \"('P3_d_9 ', 'i Desenvolver e manter modelos Machine Learning em produção.')\", \"('P3_d_10 ', 'j Gerenciar a expectativa das áreas de negócio em relação as entregas das equipes de dados.')\", \"('P3_d_11 ', 'k Garantir a manutenção dos projetos e modelos em produção, em meio ao crescimento da empresa.')\", \"('P3_d_12 ', 'Conseguir levar inovação para a empresa através dos dados.')\", \"('P3_d_13 ', 'Garantir retorno do investimento (ROI) em projetos de dados.')\", \"('P3_d_14 ', 'Dividir o tempo entre entregas técnicas e gestão.')\", \"('P4_a ', 'Mesmo que esse não seja seu cargo formal, você considera que sua atuação no dia a dia, reflete alguma das opções listadas abaixo?')\", \"('P4_a_1 ', 'Atuacao')\", \"('P4_b ', 'Quais das fontes de dados listadas você já analisou ou processou no trabalho?')\", \"('P4_b_1 ', 'Dados relacionais (estruturados em bancos SQL)')\", \"('P4_b_2 ', 'Dados armazenados em bancos NoSQL')\", \"('P4_b_3 ', 'Imagens')\", \"('P4_b_4 ', 'Textos/Documentos')\", \"('P4_b_5 ', 'Vídeos')\", \"('P4_b_6 ', 'Áudios')\", \"('P4_b_7 ', 'Planilhas')\", \"('P4_b_8 ', 'Dados georeferenciados')\", \"('P4_c ', 'Entre as fontes de dados listadas, quais você utiliza na maior parte do tempo?')\", \"('P4_c_1 ', 'Dados relacionais (estruturados em bancos SQL)')\", \"('P4_c_2 ', 'Dados armazenados em bancos NoSQL')\", \"('P4_c_3 ', 'Imagens')\", \"('P4_c_4 ', 'Textos/Documentos')\", \"('P4_c_5 ', 'Vídeos')\", \"('P4_c_6 ', 'Áudios')\", \"('P4_c_7 ', 'Planilhas')\", \"('P4_c_8 ', 'Dados georeferenciados')\", \"('P4_d ', 'Quais das linguagens listadas abaixo você utiliza no trabalho?')\", \"('P4_d_1 ', 'SQL')\", \"('P4_d_2 ', 'R ')\", \"('P4_d_3 ', 'Python')\", \"('P4_d_4 ', 'C/C++/C#')\", \"('P4_d_5 ', '.NET')\", \"('P4_d_6 ', 'Java')\", \"('P4_d_7 ', 'Julia')\", \"('P4_d_8 ', 'SAS/Stata')\", \"('P4_d_9 ', 'Visual Basic/VBA')\", \"('P4_d_10 ', 'Scala')\", \"('P4_d_11 ', 'Matlab')\", \"('P4_d_12 ', 'PHP')\", \"('P4_d_13 ', 'Javascript')\", \"('P4_d_14 ', 'Não utilizo nenhuma linguagem')\", \"('P4_e ', 'Entre as linguagens listadas abaixo, qual é a que você mais utiliza no trabalho?')\", \"('P4_f ', 'Entre as linguagens listadas abaixo, qual é a sua preferida?')\", \"('P4_g ', 'Quais dos bancos de dados/fontes de dados listados abaixo você utiliza no trabalho?')\", \"('P4_g_1 ', 'MySQL')\", \"('P4_g_2 ', 'Oracle')\", \"('P4_g_3 ', 'SQL SERVER')\", \"('P4_f_4 ', 'Amazon Aurora ou RDS')\", \"('P4_f_5 ', 'DynamoDB')\", \"('P4_f_6 ', 'CoachDB')\", \"('P4_f_7 ', 'Cassandra')\", \"('P4_f_8 ', 'MongoDB')\", \"('P4_f_9 ', 'MariaDB')\", \"('P4_f_10 ', 'Datomic')\", \"('P4_f_11 ', 'S3')\", \"('P4_f_12 ', 'PostgreSQL')\", \"('P4_f_13 ', 'ElasticSearch')\", \"('P4_f_14 ', 'DB2')\", \"('P4_f_15 ', 'Microsoft Access')\", \"('P4_f_16 ', 'SQLite')\", \"('P4_f_17 ', 'Sybase')\", \"('P4_f_18 ', 'Firebase')\", \"('P4_f_19 ', 'Vertica')\", \"('P4_f_20 ', 'Redis')\", \"('P4_f_21 ', 'Neo4J')\", \"('P4_f_22 ', 'Google BigQuery')\", \"('P4_f_23 ', 'Google Firestore')\", \"('P4_f_24 ', 'Amazon Redshift')\", \"('P4_f_25 ', 'Amazon Athena')\", \"('P4_f_26 ', 'Snowflake')\", \"('P4_f_27 ', 'Databricks')\", \"('P4_f_28 ', 'HBase')\", \"('P4_f_29 ', 'Presto')\", \"('P4_f_30 ', 'Splunk')\", \"('P4_f_31 ', 'SAP HANA')\", \"('P4_f_32 ', 'Hive')\", \"('P4_f_33 ', 'Firebird')\", \"('P4_g ', 'Quais das opções de Cloud listadas abaixo você utiliza no trabalho?')\", \"('P4_h ', 'Dentre as opções listadas, qual sua Cloud preferida?')\", \"('P4_h_1 ', 'Azure (Microsoft)')\", \"('P4_h_2 ', 'Amazon Web Services (AWS)')\", \"('P4_h_3 ', 'Google Cloud (GCP)')\", \"('P4_i ', 'Microsoft PowerBI')\", \"('P4_i_1 ', 'Microsoft PowerBI')\", \"('P4_i_2 ', 'Qlik View/Qlik Sense')\", \"('P4_i_3 ', 'Tableau')\", \"('P4_i_4 ', 'Metabase')\", \"('P4_i_5 ', 'Superset')\", \"('P4_i_6 ', 'Redash')\", \"('P4_i_7 ', 'MicroStrategy')\", \"('P4_i_8 ', 'IBM Analytics/Cognos')\", \"('P4_i_9 ', 'SAP Business Objects')\", \"('P4_i_10 ', 'Oracle Business Intelligence')\", \"('P4_i_11 ', 'Amazon QuickSight')\", \"('P4_i_12 ', 'Salesforce/Einstein Analytics')\", \"('P4_i_13 ', 'Mode')\", \"('P4_i_14 ', 'Alteryx')\", \"('P4_i_15 ', 'Birst')\", \"('P4_i_16 ', 'Looker')\", \"('P4_i_17 ', 'Google Data Studio')\", \"('P4_i_18 ', 'SAS Visual Analytics')\", \"('P4_i_19 ', 'Grafana')\", \"('P4_i_20 ', 'TIBCO Spotfire')\", \"('P4_i_21 ', 'Pentaho')\", \"('P4_i_22 ', 'Fazemos todas as análises utilizando apenas Excel ou planilhas do google')\", \"('P4_i_23 ', 'Não utilizo nenhuma ferramenta de BI no trabalho')\", \"('P5_a ', 'Qual seu objetivo na área de dados?')\", \"('P5_b ', 'Qual oportunidade você está buscando?')\", \"('P5_c ', 'Há quanto tempo você busca uma oportunidade na área de dados?')\", \"('P5_d ', 'Como tem sido a busca por um emprego na área de dados?')\", \"('P6_a ', 'Quais das opções abaixo fazem parte da sua rotina no trabalho atual como engenheiro de dados?')\", \"('P6_a_1 ', 'Desenvolvo pipelines de dados utilizando linguagens de programação como Python, Scala, Java etc.')\", \"('P6_a_2 ', 'Realizo construções de ETL's em ferramentas como Pentaho, Talend, Dataflow etc.')\", \"('P6_a_3 ', 'Crio consultas através da linguagem SQL para exportar informações e compartilhar com as áreas de negócio.')\", \"('P6_a_4 ', 'Atuo na integração de diferentes fontes de dados através de plataformas proprietárias como Stitch Data, Fivetran etc.')\", \"('P6_a_5 ', 'Modelo soluções de arquitetura de dados, criando componentes de ingestão de dados, transformação e recuperação da informação.')\", \"('P6_a_6 ', 'Desenvolvo/cuido da manutenção de repositórios de dados baseados em streaming de eventos como Data Lakes e Data Lakehouses.')\", \"('P6_a_7 ', 'Atuo na modelagem dos dados, com o objetivo de criar conjuntos de dados como Data Warehouses, Data Marts etc.')\", \"('P6_a_8 ', 'Cuido da qualidade dos dados, metadados e dicionário de dados.')\", \"('P6_a_9 ', 'Nenhuma das opções listadas refletem meu dia a dia.')\", \"('P6_b ', 'Quais as ferramentas/tecnologias de ETL que você utiliza no trabalho como Data Engineer?')\", \"('P6_b_1 ', 'Scripts Python')\", \"('P6_b_2 ', 'SQL & Stored Procedures')\", \"('P6_b_3 ', 'Apache Airflow')\", \"('P6_b_4 ', 'Luigi')\", \"('P6_b_5 ', 'AWS Glue')\", \"('P6_b_6 ', 'Talend')\", \"('P6_b_7 ', 'Pentaho')\", \"('P6_b_8 ', 'Alteryx')\", \"('P6_b_9 ', 'Stitch')\", \"('P6_b_10 ', 'Fivetran')\", \"('P6_b_11 ', 'Google Dataflow')\", \"('P6_b_12 ', 'Oracle Data Integrator')\", \"('P6_b_13 ', 'IBM DataStage')\", \"('P6_b_14 ', 'SAP BW ETL')\", \"('P6_b_15 ', 'SQL Server Integration Services (SSIS)')\", \"('P6_b_16 ', 'SAS Data Integration')\", \"('P6_b_17 ', 'Qlik Sense')\", \"('P6_b_18 ', 'Knime')\", \"('P6_b_19 ', 'Databricks')\", \"('P6_b_19 ', 'Não utilizo ferramentas de ETL')\", \"('P6_c ', 'Sua organização possui um Data Lake?')\", \"('P6_d ', 'Qual tecnologia utilizada como plataforma do Data Lake?')\", \"('P6_e ', 'Sua organização possui um Data Warehouse?')\", \"('P6_f ', 'Qual tecnologia utilizada como plataforma do Data Warehouse?')\", \"('P6_g ', 'Quais as ferramentas de gestão de Qualidade de dados, Metadados e catálogo de dados você utiliza no trabalho?')\", \"('P6_g_1 ', 'great_expectations')\", \"('P6_g_2 ', 'dbt')\", \"('P6_g_3 ', 'AWS Deequ')\", \"('P6_g_4 ', 'Apache Griffin')\", \"('P6_g_5 ', 'Datafold')\", \"('P6_g_6 ', 'Amundsen')\", \"('P6_g_7 ', 'Monte Carlo')\", \"('P6_g_8 ', 'SODA')\", \"('P6_g_9 ', 'Big Eye')\", \"('P6_g_10 ', 'Data Band')\", \"('P6_g_11 ', 'Anomalo')\", \"('P6_g_l ', 'Metaplane')\", \"('P6_g_m ', 'Acceldata')\", \"('P6_h ', 'Em qual das opções abaixo você gasta a maior parte do seu tempo?')\", \"('P6_h_1 ', 'Desenvolvendo pipelines de dados utilizando linguagens de programação como Python, Scala, Java etc.')\", \"('P6_h_2 ', 'Realizando construções de ETL's em ferramentas como Pentaho, Talend, Dataflow etc.')\", \"('P6_h_3 ', 'Criando consultas através da linguagem SQL para exportar informações e compartilhar com as áreas de negócio.')\", \"('P6_h_4 ', 'Atuando na integração de diferentes fontes de dados através de plataformas proprietárias como Stitch Data, Fivetran etc.')\", \"('P6_h_5 ', 'Modelando soluções de arquitetura de dados, criando componentes de ingestão de dados, transformação e recuperação da informação.')\", \"('P6_h_6 ', 'Desenvolvendo/cuidando da manutenção de repositórios de dados baseados em streaming de eventos como Data Lakes e Data Lakehouses.')\", \"('P6_h_7 ', 'Atuando na modelagem dos dados, com o objetivo de criar conjuntos de dados como Data Warehouses, Data Marts etc.')\", \"('P6_h_8 ', 'Cuidando da qualidade dos dados, metadados e dicionário de dados.')\", \"('P6_h_9 ', 'Nenhuma das opções listadas refletem meu dia a dia.')\", \"('P7_1 ', 'Quais das opções abaixo fazem parte da sua rotina no trabalho atual com análise de dados?')\", \"('P7_a_1 ', 'Processo e analiso dados utilizando linguagens de programação como Python, R etc.')\", \"('P7_a_2 ', 'Realizo construções de dashboards em ferramentas de BI como PowerBI, Tableau, Looker, Qlik etc.')\", \"('P7_a_3 ', 'Crio consultas através da linguagem SQL para exportar informações e compartilhar com as áreas de negócio.')\", \"('P7_a_4 ', 'Utilizo API's para extrair dados e complementar minhas análises.')\", \"('P7_a_5 ', 'Realizo experimentos e estudos utilizando metodologias estatísticas como teste de hipótese, modelos de regressão etc.')\", \"('P7_a_6 ', 'Desenvolvo/cuido da manutenção de ETL's utilizando tecnologias como Talend, Pentaho, Airflow, Dataflow etc.')\", \"('P7_a_7 ', 'Atuo na modelagem dos dados, com o objetivo de criar conjuntos de dados, Data Warehouses, Data Marts etc.')\", \"('P7_a_8 ', 'Desenvolvo/cuido da manutenção de planilhas para atender as áreas de negócio.')\", \"('P7_a_9 ', 'Utilizo ferramentas avançadas de estatística como SAS')\", \"('P7_a_10 ', 'Nenhuma das opções listadas refletem meu dia a dia.')\", \"('P7_b ', 'Quais as ferramentas/tecnologias de ETL que você utiliza no trabalho como Data Analyst?')\", \"('P7_b_1 ', 'Scripts Python')\", \"('P7_b_2 ', 'SQL & Stored Procedures')\", \"('P7_b_3 ', 'Apache Airflow')\", \"('P7_b_4 ', 'Luigi')\", \"('P7_b_5 ', 'AWS Glue')\", \"('P7_b_6 ', 'Talend')\", \"('P7_b_7 ', 'Pentaho')\", \"('P7_b_8 ', 'Alteryx')\", \"('P7_b_9 ', 'Stitch')\", \"('P7_b_10 ', 'Fivetran')\", \"('P7_b_11 ', 'Google Dataflow')\", \"('P7_b_12 ', 'Oracle Data Integrator')\", \"('P7_b_13 ', 'IBM DataStage')\", \"('P7_b_14 ', 'SAP BW ETL')\", \"('P7_b_15 ', 'SQL Server Integration Services (SSIS)')\", \"('P7_b_16 ', 'SAS Data Integration')\", \"('P7_b_17 ', 'Qlik Sense')\", \"('P7_b_18 ', 'Knime')\", \"('P7_b_19 ', 'Databricks')\", \"('P7_b_20 ', 'Não utilizo ferramentas de ETL')\", \"('P7_c ', 'Sua empresa utiliza alguma das ferramentas listadas para dar mais autonomia em análise de dados para as áreas de negócio?')\", \"('P7_c_1 ', 'Ferramentas de AutoML como H2O.ai, Data Robot, BigML etc.')\", '(\\'P7_c_2 \\', \\'\"\"Point and Click\"\" Analytics como Alteryx, Knime, Rapidminer etc.\\')', \"('P7_c_3 ', 'Product metricts & Insights como Mixpanel, Amplitude, Adobe Analytics.')\", \"('P7_c_4 ', 'Ferramentas de análise dentro de ferramentas de CRM como Salesforce Einstein Anaytics ou Zendesk dashboards.')\", \"('P7_c_5 ', 'Minha empresa não utiliza essas ferramentas.')\", \"('P7_c_6 ', 'Não sei informar.')\", \"('P7_d ', 'Em qual das opções abaixo você gasta a maior parte do seu tempo de trabalho?')\", \"('P7_d_1 ', 'Processando e analisando dados utilizando linguagens de programação como Python, R etc.')\", \"('P7_d_2 ', 'Realizando construções de dashboards em ferramentas de BI como PowerBI, Tableau, Looker, Qlik etc.')\", \"('P7_d_3 ', 'Criando consultas através da linguagem SQL para exportar informações e compartilhar com as áreas de negócio.')\", \"('P7_d_4 ', 'Utilizando API's para extrair dados e complementar minhas análises.')\", \"('P7_d_5 ', 'Realizando experimentos e estudos utilizando metodologias estatísticas como teste de hipótese, modelos de regressão etc.')\", \"('P7_d_6 ', 'Desenvolvendo/cuidando da manutenção de ETL's utilizando tecnologias como Talend, Pentaho, Airflow, Dataflow etc.')\", \"('P7_d_7 ', 'Atuando na modelagem dos dados, com o objetivo de criar conjuntos de dados, Data Warehouses, Data Marts etc.')\", \"('P7_d_8 ', 'Desenvolvendo/cuidando da manutenção de planilhas do Excel ou Google Sheets para atender as áreas de negócio.')\", \"('P7_d_9 ', 'Utilizando ferramentas avançadas de estatística como SAS, SPSS, Stata etc, para realizar análises.')\", \"('P7_d_10 ', 'Nenhuma das opções listadas refletem meu dia a dia.')\", \"('P8_a ', 'Quais das opções abaixo fazem parte da sua rotina no trabalho atual com ciência de dados?')\", \"('P8_a_1 ', 'Estudos Ad-hoc com o objetivo de confirmar hipóteses, realizar modelos preditivos, forecasts, análise de cluster para resolver problemas pontuais e responder perguntas das áreas de negócio.')\", \"('P8_a_2 ', 'Sou responsável pela coleta e limpeza dos dados que uso para análise e modelagem.')\", \"('P8_a_3 ', 'Sou responsável por entrar em contato com os times de negócio para definição do problema, identificar a solução e apresentação de resultados.')\", \"('P8_a_4 ', 'Desenvolvo modelos de Machine Learning com o objetivo de colocar em produção em sistemas (produtos de dados).')\", \"('P8_a_5 ', 'Sou responsável por colocar modelos em produção, criar os pipelines de dados, APIs de consumo e monitoramento.')\", \"('P8_a_6 ', 'Cuido da manutenção de modelos de Machine Learning já em produção, atuando no monitoramento, ajustes e refatoração quando necessário.')\", \"('P8_a_7 ', 'Realizo construções de dashboards em ferramentas de BI como PowerBI, Tableau, Looker, Qlik, etc')\", \"('P8_a_8 ', 'Utilizo ferramentas avançadas de estatística como SAS, SPSS, Stata etc, para realizar análises estatísticas e ajustar modelos.Crio e dou manutenção em ETLs, DAGs e automações de pipelines de dados.')\", \"('P8_a_9 ', 'Crio e dou manutenção em ETLs, DAGs e automações de pipelines de dados.')\", \"('P8_a_10 ', 'Crio e gerencio soluções de Feature Store e cultura de MLOps.')\", \"('P8_a_11 ', 'Sou responsável por criar e manter a infra que meus modelos e soluções rodam (clusters, servidores, API, containers, etc.)')\", \"('P8_b ', 'Quais as técnicas e métodos listados abaixo você costuma utilizar no trabalho?')\", \"('P8_b_1 ', 'Utilizo modelos de regressão (linear, logística, GLM)')\", \"('P8_b_2 ', 'Utilizo redes neurais ou modelos baseados em árvore para criar modelos de classificação')\", \"('P8_b_3 ', 'Desenvolvo sistemas de recomendação (RecSys)')\", \"('P8_b_4 ', 'Utilizo métodos estatísticos Bayesianos para analisar dados')\", \"('P8_b_5 ', 'Utilizo técnicas de NLP (Natural Language Processing) para análisar dados não-estruturados')\", \"('P8_b_6 ', 'Utilizo métodos estatísticos clássicos (Testes de hipótese, análise multivariada, sobrevivência, dados longitudinais, inferência estatistica) para analisar dados')\", \"('P8_b_7 ', 'Utilizo cadeias de Markov ou HMM's para realizar análises de dados')\", \"('P8_b_8 ', 'Desenvolvo técnicas de Clusterização (K-means, Spectral, DBScan etc)')\", \"('P8_b_9 ', 'Realizo previsões através de modelos de Séries Temporais (Time Series)')\", \"('P8_b_10 ', 'Utilizo modelos de Reinforcement Learning (aprendizado por reforço)')\", \"('P8_b_11 ', 'Utilizo modelos de Machine Learning para detecção de fraude')\", \"('P8_b_l ', 'Utilizo métodos de Visão Computacional')\", \"('P8_b_m ', 'Utilizo modelos de Detecção de Churn')\", \"('P8_3 ', 'Quais dessas tecnologias fazem parte do seu dia a dia como cientista de dados?')\", \"('P8_c_1 ', 'Ferramentas de BI (PowerBI, Looker, Tableau, Qlik etc)')\", \"('P8_c_2 ', 'Planilhas (Excel, Google Sheets etc)')\", \"('P8_c_3 ', 'Ambientes de desenvolvimento local (R-studio, JupyterLab, Anaconda)')\", \"('P8_c_4 ', 'Ambientes de desenvolvimento na nuvem (Google Colab, AWS Sagemaker, Kaggle Notebooks etc)')\", \"('P8_c_5 ', 'Ferramentas de AutoML (Datarobot, H2O, Auto-Keras etc)')\", \"('P8_c_6 ', 'Ferramentas de ETL (Apache Airflow, NiFi, Stitch, Fivetran, Pentaho etc)')\", \"('P8_c_7 ', 'Plataformas de Machine Learning (TensorFlow, Azure Machine Learning, Kubeflow etc)')\", \"('P8_c_8 ', 'Feature Store (Feast, Hopsworks, AWS Feature Store, Databricks Feature Store etc)')\", \"('P8_c_9 ', 'Sistemas de controle de versão (Github, DVC, Neptune, Gitlab etc)')\", \"('P8_c_10 ', 'Plataformas de Data Apps (Streamlit, Shiny, Plotly Dash etc)')\", \"('P8_c_11 ', 'Ferramentas de estatística avançada como SPSS, SAS, etc.')\", \"('P8_d ', 'Em qual das opções abaixo você gasta a maior parte do seu tempo no trabalho?')\", \"('P8_d_1 ', 'Estudos Ad-hoc com o objetivo de confirmar hipóteses, realizar modelos preditivos, forecasts, análise de cluster para resolver problemas pontuais e responder perguntas das áreas de negócio.')\", \"('P8_d_2 ', 'Coletando e limpando os dados que uso para análise e modelagem.')\", \"('P8_d_3 ', 'Entrando em contato com os times de negócio para definição do problema, identificar a solução e apresentação de resultados.')\", \"('P8_d_4 ', 'Desenvolvendo modelos de Machine Learning com o objetivo de colocar em produção em sistemas (produtos de dados).')\", \"('P8_d_5 ', 'Colocando modelos em produção, criando os pipelines de dados, APIs de consumo e monitoramento.')\", \"('P8_d_6 ', 'Cuidando da manutenção de modelos de Machine Learning já em produção, atuando no monitoramento, ajustes e refatoração quando necessário.')\", \"('P8_d_7 ', 'Realizando construções de dashboards em ferramentas de BI como PowerBI, Tableau, Looker, Qlik, etc.')\", \"('P8_d_8 ', 'Utilizando ferramentas avançadas de estatística como SAS, SPSS, Stata etc, para realizar análises.')\", \"('P8_d_9 ', 'Criando e dando manutenção em ETLs, DAGs e automações de pipelines de dados.')\", \"('P8_d_10 ', 'Criando e gerenciando soluções de Feature Store e cultura de MLOps.')\", \"('P8_d_11 ', 'Criando e mantendo a infra que meus modelos e soluções rodam (clusters, servidores, API, containers, etc.)')\"]\n"
     ]
    }
   ],
   "source": [
    "print(df_2022.columns.tolist())"
   ]
  },
  {
   "cell_type": "code",
   "execution_count": 6,
   "id": "ef3ed682",
   "metadata": {},
   "outputs": [],
   "source": [
    "mapa_renomeacao_2022 = {\n",
    "    # === DEMOGRAFIA E EXPERIÊNCIA ===\n",
    "    \"('P0', 'id')\": 'id_participante',\n",
    "    \"('P1_a ', 'Idade')\": 'idade',\n",
    "    \"('P1_a_1 ', 'Faixa idade')\": 'faixa_idade',\n",
    "    \"('P1_b ', 'Genero')\": 'genero',\n",
    "    \"('P1_c ', 'Cor/raca/etnia')\": 'etnia',\n",
    "    \"('P1_d ', 'PCD')\": 'pcd',\n",
    "    \"('P1_e ', 'experiencia_profissional_prejudicada')\": 'experiencia_prejudicada',\n",
    "    \"('P1_i_1 ', 'uf onde mora')\": 'uf_residencia',\n",
    "    \"('P1_i_2 ', 'Regiao onde mora')\": 'regiao_residencia',\n",
    "    \"('P1_k ', 'Regiao de origem')\": 'regiao_origem',\n",
    "    \"('P1_l ', 'Nivel de Ensino')\": 'nivel_ensino',\n",
    "    \"('P1_m ', 'Área de Formação')\": 'area_formacao',\n",
    "\n",
    "    # === REMUNERAÇÃO E CARREIRA ===\n",
    "    \"('P2_h ', 'Faixa salarial')\": 'faixa_salarial',\n",
    "    \"('P2_g ', 'Nivel')\": 'nivel_hierarquico',\n",
    "    \"('P2_f ', 'Cargo Atual')\": 'cargo_atual',\n",
    "    \"('P2_i ', 'Quanto tempo de experiência na área de dados você tem?')\": 'experiencia_dados_anos',\n",
    "    \"('P2_j ', 'Quanto tempo de experiência na área de TI/Engenharia de Software você teve antes de começar a trabalhar na área de dados?')\": 'experiencia_ti_anos',\n",
    "    \"('P2_a ', 'Qual sua situação atual de trabalho?')\": 'situacao_trabalho',\n",
    "    \"('P2_b ', 'Setor')\": 'setor_atuacao',\n",
    "    \"('P2_c ', 'Numero de Funcionarios')\": 'tamanho_empresa',\n",
    "    \"('P2_d ', 'Gestor?')\": 'atua_como_gestor',\n",
    "\n",
    "    # === FERRAMENTAS E TECNOLOGIAS (MULTISELEÇÃO E PRINCIPAIS) ===\n",
    "    \"('P4_d ', 'Quais das linguagens listadas abaixo você utiliza no trabalho?')\": 'linguagens_usadas_dia_a_dia',\n",
    "    \"('P4_e ', 'Entre as linguagens listadas abaixo, qual é a que você mais utiliza no trabalho?')\": 'linguagem_principal',\n",
    "    \"('P4_f ', 'Entre as linguagens listadas abaixo, qual é a sua preferida?')\": 'linguagem_preferida',\n",
    "    \"('P4_g ', 'Quais dos bancos de dados/fontes de dados listados abaixo você utiliza no trabalho?')\": 'bancos_dados_usados_dia_a_dia',\n",
    "    \"('P4_g ', 'Quais das opções de Cloud listadas abaixo você utiliza no trabalho?')\": 'clouds_utilizadas', # Nota: Mapeando para o mesmo alvo de 2024\n",
    "    \"('P4_h ', 'Dentre as opções listadas, qual sua Cloud preferida?')\": 'cloud_preferida',\n",
    "    \"('P4_i ', 'Microsoft PowerBI')\": 'ferramentas_bi_usadas_dia_a_dia', # Nota: Em 2022, esta era a pergunta de BI\n",
    "    # \"('P4_k ', 'Qual sua ferramenta de BI preferida?')\": 'bi_preferida', # Esta pergunta não parece existir em 2022\n",
    "\n",
    "    # === MODELO DE TRABALHO E SATISFAÇÃO ===\n",
    "    \"('P2_p ', 'Atualmente qual a sua forma de trabalho?')\": 'modelo_trabalho_atual',\n",
    "    \"('P2_q ', 'Qual a forma de trabalho ideal para você?')\": 'modelo_trabalho_ideal',\n",
    "    \"('P2_k ', 'Você está satisfeito na sua empresa atual?')\": 'satisfacao_trabalho',\n",
    "    \"('P2_l ', 'Qual o principal motivo da sua insatisfação com a empresa atual?')\": 'motivos_insatisfacao',\n",
    "    \"('P2_n ', 'Você pretende mudar de emprego nos próximos 6 meses?')\": 'planos_mudar_emprego',\n",
    "    \"('P2_m ', 'Você participou de entrevistas de emprego nos últimos 6 meses?')\": 'entrevistas_ultimos_6m',\n",
    "    \"('P2_o ', 'Quais os principais critérios que você leva em consideração no momento de decidir onde trabalhar?')\": 'criterios_escolha_emprego',\n",
    "    \"('P2_s ', 'Sua empresa passu por Layoff em 2022?')\": 'empresa_teve_layoff_2022',\n",
    "\n",
    "    # === CONTEXTO DA EMPRESA E GESTÃO ===\n",
    "    \"('P3_a ', 'Qual o número aproximado de pessoas que atuam com dados na sua empresa hoje?')\": 'tamanho_equipe_dados',\n",
    "    \"('P3_d ', 'Quais são os 3 maiores desafios que você tem como gestor no atual momento?')\": 'desafios_gestor',\n",
    "\n",
    "    # === BUSCA POR EMPREGO ===\n",
    "    \"('P5_c ', 'Há quanto tempo você busca uma oportunidade na área de dados?')\": 'tempo_busca_emprego_meses',\n",
    "    \"('P5_b ', 'Qual oportunidade você está buscando?')\": 'tipo_oportunidade_buscada'\n",
    "}"
   ]
  },
  {
   "cell_type": "code",
   "execution_count": 7,
   "id": "2830c424",
   "metadata": {},
   "outputs": [
    {
     "data": {
      "text/plain": [
       "40"
      ]
     },
     "execution_count": 7,
     "metadata": {},
     "output_type": "execute_result"
    }
   ],
   "source": [
    "len(mapa_renomeacao_2022)"
   ]
  },
  {
   "cell_type": "code",
   "execution_count": 8,
   "id": "899b2615",
   "metadata": {},
   "outputs": [],
   "source": [
    "df_2022_renomeado = df_2022.rename(columns=mapa_renomeacao_2022)"
   ]
  },
  {
   "cell_type": "code",
   "execution_count": 9,
   "id": "4a4b9ab8",
   "metadata": {},
   "outputs": [
    {
     "data": {
      "text/html": [
       "<div>\n",
       "<style scoped>\n",
       "    .dataframe tbody tr th:only-of-type {\n",
       "        vertical-align: middle;\n",
       "    }\n",
       "\n",
       "    .dataframe tbody tr th {\n",
       "        vertical-align: top;\n",
       "    }\n",
       "\n",
       "    .dataframe thead th {\n",
       "        text-align: right;\n",
       "    }\n",
       "</style>\n",
       "<table border=\"1\" class=\"dataframe\">\n",
       "  <thead>\n",
       "    <tr style=\"text-align: right;\">\n",
       "      <th></th>\n",
       "      <th>id_participante</th>\n",
       "      <th>idade</th>\n",
       "      <th>faixa_idade</th>\n",
       "      <th>genero</th>\n",
       "      <th>etnia</th>\n",
       "      <th>pcd</th>\n",
       "      <th>experiencia_prejudicada</th>\n",
       "      <th>('P1_f ', 'aspectos_prejudicados')</th>\n",
       "      <th>('P1_g ', 'vive_no_brasil')</th>\n",
       "      <th>('P1_i ', 'Estado onde mora')</th>\n",
       "      <th>...</th>\n",
       "      <th>('P8_d_2 ', 'Coletando e limpando os dados que uso para análise e modelagem.')</th>\n",
       "      <th>('P8_d_3 ', 'Entrando em contato com os times de negócio para definição do problema, identificar a solução e apresentação de resultados.')</th>\n",
       "      <th>('P8_d_4 ', 'Desenvolvendo modelos de Machine Learning com o objetivo de colocar em produção em sistemas (produtos de dados).')</th>\n",
       "      <th>('P8_d_5 ', 'Colocando modelos em produção, criando os pipelines de dados, APIs de consumo e monitoramento.')</th>\n",
       "      <th>('P8_d_6 ', 'Cuidando da manutenção de modelos de Machine Learning já em produção, atuando no monitoramento, ajustes e refatoração quando necessário.')</th>\n",
       "      <th>('P8_d_7 ', 'Realizando construções de dashboards em ferramentas de BI como PowerBI, Tableau, Looker, Qlik, etc.')</th>\n",
       "      <th>('P8_d_8 ', 'Utilizando ferramentas avançadas de estatística como SAS, SPSS, Stata etc, para realizar análises.')</th>\n",
       "      <th>('P8_d_9 ', 'Criando e dando manutenção em ETLs, DAGs e automações de pipelines de dados.')</th>\n",
       "      <th>('P8_d_10 ', 'Criando e gerenciando soluções de Feature Store e cultura de MLOps.')</th>\n",
       "      <th>('P8_d_11 ', 'Criando e mantendo a infra que meus modelos e soluções rodam (clusters, servidores, API, containers, etc.)')</th>\n",
       "    </tr>\n",
       "  </thead>\n",
       "  <tbody>\n",
       "    <tr>\n",
       "      <th>0</th>\n",
       "      <td>zzqzz3l9ily8nuo2m7wyzzqzz3w48o96</td>\n",
       "      <td>39.0</td>\n",
       "      <td>35-39</td>\n",
       "      <td>Masculino</td>\n",
       "      <td>Parda</td>\n",
       "      <td>Não</td>\n",
       "      <td>Não acredito que minha experiência profissiona...</td>\n",
       "      <td>NaN</td>\n",
       "      <td>True</td>\n",
       "      <td>Distrito Federal (DF)</td>\n",
       "      <td>...</td>\n",
       "      <td>NaN</td>\n",
       "      <td>NaN</td>\n",
       "      <td>NaN</td>\n",
       "      <td>NaN</td>\n",
       "      <td>NaN</td>\n",
       "      <td>NaN</td>\n",
       "      <td>NaN</td>\n",
       "      <td>NaN</td>\n",
       "      <td>NaN</td>\n",
       "      <td>NaN</td>\n",
       "    </tr>\n",
       "    <tr>\n",
       "      <th>1</th>\n",
       "      <td>zzls2oftfn9law393oezzls2ofhvfpzd</td>\n",
       "      <td>32.0</td>\n",
       "      <td>30-34</td>\n",
       "      <td>Masculino</td>\n",
       "      <td>Parda</td>\n",
       "      <td>Não</td>\n",
       "      <td>Sim, acredito que a minha a experiência profis...</td>\n",
       "      <td>Aprovação em processos seletivos/entrevistas</td>\n",
       "      <td>True</td>\n",
       "      <td>Pará (PA)</td>\n",
       "      <td>...</td>\n",
       "      <td>NaN</td>\n",
       "      <td>NaN</td>\n",
       "      <td>NaN</td>\n",
       "      <td>NaN</td>\n",
       "      <td>NaN</td>\n",
       "      <td>NaN</td>\n",
       "      <td>NaN</td>\n",
       "      <td>NaN</td>\n",
       "      <td>NaN</td>\n",
       "      <td>NaN</td>\n",
       "    </tr>\n",
       "    <tr>\n",
       "      <th>2</th>\n",
       "      <td>zzdwqzfqqp1ypc7ps6m0hzzdwqz292yi</td>\n",
       "      <td>53.0</td>\n",
       "      <td>50-54</td>\n",
       "      <td>Masculino</td>\n",
       "      <td>Branca</td>\n",
       "      <td>Não</td>\n",
       "      <td>NaN</td>\n",
       "      <td>NaN</td>\n",
       "      <td>True</td>\n",
       "      <td>Distrito Federal (DF)</td>\n",
       "      <td>...</td>\n",
       "      <td>0.0</td>\n",
       "      <td>1.0</td>\n",
       "      <td>0.0</td>\n",
       "      <td>0.0</td>\n",
       "      <td>0.0</td>\n",
       "      <td>0.0</td>\n",
       "      <td>0.0</td>\n",
       "      <td>0.0</td>\n",
       "      <td>0.0</td>\n",
       "      <td>0.0</td>\n",
       "    </tr>\n",
       "    <tr>\n",
       "      <th>3</th>\n",
       "      <td>zzbqh3uy7yk7k9qmkzzbqtb4s9faqspl</td>\n",
       "      <td>27.0</td>\n",
       "      <td>25-29</td>\n",
       "      <td>Masculino</td>\n",
       "      <td>Branca</td>\n",
       "      <td>Não</td>\n",
       "      <td>NaN</td>\n",
       "      <td>NaN</td>\n",
       "      <td>True</td>\n",
       "      <td>Minas Gerais (MG)</td>\n",
       "      <td>...</td>\n",
       "      <td>1.0</td>\n",
       "      <td>0.0</td>\n",
       "      <td>0.0</td>\n",
       "      <td>0.0</td>\n",
       "      <td>0.0</td>\n",
       "      <td>0.0</td>\n",
       "      <td>0.0</td>\n",
       "      <td>0.0</td>\n",
       "      <td>0.0</td>\n",
       "      <td>0.0</td>\n",
       "    </tr>\n",
       "    <tr>\n",
       "      <th>4</th>\n",
       "      <td>zzaf1m95yan929rb94wzzaf1mekhvhpg</td>\n",
       "      <td>46.0</td>\n",
       "      <td>45-49</td>\n",
       "      <td>Feminino</td>\n",
       "      <td>Branca</td>\n",
       "      <td>Não</td>\n",
       "      <td>Não acredito que minha experiência profissiona...</td>\n",
       "      <td>NaN</td>\n",
       "      <td>True</td>\n",
       "      <td>Pará (PA)</td>\n",
       "      <td>...</td>\n",
       "      <td>NaN</td>\n",
       "      <td>NaN</td>\n",
       "      <td>NaN</td>\n",
       "      <td>NaN</td>\n",
       "      <td>NaN</td>\n",
       "      <td>NaN</td>\n",
       "      <td>NaN</td>\n",
       "      <td>NaN</td>\n",
       "      <td>NaN</td>\n",
       "      <td>NaN</td>\n",
       "    </tr>\n",
       "    <tr>\n",
       "      <th>...</th>\n",
       "      <td>...</td>\n",
       "      <td>...</td>\n",
       "      <td>...</td>\n",
       "      <td>...</td>\n",
       "      <td>...</td>\n",
       "      <td>...</td>\n",
       "      <td>...</td>\n",
       "      <td>...</td>\n",
       "      <td>...</td>\n",
       "      <td>...</td>\n",
       "      <td>...</td>\n",
       "      <td>...</td>\n",
       "      <td>...</td>\n",
       "      <td>...</td>\n",
       "      <td>...</td>\n",
       "      <td>...</td>\n",
       "      <td>...</td>\n",
       "      <td>...</td>\n",
       "      <td>...</td>\n",
       "      <td>...</td>\n",
       "      <td>...</td>\n",
       "    </tr>\n",
       "    <tr>\n",
       "      <th>4266</th>\n",
       "      <td>01jnrn9f6va0menfhk2ztm01jnrn96bp</td>\n",
       "      <td>26.0</td>\n",
       "      <td>25-29</td>\n",
       "      <td>Masculino</td>\n",
       "      <td>Branca</td>\n",
       "      <td>Não</td>\n",
       "      <td>NaN</td>\n",
       "      <td>NaN</td>\n",
       "      <td>True</td>\n",
       "      <td>São Paulo (SP)</td>\n",
       "      <td>...</td>\n",
       "      <td>NaN</td>\n",
       "      <td>NaN</td>\n",
       "      <td>NaN</td>\n",
       "      <td>NaN</td>\n",
       "      <td>NaN</td>\n",
       "      <td>NaN</td>\n",
       "      <td>NaN</td>\n",
       "      <td>NaN</td>\n",
       "      <td>NaN</td>\n",
       "      <td>NaN</td>\n",
       "    </tr>\n",
       "    <tr>\n",
       "      <th>4267</th>\n",
       "      <td>01dyfxam4u4bi29fem01dyfxaq9akvqp</td>\n",
       "      <td>30.0</td>\n",
       "      <td>30-34</td>\n",
       "      <td>Feminino</td>\n",
       "      <td>Branca</td>\n",
       "      <td>Não</td>\n",
       "      <td>Não acredito que minha experiência profissiona...</td>\n",
       "      <td>NaN</td>\n",
       "      <td>True</td>\n",
       "      <td>Minas Gerais (MG)</td>\n",
       "      <td>...</td>\n",
       "      <td>NaN</td>\n",
       "      <td>NaN</td>\n",
       "      <td>NaN</td>\n",
       "      <td>NaN</td>\n",
       "      <td>NaN</td>\n",
       "      <td>NaN</td>\n",
       "      <td>NaN</td>\n",
       "      <td>NaN</td>\n",
       "      <td>NaN</td>\n",
       "      <td>NaN</td>\n",
       "    </tr>\n",
       "    <tr>\n",
       "      <th>4268</th>\n",
       "      <td>00zw9ks9d40z4u00zz3d20iix65qpli3</td>\n",
       "      <td>29.0</td>\n",
       "      <td>25-29</td>\n",
       "      <td>Masculino</td>\n",
       "      <td>Branca</td>\n",
       "      <td>Não</td>\n",
       "      <td>NaN</td>\n",
       "      <td>NaN</td>\n",
       "      <td>True</td>\n",
       "      <td>São Paulo (SP)</td>\n",
       "      <td>...</td>\n",
       "      <td>NaN</td>\n",
       "      <td>NaN</td>\n",
       "      <td>NaN</td>\n",
       "      <td>NaN</td>\n",
       "      <td>NaN</td>\n",
       "      <td>NaN</td>\n",
       "      <td>NaN</td>\n",
       "      <td>NaN</td>\n",
       "      <td>NaN</td>\n",
       "      <td>NaN</td>\n",
       "    </tr>\n",
       "    <tr>\n",
       "      <th>4269</th>\n",
       "      <td>00xu7yujd7s57emj00xu7y0c3njix3de</td>\n",
       "      <td>NaN</td>\n",
       "      <td>17-21</td>\n",
       "      <td>Masculino</td>\n",
       "      <td>Branca</td>\n",
       "      <td>Não</td>\n",
       "      <td>NaN</td>\n",
       "      <td>NaN</td>\n",
       "      <td>True</td>\n",
       "      <td>São Paulo (SP)</td>\n",
       "      <td>...</td>\n",
       "      <td>NaN</td>\n",
       "      <td>NaN</td>\n",
       "      <td>NaN</td>\n",
       "      <td>NaN</td>\n",
       "      <td>NaN</td>\n",
       "      <td>NaN</td>\n",
       "      <td>NaN</td>\n",
       "      <td>NaN</td>\n",
       "      <td>NaN</td>\n",
       "      <td>NaN</td>\n",
       "    </tr>\n",
       "    <tr>\n",
       "      <th>4270</th>\n",
       "      <td>00lb35llmdsidpa00lb35qcdysnzvhv7</td>\n",
       "      <td>24.0</td>\n",
       "      <td>22-24</td>\n",
       "      <td>Masculino</td>\n",
       "      <td>Branca</td>\n",
       "      <td>Não</td>\n",
       "      <td>NaN</td>\n",
       "      <td>NaN</td>\n",
       "      <td>True</td>\n",
       "      <td>Goiás (GO)</td>\n",
       "      <td>...</td>\n",
       "      <td>NaN</td>\n",
       "      <td>NaN</td>\n",
       "      <td>NaN</td>\n",
       "      <td>NaN</td>\n",
       "      <td>NaN</td>\n",
       "      <td>NaN</td>\n",
       "      <td>NaN</td>\n",
       "      <td>NaN</td>\n",
       "      <td>NaN</td>\n",
       "      <td>NaN</td>\n",
       "    </tr>\n",
       "  </tbody>\n",
       "</table>\n",
       "<p>4271 rows × 353 columns</p>\n",
       "</div>"
      ],
      "text/plain": [
       "                       id_participante  idade faixa_idade     genero   etnia  \\\n",
       "0     zzqzz3l9ily8nuo2m7wyzzqzz3w48o96   39.0       35-39  Masculino   Parda   \n",
       "1     zzls2oftfn9law393oezzls2ofhvfpzd   32.0       30-34  Masculino   Parda   \n",
       "2     zzdwqzfqqp1ypc7ps6m0hzzdwqz292yi   53.0       50-54  Masculino  Branca   \n",
       "3     zzbqh3uy7yk7k9qmkzzbqtb4s9faqspl   27.0       25-29  Masculino  Branca   \n",
       "4     zzaf1m95yan929rb94wzzaf1mekhvhpg   46.0       45-49   Feminino  Branca   \n",
       "...                                ...    ...         ...        ...     ...   \n",
       "4266  01jnrn9f6va0menfhk2ztm01jnrn96bp   26.0       25-29  Masculino  Branca   \n",
       "4267  01dyfxam4u4bi29fem01dyfxaq9akvqp   30.0       30-34   Feminino  Branca   \n",
       "4268  00zw9ks9d40z4u00zz3d20iix65qpli3   29.0       25-29  Masculino  Branca   \n",
       "4269  00xu7yujd7s57emj00xu7y0c3njix3de    NaN       17-21  Masculino  Branca   \n",
       "4270  00lb35llmdsidpa00lb35qcdysnzvhv7   24.0       22-24  Masculino  Branca   \n",
       "\n",
       "      pcd                            experiencia_prejudicada  \\\n",
       "0     Não  Não acredito que minha experiência profissiona...   \n",
       "1     Não  Sim, acredito que a minha a experiência profis...   \n",
       "2     Não                                                NaN   \n",
       "3     Não                                                NaN   \n",
       "4     Não  Não acredito que minha experiência profissiona...   \n",
       "...   ...                                                ...   \n",
       "4266  Não                                                NaN   \n",
       "4267  Não  Não acredito que minha experiência profissiona...   \n",
       "4268  Não                                                NaN   \n",
       "4269  Não                                                NaN   \n",
       "4270  Não                                                NaN   \n",
       "\n",
       "                ('P1_f ', 'aspectos_prejudicados')  \\\n",
       "0                                              NaN   \n",
       "1     Aprovação em processos seletivos/entrevistas   \n",
       "2                                              NaN   \n",
       "3                                              NaN   \n",
       "4                                              NaN   \n",
       "...                                            ...   \n",
       "4266                                           NaN   \n",
       "4267                                           NaN   \n",
       "4268                                           NaN   \n",
       "4269                                           NaN   \n",
       "4270                                           NaN   \n",
       "\n",
       "      ('P1_g ', 'vive_no_brasil') ('P1_i ', 'Estado onde mora')  ...  \\\n",
       "0                            True         Distrito Federal (DF)  ...   \n",
       "1                            True                     Pará (PA)  ...   \n",
       "2                            True         Distrito Federal (DF)  ...   \n",
       "3                            True             Minas Gerais (MG)  ...   \n",
       "4                            True                     Pará (PA)  ...   \n",
       "...                           ...                           ...  ...   \n",
       "4266                         True                São Paulo (SP)  ...   \n",
       "4267                         True             Minas Gerais (MG)  ...   \n",
       "4268                         True                São Paulo (SP)  ...   \n",
       "4269                         True                São Paulo (SP)  ...   \n",
       "4270                         True                    Goiás (GO)  ...   \n",
       "\n",
       "     ('P8_d_2 ', 'Coletando e limpando os dados que uso para análise e modelagem.')  \\\n",
       "0                                                   NaN                               \n",
       "1                                                   NaN                               \n",
       "2                                                   0.0                               \n",
       "3                                                   1.0                               \n",
       "4                                                   NaN                               \n",
       "...                                                 ...                               \n",
       "4266                                                NaN                               \n",
       "4267                                                NaN                               \n",
       "4268                                                NaN                               \n",
       "4269                                                NaN                               \n",
       "4270                                                NaN                               \n",
       "\n",
       "     ('P8_d_3 ', 'Entrando em contato com os times de negócio para definição do problema, identificar a solução e apresentação de resultados.')  \\\n",
       "0                                                   NaN                                                                                           \n",
       "1                                                   NaN                                                                                           \n",
       "2                                                   1.0                                                                                           \n",
       "3                                                   0.0                                                                                           \n",
       "4                                                   NaN                                                                                           \n",
       "...                                                 ...                                                                                           \n",
       "4266                                                NaN                                                                                           \n",
       "4267                                                NaN                                                                                           \n",
       "4268                                                NaN                                                                                           \n",
       "4269                                                NaN                                                                                           \n",
       "4270                                                NaN                                                                                           \n",
       "\n",
       "     ('P8_d_4 ', 'Desenvolvendo modelos de Machine Learning com o objetivo de colocar em produção em sistemas (produtos de dados).')  \\\n",
       "0                                                   NaN                                                                                \n",
       "1                                                   NaN                                                                                \n",
       "2                                                   0.0                                                                                \n",
       "3                                                   0.0                                                                                \n",
       "4                                                   NaN                                                                                \n",
       "...                                                 ...                                                                                \n",
       "4266                                                NaN                                                                                \n",
       "4267                                                NaN                                                                                \n",
       "4268                                                NaN                                                                                \n",
       "4269                                                NaN                                                                                \n",
       "4270                                                NaN                                                                                \n",
       "\n",
       "     ('P8_d_5 ', 'Colocando modelos em produção, criando os pipelines de dados, APIs de consumo e monitoramento.')  \\\n",
       "0                                                   NaN                                                              \n",
       "1                                                   NaN                                                              \n",
       "2                                                   0.0                                                              \n",
       "3                                                   0.0                                                              \n",
       "4                                                   NaN                                                              \n",
       "...                                                 ...                                                              \n",
       "4266                                                NaN                                                              \n",
       "4267                                                NaN                                                              \n",
       "4268                                                NaN                                                              \n",
       "4269                                                NaN                                                              \n",
       "4270                                                NaN                                                              \n",
       "\n",
       "     ('P8_d_6 ', 'Cuidando da manutenção de modelos de Machine Learning já em produção, atuando no monitoramento, ajustes e refatoração quando necessário.')  \\\n",
       "0                                                   NaN                                                                                                        \n",
       "1                                                   NaN                                                                                                        \n",
       "2                                                   0.0                                                                                                        \n",
       "3                                                   0.0                                                                                                        \n",
       "4                                                   NaN                                                                                                        \n",
       "...                                                 ...                                                                                                        \n",
       "4266                                                NaN                                                                                                        \n",
       "4267                                                NaN                                                                                                        \n",
       "4268                                                NaN                                                                                                        \n",
       "4269                                                NaN                                                                                                        \n",
       "4270                                                NaN                                                                                                        \n",
       "\n",
       "     ('P8_d_7 ', 'Realizando construções de dashboards em ferramentas de BI como PowerBI, Tableau, Looker, Qlik, etc.')  \\\n",
       "0                                                   NaN                                                                   \n",
       "1                                                   NaN                                                                   \n",
       "2                                                   0.0                                                                   \n",
       "3                                                   0.0                                                                   \n",
       "4                                                   NaN                                                                   \n",
       "...                                                 ...                                                                   \n",
       "4266                                                NaN                                                                   \n",
       "4267                                                NaN                                                                   \n",
       "4268                                                NaN                                                                   \n",
       "4269                                                NaN                                                                   \n",
       "4270                                                NaN                                                                   \n",
       "\n",
       "     ('P8_d_8 ', 'Utilizando ferramentas avançadas de estatística como SAS, SPSS, Stata etc, para realizar análises.')  \\\n",
       "0                                                   NaN                                                                  \n",
       "1                                                   NaN                                                                  \n",
       "2                                                   0.0                                                                  \n",
       "3                                                   0.0                                                                  \n",
       "4                                                   NaN                                                                  \n",
       "...                                                 ...                                                                  \n",
       "4266                                                NaN                                                                  \n",
       "4267                                                NaN                                                                  \n",
       "4268                                                NaN                                                                  \n",
       "4269                                                NaN                                                                  \n",
       "4270                                                NaN                                                                  \n",
       "\n",
       "     ('P8_d_9 ', 'Criando e dando manutenção em ETLs, DAGs e automações de pipelines de dados.')  \\\n",
       "0                                                   NaN                                            \n",
       "1                                                   NaN                                            \n",
       "2                                                   0.0                                            \n",
       "3                                                   0.0                                            \n",
       "4                                                   NaN                                            \n",
       "...                                                 ...                                            \n",
       "4266                                                NaN                                            \n",
       "4267                                                NaN                                            \n",
       "4268                                                NaN                                            \n",
       "4269                                                NaN                                            \n",
       "4270                                                NaN                                            \n",
       "\n",
       "     ('P8_d_10 ', 'Criando e gerenciando soluções de Feature Store e cultura de MLOps.')  \\\n",
       "0                                                   NaN                                    \n",
       "1                                                   NaN                                    \n",
       "2                                                   0.0                                    \n",
       "3                                                   0.0                                    \n",
       "4                                                   NaN                                    \n",
       "...                                                 ...                                    \n",
       "4266                                                NaN                                    \n",
       "4267                                                NaN                                    \n",
       "4268                                                NaN                                    \n",
       "4269                                                NaN                                    \n",
       "4270                                                NaN                                    \n",
       "\n",
       "     ('P8_d_11 ', 'Criando e mantendo a infra que meus modelos e soluções rodam (clusters, servidores, API, containers, etc.)')  \n",
       "0                                                   NaN                                                                          \n",
       "1                                                   NaN                                                                          \n",
       "2                                                   0.0                                                                          \n",
       "3                                                   0.0                                                                          \n",
       "4                                                   NaN                                                                          \n",
       "...                                                 ...                                                                          \n",
       "4266                                                NaN                                                                          \n",
       "4267                                                NaN                                                                          \n",
       "4268                                                NaN                                                                          \n",
       "4269                                                NaN                                                                          \n",
       "4270                                                NaN                                                                          \n",
       "\n",
       "[4271 rows x 353 columns]"
      ]
     },
     "execution_count": 9,
     "metadata": {},
     "output_type": "execute_result"
    }
   ],
   "source": [
    "df_2022_renomeado"
   ]
  },
  {
   "cell_type": "markdown",
   "id": "70305a9f",
   "metadata": {},
   "source": [
    "## 3 - Tratando coluna de salário"
   ]
  },
  {
   "cell_type": "code",
   "execution_count": 10,
   "id": "2ec064db",
   "metadata": {},
   "outputs": [
    {
     "data": {
      "text/plain": [
       "13"
      ]
     },
     "execution_count": 10,
     "metadata": {},
     "output_type": "execute_result"
    }
   ],
   "source": [
    "len(df_2022_renomeado['faixa_salarial'].value_counts())"
   ]
  },
  {
   "cell_type": "code",
   "execution_count": 11,
   "id": "4a171851",
   "metadata": {},
   "outputs": [
    {
     "data": {
      "text/plain": [
       "faixa_salarial\n",
       "de R$ 8.001/mês a R$ 12.000/mês     752\n",
       "de R$ 4.001/mês a R$ 6.000/mês      584\n",
       "de R$ 6.001/mês a R$ 8.000/mês      527\n",
       "de R$ 12.001/mês a R$ 16.000/mês    437\n",
       "de R$ 3.001/mês a R$ 4.000/mês      303\n",
       "de R$ 2.001/mês a R$ 3.000/mês      285\n",
       "de R$ 16.001/mês a R$ 20.000/mês    229\n",
       "de R$ 1.001/mês a R$ 2.000/mês      216\n",
       "de R$ 20.001/mês a R$ 25.000/mês    134\n",
       "de R$ 25.001/mês a R$ 30.000/mês     77\n",
       "de R$ 30.001/mês a R$ 40.000/mês     70\n",
       "Acima de R$ 40.001/mês               45\n",
       "Menos de R$ 1.000/mês                35\n",
       "Name: count, dtype: int64"
      ]
     },
     "execution_count": 11,
     "metadata": {},
     "output_type": "execute_result"
    }
   ],
   "source": [
    "df_2022_renomeado['faixa_salarial'].value_counts()"
   ]
  },
  {
   "cell_type": "code",
   "execution_count": 12,
   "id": "590be7d5",
   "metadata": {},
   "outputs": [
    {
     "data": {
      "text/plain": [
       "np.int64(577)"
      ]
     },
     "execution_count": 12,
     "metadata": {},
     "output_type": "execute_result"
    }
   ],
   "source": [
    "df_2022_renomeado['faixa_salarial'].isnull().sum()"
   ]
  },
  {
   "cell_type": "code",
   "execution_count": 13,
   "id": "04e8462a",
   "metadata": {},
   "outputs": [
    {
     "name": "stdout",
     "output_type": "stream",
     "text": [
      "criando coluna salario_medio_mensal\n",
      "0       10000.5\n",
      "1        5000.5\n",
      "2       14000.5\n",
      "3       14000.5\n",
      "4        7000.5\n",
      "         ...   \n",
      "4266     5000.5\n",
      "4267     3500.5\n",
      "4268    18000.5\n",
      "4269     1000.0\n",
      "4270     3500.5\n",
      "Name: salario_medio_mensal, Length: 4271, dtype: float64\n"
     ]
    }
   ],
   "source": [
    "print(\"criando coluna salario_medio_mensal\")\n",
    "\n",
    "df_2022_renomeado['salario_medio_mensal'] = df_2022_renomeado['faixa_salarial'].apply(dc.converter_faixa_salarial)\n",
    "\n",
    "print(df_2022_renomeado['salario_medio_mensal'])"
   ]
  },
  {
   "cell_type": "code",
   "execution_count": 14,
   "id": "07439c25",
   "metadata": {},
   "outputs": [
    {
     "data": {
      "text/html": [
       "<div>\n",
       "<style scoped>\n",
       "    .dataframe tbody tr th:only-of-type {\n",
       "        vertical-align: middle;\n",
       "    }\n",
       "\n",
       "    .dataframe tbody tr th {\n",
       "        vertical-align: top;\n",
       "    }\n",
       "\n",
       "    .dataframe thead th {\n",
       "        text-align: right;\n",
       "    }\n",
       "</style>\n",
       "<table border=\"1\" class=\"dataframe\">\n",
       "  <thead>\n",
       "    <tr style=\"text-align: right;\">\n",
       "      <th></th>\n",
       "      <th>salario_medio_mensal</th>\n",
       "      <th>faixa_salarial</th>\n",
       "    </tr>\n",
       "  </thead>\n",
       "  <tbody>\n",
       "    <tr>\n",
       "      <th>0</th>\n",
       "      <td>10000.5</td>\n",
       "      <td>de R$ 8.001/mês a R$ 12.000/mês</td>\n",
       "    </tr>\n",
       "    <tr>\n",
       "      <th>1</th>\n",
       "      <td>5000.5</td>\n",
       "      <td>de R$ 4.001/mês a R$ 6.000/mês</td>\n",
       "    </tr>\n",
       "    <tr>\n",
       "      <th>2</th>\n",
       "      <td>14000.5</td>\n",
       "      <td>de R$ 12.001/mês a R$ 16.000/mês</td>\n",
       "    </tr>\n",
       "    <tr>\n",
       "      <th>3</th>\n",
       "      <td>14000.5</td>\n",
       "      <td>de R$ 12.001/mês a R$ 16.000/mês</td>\n",
       "    </tr>\n",
       "    <tr>\n",
       "      <th>4</th>\n",
       "      <td>7000.5</td>\n",
       "      <td>de R$ 6.001/mês a R$ 8.000/mês</td>\n",
       "    </tr>\n",
       "  </tbody>\n",
       "</table>\n",
       "</div>"
      ],
      "text/plain": [
       "   salario_medio_mensal                    faixa_salarial\n",
       "0               10000.5   de R$ 8.001/mês a R$ 12.000/mês\n",
       "1                5000.5    de R$ 4.001/mês a R$ 6.000/mês\n",
       "2               14000.5  de R$ 12.001/mês a R$ 16.000/mês\n",
       "3               14000.5  de R$ 12.001/mês a R$ 16.000/mês\n",
       "4                7000.5    de R$ 6.001/mês a R$ 8.000/mês"
      ]
     },
     "execution_count": 14,
     "metadata": {},
     "output_type": "execute_result"
    }
   ],
   "source": [
    "df_2022_renomeado[['salario_medio_mensal', 'faixa_salarial']].head(5)"
   ]
  },
  {
   "cell_type": "markdown",
   "id": "fa0d41ff",
   "metadata": {},
   "source": [
    "## 4 - LImpando coluna cargo"
   ]
  },
  {
   "cell_type": "code",
   "execution_count": 15,
   "id": "987b7d36",
   "metadata": {},
   "outputs": [
    {
     "data": {
      "text/plain": [
       "nivel_hierarquico\n",
       "Pleno     1060\n",
       "Júnior    1023\n",
       "Sênior     898\n",
       "Name: count, dtype: int64"
      ]
     },
     "execution_count": 15,
     "metadata": {},
     "output_type": "execute_result"
    }
   ],
   "source": [
    "df_2022_renomeado['nivel_hierarquico'].value_counts()"
   ]
  },
  {
   "cell_type": "code",
   "execution_count": 16,
   "id": "1dad95c9",
   "metadata": {},
   "outputs": [
    {
     "data": {
      "text/plain": [
       "np.int64(1290)"
      ]
     },
     "execution_count": 16,
     "metadata": {},
     "output_type": "execute_result"
    }
   ],
   "source": [
    "df_2022_renomeado['cargo_atual'].isnull().sum()"
   ]
  },
  {
   "cell_type": "code",
   "execution_count": 17,
   "id": "7214a140",
   "metadata": {},
   "outputs": [
    {
     "data": {
      "text/plain": [
       "cargo_atual\n",
       "Analista de Dados/Data Analyst                                         639\n",
       "Cientista de Dados/Data Scientist                                      556\n",
       "Engenheiro de Dados/Arquiteto de Dados/Data Engineer/Data Architect    490\n",
       "Analista de BI/BI Analyst                                              378\n",
       "Outra Opção                                                            281\n",
       "Analista de Negócios/Business Analyst                                  123\n",
       "Desenvolvedor/ Engenheiro de Software/ Analista de Sistemas            106\n",
       "Analista de Suporte/Analista Técnico                                    72\n",
       "Analytics Engineer                                                      70\n",
       "Engenheiro de Machine Learning/ML Engineer                              69\n",
       "Product Manager/ Product Owner (PM/APM/DPM/GPM/PO)                      51\n",
       "Analista de Inteligência de Mercado/Market Intelligence                 29\n",
       "Outras Engenharias (não inclui dev)                                     28\n",
       "Professor                                                               23\n",
       "Estatístico                                                             19\n",
       "Analista de Marketing                                                   19\n",
       "Economista                                                              16\n",
       "DBA/Administrador de Banco de Dados                                     12\n",
       "Name: count, dtype: int64"
      ]
     },
     "execution_count": 17,
     "metadata": {},
     "output_type": "execute_result"
    }
   ],
   "source": [
    "df_2022_renomeado['cargo_atual'].value_counts()"
   ]
  },
  {
   "cell_type": "code",
   "execution_count": 18,
   "id": "7ebde355",
   "metadata": {},
   "outputs": [
    {
     "name": "stdout",
     "output_type": "stream",
     "text": [
      "Coluna \"grupo_atual\" criado com sucesso\n"
     ]
    }
   ],
   "source": [
    "df_2022_renomeado['grupo_cargo'] = df_2022_renomeado['cargo_atual'].apply(dc.agrupar_cargo)\n",
    "print('Coluna \"grupo_atual\" criado com sucesso')"
   ]
  },
  {
   "cell_type": "code",
   "execution_count": 19,
   "id": "9f68f607",
   "metadata": {},
   "outputs": [
    {
     "data": {
      "text/plain": [
       "grupo_cargo\n",
       "Não se aplica/Outra área      1290\n",
       "Analista de Dados              639\n",
       "Outros                         593\n",
       "Cientista de Dados             556\n",
       "Engenheiro de Dados            502\n",
       "Analista de BI                 378\n",
       "Analista de Negócios           123\n",
       "Engenheiro de Analytics         70\n",
       "Engenheiro de ML                69\n",
       "Gestão de Produto de Dados      51\n",
       "Name: count, dtype: int64"
      ]
     },
     "execution_count": 19,
     "metadata": {},
     "output_type": "execute_result"
    }
   ],
   "source": [
    "df_2022_renomeado['grupo_cargo'].value_counts()"
   ]
  },
  {
   "cell_type": "markdown",
   "id": "4071ed7f",
   "metadata": {},
   "source": [
    "## 5 - Tratando coluna 'experiencia_dados_anos'"
   ]
  },
  {
   "cell_type": "code",
   "execution_count": 20,
   "id": "f630bec2",
   "metadata": {},
   "outputs": [
    {
     "data": {
      "text/plain": [
       "np.int64(577)"
      ]
     },
     "execution_count": 20,
     "metadata": {},
     "output_type": "execute_result"
    }
   ],
   "source": [
    "df_2022_renomeado['experiencia_dados_anos'].isnull().sum()"
   ]
  },
  {
   "cell_type": "code",
   "execution_count": 21,
   "id": "17a2726c",
   "metadata": {},
   "outputs": [
    {
     "data": {
      "text/plain": [
       "experiencia_dados_anos\n",
       "de 1 a 2 anos                             980\n",
       "de 3 a 4 anos                             711\n",
       "Menos de 1 ano                            596\n",
       "de 4 a 6 anos                             522\n",
       "Mais de 10 anos                           403\n",
       "de 7 a 10 anos                            294\n",
       "Não tenho experiência na área de dados    188\n",
       "Name: count, dtype: int64"
      ]
     },
     "execution_count": 21,
     "metadata": {},
     "output_type": "execute_result"
    }
   ],
   "source": [
    "df_2022_renomeado['experiencia_dados_anos'].value_counts()"
   ]
  },
  {
   "cell_type": "code",
   "execution_count": 22,
   "id": "c3f505c0",
   "metadata": {},
   "outputs": [
    {
     "data": {
      "text/plain": [
       "7"
      ]
     },
     "execution_count": 22,
     "metadata": {},
     "output_type": "execute_result"
    }
   ],
   "source": [
    "len(df_2022_renomeado['experiencia_dados_anos'].value_counts())"
   ]
  },
  {
   "cell_type": "code",
   "execution_count": 23,
   "id": "e09c71e6",
   "metadata": {},
   "outputs": [
    {
     "data": {
      "text/plain": [
       "0     1.5\n",
       "1     3.5\n",
       "2     3.5\n",
       "3     5.0\n",
       "4     0.0\n",
       "5     0.0\n",
       "6     1.5\n",
       "7     0.5\n",
       "8     0.5\n",
       "9    12.0\n",
       "Name: experiencia_dados_anos, dtype: float64"
      ]
     },
     "execution_count": 23,
     "metadata": {},
     "output_type": "execute_result"
    }
   ],
   "source": [
    "df_2022_renomeado['experiencia_dados_anos'].apply(dc.converter_experiencia).head(10)"
   ]
  },
  {
   "cell_type": "code",
   "execution_count": 24,
   "id": "5c7c96cc",
   "metadata": {},
   "outputs": [],
   "source": [
    "df_2022_renomeado['experiencia_anos_num'] = df_2022_renomeado['experiencia_dados_anos'].apply(dc.converter_experiencia)"
   ]
  },
  {
   "cell_type": "code",
   "execution_count": 25,
   "id": "f6698630",
   "metadata": {},
   "outputs": [
    {
     "data": {
      "text/plain": [
       "0     1.5\n",
       "1     3.5\n",
       "2     3.5\n",
       "3     5.0\n",
       "4     0.0\n",
       "5     0.0\n",
       "6     1.5\n",
       "7     0.5\n",
       "8     0.5\n",
       "9    12.0\n",
       "Name: experiencia_anos_num, dtype: float64"
      ]
     },
     "execution_count": 25,
     "metadata": {},
     "output_type": "execute_result"
    }
   ],
   "source": [
    "df_2022_renomeado['experiencia_anos_num'].head(10)"
   ]
  },
  {
   "cell_type": "code",
   "execution_count": 26,
   "id": "d30b3d48",
   "metadata": {},
   "outputs": [
    {
     "name": "stdout",
     "output_type": "stream",
     "text": [
      "577\n",
      "577\n"
     ]
    }
   ],
   "source": [
    "print(df_2022_renomeado['experiencia_anos_num'].isnull().sum())\n",
    "print(df_2022_renomeado['experiencia_dados_anos'].isnull().sum())"
   ]
  },
  {
   "cell_type": "code",
   "execution_count": 27,
   "id": "9341e929",
   "metadata": {},
   "outputs": [
    {
     "data": {
      "text/html": [
       "<div>\n",
       "<style scoped>\n",
       "    .dataframe tbody tr th:only-of-type {\n",
       "        vertical-align: middle;\n",
       "    }\n",
       "\n",
       "    .dataframe tbody tr th {\n",
       "        vertical-align: top;\n",
       "    }\n",
       "\n",
       "    .dataframe thead th {\n",
       "        text-align: right;\n",
       "    }\n",
       "</style>\n",
       "<table border=\"1\" class=\"dataframe\">\n",
       "  <thead>\n",
       "    <tr style=\"text-align: right;\">\n",
       "      <th></th>\n",
       "      <th>experiencia_anos_num</th>\n",
       "      <th>experiencia_dados_anos</th>\n",
       "    </tr>\n",
       "  </thead>\n",
       "  <tbody>\n",
       "    <tr>\n",
       "      <th>0</th>\n",
       "      <td>1.5</td>\n",
       "      <td>de 1 a 2 anos</td>\n",
       "    </tr>\n",
       "    <tr>\n",
       "      <th>1</th>\n",
       "      <td>3.5</td>\n",
       "      <td>de 3 a 4 anos</td>\n",
       "    </tr>\n",
       "    <tr>\n",
       "      <th>2</th>\n",
       "      <td>3.5</td>\n",
       "      <td>de 3 a 4 anos</td>\n",
       "    </tr>\n",
       "    <tr>\n",
       "      <th>3</th>\n",
       "      <td>5.0</td>\n",
       "      <td>de 4 a 6 anos</td>\n",
       "    </tr>\n",
       "    <tr>\n",
       "      <th>4</th>\n",
       "      <td>0.0</td>\n",
       "      <td>Não tenho experiência na área de dados</td>\n",
       "    </tr>\n",
       "    <tr>\n",
       "      <th>5</th>\n",
       "      <td>0.0</td>\n",
       "      <td>Não tenho experiência na área de dados</td>\n",
       "    </tr>\n",
       "    <tr>\n",
       "      <th>6</th>\n",
       "      <td>1.5</td>\n",
       "      <td>de 1 a 2 anos</td>\n",
       "    </tr>\n",
       "    <tr>\n",
       "      <th>7</th>\n",
       "      <td>0.5</td>\n",
       "      <td>Menos de 1 ano</td>\n",
       "    </tr>\n",
       "    <tr>\n",
       "      <th>8</th>\n",
       "      <td>0.5</td>\n",
       "      <td>Menos de 1 ano</td>\n",
       "    </tr>\n",
       "    <tr>\n",
       "      <th>9</th>\n",
       "      <td>12.0</td>\n",
       "      <td>Mais de 10 anos</td>\n",
       "    </tr>\n",
       "  </tbody>\n",
       "</table>\n",
       "</div>"
      ],
      "text/plain": [
       "   experiencia_anos_num                  experiencia_dados_anos\n",
       "0                   1.5                           de 1 a 2 anos\n",
       "1                   3.5                           de 3 a 4 anos\n",
       "2                   3.5                           de 3 a 4 anos\n",
       "3                   5.0                           de 4 a 6 anos\n",
       "4                   0.0  Não tenho experiência na área de dados\n",
       "5                   0.0  Não tenho experiência na área de dados\n",
       "6                   1.5                           de 1 a 2 anos\n",
       "7                   0.5                          Menos de 1 ano\n",
       "8                   0.5                          Menos de 1 ano\n",
       "9                  12.0                         Mais de 10 anos"
      ]
     },
     "execution_count": 27,
     "metadata": {},
     "output_type": "execute_result"
    }
   ],
   "source": [
    "df_2022_renomeado[['experiencia_anos_num', 'experiencia_dados_anos']].head(10)"
   ]
  },
  {
   "cell_type": "markdown",
   "id": "edf47533",
   "metadata": {},
   "source": [
    "## 6 - criando coluna \"ano\""
   ]
  },
  {
   "cell_type": "code",
   "execution_count": 29,
   "id": "edb15008",
   "metadata": {},
   "outputs": [
    {
     "data": {
      "text/plain": [
       "0       2022\n",
       "1       2022\n",
       "2       2022\n",
       "3       2022\n",
       "4       2022\n",
       "        ... \n",
       "4266    2022\n",
       "4267    2022\n",
       "4268    2022\n",
       "4269    2022\n",
       "4270    2022\n",
       "Name: ano, Length: 4271, dtype: int64"
      ]
     },
     "execution_count": 29,
     "metadata": {},
     "output_type": "execute_result"
    }
   ],
   "source": [
    "df_2022_renomeado['ano'] = 2022\n",
    "df_2022_renomeado['ano']"
   ]
  },
  {
   "cell_type": "markdown",
   "id": "22a577b7",
   "metadata": {},
   "source": [
    "## 7 - salvando arquivo"
   ]
  },
  {
   "cell_type": "code",
   "execution_count": 30,
   "id": "472d40ab",
   "metadata": {},
   "outputs": [],
   "source": [
    "output_path = PROCESSED_DATA_DIR / 'state_of_data_2022_limpo.csv'\n",
    "df_2022_renomeado.to_csv(output_path, index=False)"
   ]
  },
  {
   "cell_type": "code",
   "execution_count": null,
   "id": "5814d5e9",
   "metadata": {},
   "outputs": [],
   "source": []
  }
 ],
 "metadata": {
  "kernelspec": {
   "display_name": ".venv",
   "language": "python",
   "name": "python3"
  },
  "language_info": {
   "codemirror_mode": {
    "name": "ipython",
    "version": 3
   },
   "file_extension": ".py",
   "mimetype": "text/x-python",
   "name": "python",
   "nbconvert_exporter": "python",
   "pygments_lexer": "ipython3",
   "version": "3.12.3"
  }
 },
 "nbformat": 4,
 "nbformat_minor": 5
}
